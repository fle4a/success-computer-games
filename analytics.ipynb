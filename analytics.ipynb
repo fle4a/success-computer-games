{
 "cells": [
  {
   "cell_type": "code",
   "execution_count": 2,
   "metadata": {},
   "outputs": [],
   "source": [
    "import numpy as np\n",
    "import pandas as pd\n",
    "from matplotlib import pyplot as plt\n",
    "import seaborn as sns\n",
    "import scipy.stats as st"
   ]
  },
  {
   "cell_type": "markdown",
   "metadata": {},
   "source": [
    "# Анализ успешности игр\n",
    "\n",
    "Доступны исторические данные о продажах игр, оценки пользователей и экспертов, жанры и платформы. Нужно выявить определяющие успешность игры закономерности. Это позволит сделать ставку на потенциально популярный продукт и спланировать рекламные кампании. Данные до 2016 года. "
   ]
  },
  {
   "cell_type": "code",
   "execution_count": 3,
   "metadata": {},
   "outputs": [],
   "source": [
    "df = pd.read_csv('/datasets/games.csv')"
   ]
  },
  {
   "cell_type": "markdown",
   "metadata": {},
   "source": [
    "## Обзор данных"
   ]
  },
  {
   "cell_type": "code",
   "execution_count": 4,
   "metadata": {
    "scrolled": true
   },
   "outputs": [
    {
     "data": {
      "text/html": [
       "<div>\n",
       "<style scoped>\n",
       "    .dataframe tbody tr th:only-of-type {\n",
       "        vertical-align: middle;\n",
       "    }\n",
       "\n",
       "    .dataframe tbody tr th {\n",
       "        vertical-align: top;\n",
       "    }\n",
       "\n",
       "    .dataframe thead th {\n",
       "        text-align: right;\n",
       "    }\n",
       "</style>\n",
       "<table border=\"1\" class=\"dataframe\">\n",
       "  <thead>\n",
       "    <tr style=\"text-align: right;\">\n",
       "      <th></th>\n",
       "      <th>Name</th>\n",
       "      <th>Platform</th>\n",
       "      <th>Year_of_Release</th>\n",
       "      <th>Genre</th>\n",
       "      <th>NA_sales</th>\n",
       "      <th>EU_sales</th>\n",
       "      <th>JP_sales</th>\n",
       "      <th>Other_sales</th>\n",
       "      <th>Critic_Score</th>\n",
       "      <th>User_Score</th>\n",
       "      <th>Rating</th>\n",
       "    </tr>\n",
       "  </thead>\n",
       "  <tbody>\n",
       "    <tr>\n",
       "      <th>0</th>\n",
       "      <td>Wii Sports</td>\n",
       "      <td>Wii</td>\n",
       "      <td>2006.0</td>\n",
       "      <td>Sports</td>\n",
       "      <td>41.36</td>\n",
       "      <td>28.96</td>\n",
       "      <td>3.77</td>\n",
       "      <td>8.45</td>\n",
       "      <td>76.0</td>\n",
       "      <td>8</td>\n",
       "      <td>E</td>\n",
       "    </tr>\n",
       "    <tr>\n",
       "      <th>1</th>\n",
       "      <td>Super Mario Bros.</td>\n",
       "      <td>NES</td>\n",
       "      <td>1985.0</td>\n",
       "      <td>Platform</td>\n",
       "      <td>29.08</td>\n",
       "      <td>3.58</td>\n",
       "      <td>6.81</td>\n",
       "      <td>0.77</td>\n",
       "      <td>NaN</td>\n",
       "      <td>NaN</td>\n",
       "      <td>NaN</td>\n",
       "    </tr>\n",
       "    <tr>\n",
       "      <th>2</th>\n",
       "      <td>Mario Kart Wii</td>\n",
       "      <td>Wii</td>\n",
       "      <td>2008.0</td>\n",
       "      <td>Racing</td>\n",
       "      <td>15.68</td>\n",
       "      <td>12.76</td>\n",
       "      <td>3.79</td>\n",
       "      <td>3.29</td>\n",
       "      <td>82.0</td>\n",
       "      <td>8.3</td>\n",
       "      <td>E</td>\n",
       "    </tr>\n",
       "    <tr>\n",
       "      <th>3</th>\n",
       "      <td>Wii Sports Resort</td>\n",
       "      <td>Wii</td>\n",
       "      <td>2009.0</td>\n",
       "      <td>Sports</td>\n",
       "      <td>15.61</td>\n",
       "      <td>10.93</td>\n",
       "      <td>3.28</td>\n",
       "      <td>2.95</td>\n",
       "      <td>80.0</td>\n",
       "      <td>8</td>\n",
       "      <td>E</td>\n",
       "    </tr>\n",
       "    <tr>\n",
       "      <th>4</th>\n",
       "      <td>Pokemon Red/Pokemon Blue</td>\n",
       "      <td>GB</td>\n",
       "      <td>1996.0</td>\n",
       "      <td>Role-Playing</td>\n",
       "      <td>11.27</td>\n",
       "      <td>8.89</td>\n",
       "      <td>10.22</td>\n",
       "      <td>1.00</td>\n",
       "      <td>NaN</td>\n",
       "      <td>NaN</td>\n",
       "      <td>NaN</td>\n",
       "    </tr>\n",
       "  </tbody>\n",
       "</table>\n",
       "</div>"
      ],
      "text/plain": [
       "                       Name Platform  Year_of_Release         Genre  NA_sales  \\\n",
       "0                Wii Sports      Wii           2006.0        Sports     41.36   \n",
       "1         Super Mario Bros.      NES           1985.0      Platform     29.08   \n",
       "2            Mario Kart Wii      Wii           2008.0        Racing     15.68   \n",
       "3         Wii Sports Resort      Wii           2009.0        Sports     15.61   \n",
       "4  Pokemon Red/Pokemon Blue       GB           1996.0  Role-Playing     11.27   \n",
       "\n",
       "   EU_sales  JP_sales  Other_sales  Critic_Score User_Score Rating  \n",
       "0     28.96      3.77         8.45          76.0          8      E  \n",
       "1      3.58      6.81         0.77           NaN        NaN    NaN  \n",
       "2     12.76      3.79         3.29          82.0        8.3      E  \n",
       "3     10.93      3.28         2.95          80.0          8      E  \n",
       "4      8.89     10.22         1.00           NaN        NaN    NaN  "
      ]
     },
     "execution_count": 4,
     "metadata": {},
     "output_type": "execute_result"
    }
   ],
   "source": [
    "df.head(5)"
   ]
  },
  {
   "cell_type": "code",
   "execution_count": 5,
   "metadata": {},
   "outputs": [
    {
     "name": "stdout",
     "output_type": "stream",
     "text": [
      "<class 'pandas.core.frame.DataFrame'>\n",
      "RangeIndex: 16715 entries, 0 to 16714\n",
      "Data columns (total 11 columns):\n",
      " #   Column           Non-Null Count  Dtype  \n",
      "---  ------           --------------  -----  \n",
      " 0   Name             16713 non-null  object \n",
      " 1   Platform         16715 non-null  object \n",
      " 2   Year_of_Release  16446 non-null  float64\n",
      " 3   Genre            16713 non-null  object \n",
      " 4   NA_sales         16715 non-null  float64\n",
      " 5   EU_sales         16715 non-null  float64\n",
      " 6   JP_sales         16715 non-null  float64\n",
      " 7   Other_sales      16715 non-null  float64\n",
      " 8   Critic_Score     8137 non-null   float64\n",
      " 9   User_Score       10014 non-null  object \n",
      " 10  Rating           9949 non-null   object \n",
      "dtypes: float64(6), object(5)\n",
      "memory usage: 1.4+ MB\n"
     ]
    }
   ],
   "source": [
    "df.info()"
   ]
  },
  {
   "cell_type": "code",
   "execution_count": 6,
   "metadata": {},
   "outputs": [
    {
     "data": {
      "text/plain": [
       "Name                  2\n",
       "Platform              0\n",
       "Year_of_Release     269\n",
       "Genre                 2\n",
       "NA_sales              0\n",
       "EU_sales              0\n",
       "JP_sales              0\n",
       "Other_sales           0\n",
       "Critic_Score       8578\n",
       "User_Score         6701\n",
       "Rating             6766\n",
       "dtype: int64"
      ]
     },
     "execution_count": 6,
     "metadata": {},
     "output_type": "execute_result"
    }
   ],
   "source": [
    "df.isna().sum()"
   ]
  },
  {
   "cell_type": "code",
   "execution_count": 7,
   "metadata": {},
   "outputs": [
    {
     "data": {
      "text/plain": [
       "array([[<AxesSubplot:title={'center':'Year_of_Release'}>,\n",
       "        <AxesSubplot:title={'center':'NA_sales'}>],\n",
       "       [<AxesSubplot:title={'center':'EU_sales'}>,\n",
       "        <AxesSubplot:title={'center':'JP_sales'}>],\n",
       "       [<AxesSubplot:title={'center':'Other_sales'}>,\n",
       "        <AxesSubplot:title={'center':'Critic_Score'}>]], dtype=object)"
      ]
     },
     "execution_count": 7,
     "metadata": {},
     "output_type": "execute_result"
    },
    {
     "data": {
      "image/png": "[encoded data removed]",
      "text/plain": [
       "<Figure size 576x576 with 6 Axes>"
      ]
     },
     "metadata": {
      "needs_background": "light"
     },
     "output_type": "display_data"
    }
   ],
   "source": [
    "df.hist(figsize = (8,8), bins = 30)"
   ]
  },
  {
   "cell_type": "code",
   "execution_count": 8,
   "metadata": {},
   "outputs": [
    {
     "data": {
      "text/plain": [
       "<AxesSubplot:ylabel='Platform'>"
      ]
     },
     "execution_count": 8,
     "metadata": {},
     "output_type": "execute_result"
    },
    {
     "data": {
      "image/png": "[encoded data removed]",
      "text/plain": [
       "<Figure size 432x288 with 1 Axes>"
      ]
     },
     "metadata": {
      "needs_background": "light"
     },
     "output_type": "display_data"
    }
   ],
   "source": [
    "df.groupby('Platform')['Platform'].count().sort_values().plot.barh()"
   ]
  },
  {
   "cell_type": "code",
   "execution_count": 9,
   "metadata": {},
   "outputs": [
    {
     "data": {
      "text/plain": [
       "<AxesSubplot:ylabel='Genre'>"
      ]
     },
     "execution_count": 9,
     "metadata": {},
     "output_type": "execute_result"
    },
    {
     "data": {
      "image/png": "[encoded data removed]",
      "text/plain": [
       "<Figure size 432x288 with 1 Axes>"
      ]
     },
     "metadata": {
      "needs_background": "light"
     },
     "output_type": "display_data"
    }
   ],
   "source": [
    "df.groupby('Genre')['Genre'].count().sort_values().plot.barh()"
   ]
  },
  {
   "cell_type": "code",
   "execution_count": 10,
   "metadata": {
    "scrolled": true
   },
   "outputs": [
    {
     "data": {
      "text/plain": [
       "<AxesSubplot:ylabel='Rating'>"
      ]
     },
     "execution_count": 10,
     "metadata": {},
     "output_type": "execute_result"
    },
    {
     "data": {
      "image/png": "[encoded data removed]",
      "text/plain": [
       "<Figure size 432x288 with 1 Axes>"
      ]
     },
     "metadata": {
      "needs_background": "light"
     },
     "output_type": "display_data"
    }
   ],
   "source": [
    "df.groupby('Rating')['Rating'].count().sort_values().plot.barh()"
   ]
  },
  {
   "cell_type": "code",
   "execution_count": 11,
   "metadata": {},
   "outputs": [
    {
     "data": {
      "text/plain": [
       "<AxesSubplot:>"
      ]
     },
     "execution_count": 11,
     "metadata": {},
     "output_type": "execute_result"
    },
    {
     "data": {
      "image/png": "[encoded data removed]",
      "text/plain": [
       "<Figure size 432x288 with 1 Axes>"
      ]
     },
     "metadata": {
      "needs_background": "light"
     },
     "output_type": "display_data"
    }
   ],
   "source": [
    "df.query('User_Score != \"tbd\"')['User_Score'].astype(float).hist(bins = 30)"
   ]
  },
  {
   "cell_type": "markdown",
   "metadata": {},
   "source": [
    "**Вывод**\n",
    "\n",
    "1. Есть пропущенные значения в столбцах `Name`, `Year_of_Release`, `Genre`, `Critic_Score`, `User_Score`, `Rating`\n",
    "\n",
    "2. Присутствуеют аномальные значения по всех столбцах с продажами, а так же в столбце `Rating`\n",
    "\n",
    "3. В столбце `Critic_Score` распределение близко к нормальному\n",
    "\n",
    "4. В столбце `User_Score` данные имеют Пуассоновское распределение"
   ]
  },
  {
   "cell_type": "markdown",
   "metadata": {},
   "source": [
    "## Предобработка данных\n"
   ]
  },
  {
   "cell_type": "markdown",
   "metadata": {},
   "source": [
    "### Преобразование типов\n",
    "\n",
    "- Приведем все столбцы к нижнему регистру.\n",
    "- Столбец `User_Score` приведем к `float` формату, все tbd значения станут NaN, что никак не исказит данные"
   ]
  },
  {
   "cell_type": "code",
   "execution_count": 12,
   "metadata": {},
   "outputs": [],
   "source": [
    "df.columns = df.columns.str.lower()"
   ]
  },
  {
   "cell_type": "code",
   "execution_count": 13,
   "metadata": {},
   "outputs": [],
   "source": [
    "df['user_score'] = df.query('user_score != \"tbd\"')['user_score'].astype(float)"
   ]
  },
  {
   "cell_type": "markdown",
   "metadata": {},
   "source": [
    "### Столбец `Name`\n",
    "\n",
    "**Исключим все пропущенные записи, т.к их невозможно идентифицировать, возможная причина пропусков : ошибка при сборе данных**\n"
   ]
  },
  {
   "cell_type": "code",
   "execution_count": 14,
   "metadata": {},
   "outputs": [],
   "source": [
    "df = df.dropna(subset = ['name'])"
   ]
  },
  {
   "cell_type": "code",
   "execution_count": 15,
   "metadata": {},
   "outputs": [
    {
     "data": {
      "text/plain": [
       "name                  0\n",
       "platform              0\n",
       "year_of_release     269\n",
       "genre                 0\n",
       "na_sales              0\n",
       "eu_sales              0\n",
       "jp_sales              0\n",
       "other_sales           0\n",
       "critic_score       8576\n",
       "user_score         9123\n",
       "rating             6764\n",
       "dtype: int64"
      ]
     },
     "execution_count": 15,
     "metadata": {},
     "output_type": "execute_result"
    }
   ],
   "source": [
    "df.isna().sum()"
   ]
  },
  {
   "cell_type": "markdown",
   "metadata": {},
   "source": [
    "### Столбец `Year_of_Release`\n"
   ]
  },
  {
   "cell_type": "code",
   "execution_count": 16,
   "metadata": {},
   "outputs": [
    {
     "data": {
      "text/plain": [
       "0.016095255190570215"
      ]
     },
     "execution_count": 16,
     "metadata": {},
     "output_type": "execute_result"
    }
   ],
   "source": [
    "df['year_of_release'].isna().sum() / df.shape[0]"
   ]
  },
  {
   "cell_type": "markdown",
   "metadata": {},
   "source": [
    "**Пропуски состявляют 1.6% процента, поэтому удалим их. Возможная причина пропусков : недоступность информации на момент сбора данных, ошибки при сборе или обработке данных**"
   ]
  },
  {
   "cell_type": "code",
   "execution_count": 17,
   "metadata": {},
   "outputs": [],
   "source": [
    "df = df.dropna(subset = ['year_of_release'])"
   ]
  },
  {
   "cell_type": "markdown",
   "metadata": {},
   "source": [
    "### Столбцы `Critic_Score`, `User_Score`\n"
   ]
  },
  {
   "cell_type": "code",
   "execution_count": 18,
   "metadata": {},
   "outputs": [
    {
     "data": {
      "text/plain": [
       "0.5145341765993675"
      ]
     },
     "execution_count": 18,
     "metadata": {},
     "output_type": "execute_result"
    }
   ],
   "source": [
    "df['critic_score'].isna().sum() / df.shape[0]"
   ]
  },
  {
   "cell_type": "code",
   "execution_count": 19,
   "metadata": {},
   "outputs": [
    {
     "data": {
      "text/plain": [
       "0.5461566528825104"
      ]
     },
     "execution_count": 19,
     "metadata": {},
     "output_type": "execute_result"
    }
   ],
   "source": [
    "df['user_score'].isna().sum() / df.shape[0]"
   ]
  },
  {
   "cell_type": "markdown",
   "metadata": {},
   "source": [
    "**Пропуски составляют более половины данных. Оставим пропуски без изменений, чтобы не исказить данные, так же учтем что есть значение `tbd`, что означает, что данных было еще недостаточно для выставления оценки.**\n",
    "\n",
    "`Critic_Score` возможные причины пропусков : для некоторых игр критики еще не дали своих оценок на момент сбора данных. Некоторые игры могут быть недостаточно популярны или новы, чтобы привлечь внимание критиков.\n",
    "\n",
    "`User_Score` возможные причины пропусков : ошибка при получении данных, недостаток оценок."
   ]
  },
  {
   "cell_type": "markdown",
   "metadata": {},
   "source": [
    "### Столбец `Rating`"
   ]
  },
  {
   "cell_type": "code",
   "execution_count": 20,
   "metadata": {},
   "outputs": [
    {
     "data": {
      "text/plain": [
       "0.40598394551204087"
      ]
     },
     "execution_count": 20,
     "metadata": {},
     "output_type": "execute_result"
    }
   ],
   "source": [
    "df['rating'].isna().sum() / df.shape[0]"
   ]
  },
  {
   "cell_type": "markdown",
   "metadata": {},
   "source": [
    "**Пропуски составляют 40% данных, оставим их без изменений. Возможная причина: малопопулярная игра, оринтируется на локальную аудиторию.**"
   ]
  },
  {
   "cell_type": "markdown",
   "metadata": {},
   "source": [
    "**Добавим столбец суммарный плодаж**"
   ]
  },
  {
   "cell_type": "code",
   "execution_count": 21,
   "metadata": {},
   "outputs": [],
   "source": [
    "df['total_sales'] = (df['na_sales'] +\n",
    "                     df['eu_sales'] +\n",
    "                     df['jp_sales'] +\n",
    "                     df['other_sales'])"
   ]
  },
  {
   "cell_type": "code",
   "execution_count": 22,
   "metadata": {},
   "outputs": [
    {
     "data": {
      "text/plain": [
       "0"
      ]
     },
     "execution_count": 22,
     "metadata": {},
     "output_type": "execute_result"
    }
   ],
   "source": [
    "df.duplicated().sum()"
   ]
  },
  {
   "cell_type": "markdown",
   "metadata": {},
   "source": [
    "**Явных дубликатов нет**"
   ]
  },
  {
   "cell_type": "markdown",
   "metadata": {},
   "source": [
    "**Вывод:**\n",
    "\n",
    "1. Столбец `Name` исключили пропущенные значения, невозможно идентифицировать\n",
    "\n",
    "2. Столбец `Year_of_Release` удалили пропуски, потеря данных 1.6%\n",
    "\n",
    "3. Столбцы `Critic_Score`, `User_Score` оставили без изменения, возможные причины: малая популярность игры, ошибки при сборе данных\n",
    "\n",
    "4. Столбец `Rating` оставили без изменений, возможные причины: ориентацию на локальную аудиторию, низкая популярность\n",
    "\n",
    "5. `tbd` в столбце `User_Score` обозначает, что оценка еще не известна\n",
    "\n",
    "6. Явных дубликатов нет"
   ]
  },
  {
   "cell_type": "markdown",
   "metadata": {},
   "source": [
    "## Исследовательский анализ данных"
   ]
  },
  {
   "cell_type": "markdown",
   "metadata": {},
   "source": [
    "### Распределение выхода игр"
   ]
  },
  {
   "cell_type": "code",
   "execution_count": 23,
   "metadata": {},
   "outputs": [
    {
     "data": {
      "image/png": "[encoded data removed]",
      "text/plain": [
       "<Figure size 432x288 with 1 Axes>"
      ]
     },
     "metadata": {
      "needs_background": "light"
     },
     "output_type": "display_data"
    }
   ],
   "source": [
    "df['year_of_release'].plot(kind = 'hist',\n",
    "                           bins = df['year_of_release'].nunique()+15,\n",
    "                           grid = True)\n",
    "plt.xlabel('Год релиза')\n",
    "plt.ylabel('Количество игр')\n",
    "plt.title('Распределение выхода игр по годам')\n",
    "plt.show()"
   ]
  },
  {
   "cell_type": "code",
   "execution_count": 24,
   "metadata": {
    "scrolled": true
   },
   "outputs": [
    {
     "data": {
      "text/plain": [
       "1995.0"
      ]
     },
     "execution_count": 24,
     "metadata": {},
     "output_type": "execute_result"
    }
   ],
   "source": [
    "df['year_of_release'].quantile(0.04)"
   ]
  },
  {
   "cell_type": "markdown",
   "metadata": {},
   "source": [
    "**4% процентиль 1995 год, так же по гистограмме видно что данные до 1995 очень мало, поэтому оставим данные с 1995 по 2016**"
   ]
  },
  {
   "cell_type": "code",
   "execution_count": 25,
   "metadata": {},
   "outputs": [],
   "source": [
    "df = df.query('year_of_release >= 1995')"
   ]
  },
  {
   "cell_type": "markdown",
   "metadata": {},
   "source": [
    "### Изменение продаж по платформам\n"
   ]
  },
  {
   "cell_type": "code",
   "execution_count": 26,
   "metadata": {},
   "outputs": [
    {
     "data": {
      "text/plain": [
       "platform\n",
       "PS2     1233.56\n",
       "X360     961.24\n",
       "PS3      931.34\n",
       "Wii      891.18\n",
       "DS       802.76\n",
       "PS       721.55\n",
       "PS4      314.14\n",
       "GBA      312.88\n",
       "PSP      289.53\n",
       "3DS      257.81\n",
       "XB       251.57\n",
       "PC       239.79\n",
       "N64      218.01\n",
       "GC       196.73\n",
       "XOne     159.32\n",
       "GB       139.90\n",
       "WiiU      82.19\n",
       "PSV       53.81\n",
       "SNES      49.59\n",
       "SAT       29.94\n",
       "DC        15.95\n",
       "WS         1.42\n",
       "NG         0.43\n",
       "TG16       0.16\n",
       "3DO        0.08\n",
       "PCFX       0.03\n",
       "Name: total_sales, dtype: float64"
      ]
     },
     "execution_count": 26,
     "metadata": {},
     "output_type": "execute_result"
    }
   ],
   "source": [
    "most_popular_platform = (df.groupby('platform')['total_sales']\n",
    " .sum()\n",
    " .sort_values(ascending = False)\n",
    ")\n",
    "most_popular_platform"
   ]
  },
  {
   "cell_type": "markdown",
   "metadata": {},
   "source": [
    "**Возьмем как самые популярные платформы от PS2 до PS, т.к дальше платформы очень непопулярны**"
   ]
  },
  {
   "cell_type": "code",
   "execution_count": 27,
   "metadata": {},
   "outputs": [
    {
     "data": {
      "image/png": "[encoded data removed]",
      "text/plain": [
       "<Figure size 432x288 with 1 Axes>"
      ]
     },
     "metadata": {
      "needs_background": "light"
     },
     "output_type": "display_data"
    },
    {
     "data": {
      "image/png": "[encoded data removed]",
      "text/plain": [
       "<Figure size 432x288 with 1 Axes>"
      ]
     },
     "metadata": {
      "needs_background": "light"
     },
     "output_type": "display_data"
    },
    {
     "data": {
      "image/png": "[encoded data removed]",
      "text/plain": [
       "<Figure size 432x288 with 1 Axes>"
      ]
     },
     "metadata": {
      "needs_background": "light"
     },
     "output_type": "display_data"
    },
    {
     "data": {
      "image/png": "[encoded data removed]",
      "text/plain": [
       "<Figure size 432x288 with 1 Axes>"
      ]
     },
     "metadata": {
      "needs_background": "light"
     },
     "output_type": "display_data"
    },
    {
     "data": {
      "image/png": "[encoded data removed]",
      "text/plain": [
       "<Figure size 432x288 with 1 Axes>"
      ]
     },
     "metadata": {
      "needs_background": "light"
     },
     "output_type": "display_data"
    },
    {
     "data": {
      "image/png": "[encoded data removed]",
      "text/plain": [
       "<Figure size 432x288 with 1 Axes>"
      ]
     },
     "metadata": {
      "needs_background": "light"
     },
     "output_type": "display_data"
    }
   ],
   "source": [
    "for platform in most_popular_platform[:6].index:\n",
    "    (df.query('platform in @platform').groupby('year_of_release')['total_sales']\n",
    "     .sum()\n",
    "     .plot(kind = 'bar'))\n",
    "    plt.xlabel('Год выхода')\n",
    "    plt.ylabel('Количество продаж, млн')\n",
    "    plt.title(f'Распределение выхода игр на платформе {platform}')\n",
    "    plt.show()"
   ]
  },
  {
   "cell_type": "markdown",
   "metadata": {},
   "source": [
    "1. PS2 - временной интервал 2000-2011, в 2011 продаж уже очень мало, платформа устарела\n",
    "\n",
    "2. X360 - временной интервал 2005-2016, в 2016 продаж очень мало, но платформа актуальна\n",
    "\n",
    "3. PS3 - временной интервал 2006-2016, по сей день продажи есть, но пик популярности прошел\n",
    "\n",
    "4. Wii - временной интервал 2006-2015, в 2014, 2015 годах продаж очень мало, платформа устарела\n",
    "\n",
    "5. DS - временной интервал 2004-2013, в 2013 продаж очень мало, платформа устарела\n",
    "\n",
    "6. PS - временной интервал 1994-2003, в 2003 продаж мало, платформа устарела\n",
    "\n",
    "\n",
    "- В среднем жизненный цикл платформы 10 лет\n",
    "- Актуальный период будем считать 2012-2016, т.к с 2000 до 2010 был огромный пик, а после падение, после которого продажи игр более менее стабилизировались на одном уровне"
   ]
  },
  {
   "cell_type": "code",
   "execution_count": 28,
   "metadata": {},
   "outputs": [],
   "source": [
    "df = df.query('year_of_release >= 2012')"
   ]
  },
  {
   "cell_type": "code",
   "execution_count": 29,
   "metadata": {},
   "outputs": [
    {
     "data": {
      "text/plain": [
       "platform\n",
       "PS4     314.14\n",
       "PS3     288.79\n",
       "X360    236.54\n",
       "3DS     194.61\n",
       "XOne    159.32\n",
       "WiiU     82.19\n",
       "PC       62.65\n",
       "PSV      49.18\n",
       "Wii      35.37\n",
       "DS       12.55\n",
       "PSP      11.19\n",
       "Name: total_sales, dtype: float64"
      ]
     },
     "execution_count": 29,
     "metadata": {},
     "output_type": "execute_result"
    }
   ],
   "source": [
    "(df.groupby('platform')['total_sales']\n",
    " .sum()\n",
    " .sort_values(ascending = False)\n",
    ")"
   ]
  },
  {
   "cell_type": "code",
   "execution_count": 30,
   "metadata": {},
   "outputs": [
    {
     "data": {
      "image/png": "[encoded data removed]",
      "text/plain": [
       "<Figure size 432x288 with 1 Axes>"
      ]
     },
     "metadata": {
      "needs_background": "light"
     },
     "output_type": "display_data"
    },
    {
     "data": {
      "image/png": "[encoded data removed]",
      "text/plain": [
       "<Figure size 432x288 with 1 Axes>"
      ]
     },
     "metadata": {
      "needs_background": "light"
     },
     "output_type": "display_data"
    },
    {
     "data": {
      "image/png": "[encoded data removed]",
      "text/plain": [
       "<Figure size 432x288 with 1 Axes>"
      ]
     },
     "metadata": {
      "needs_background": "light"
     },
     "output_type": "display_data"
    },
    {
     "data": {
      "image/png": "[encoded data removed]",
      "text/plain": [
       "<Figure size 432x288 with 1 Axes>"
      ]
     },
     "metadata": {
      "needs_background": "light"
     },
     "output_type": "display_data"
    },
    {
     "data": {
      "image/png": "[encoded data removed]",
      "text/plain": [
       "<Figure size 432x288 with 1 Axes>"
      ]
     },
     "metadata": {
      "needs_background": "light"
     },
     "output_type": "display_data"
    },
    {
     "data": {
      "image/png": "[encoded data removed]",
      "text/plain": [
       "<Figure size 432x288 with 1 Axes>"
      ]
     },
     "metadata": {
      "needs_background": "light"
     },
     "output_type": "display_data"
    },
    {
     "data": {
      "image/png": "[encoded data removed]",
      "text/plain": [
       "<Figure size 432x288 with 1 Axes>"
      ]
     },
     "metadata": {
      "needs_background": "light"
     },
     "output_type": "display_data"
    },
    {
     "data": {
      "image/png": "[encoded data removed]",
      "text/plain": [
       "<Figure size 432x288 with 1 Axes>"
      ]
     },
     "metadata": {
      "needs_background": "light"
     },
     "output_type": "display_data"
    },
    {
     "data": {
      "image/png": "[encoded data removed]",
      "text/plain": [
       "<Figure size 432x288 with 1 Axes>"
      ]
     },
     "metadata": {
      "needs_background": "light"
     },
     "output_type": "display_data"
    },
    {
     "data": {
      "image/png": "[encoded data removed]",
      "text/plain": [
       "<Figure size 432x288 with 1 Axes>"
      ]
     },
     "metadata": {
      "needs_background": "light"
     },
     "output_type": "display_data"
    },
    {
     "data": {
      "image/png": "[encoded data removed]",
      "text/plain": [
       "<Figure size 432x288 with 1 Axes>"
      ]
     },
     "metadata": {
      "needs_background": "light"
     },
     "output_type": "display_data"
    }
   ],
   "source": [
    "for platform in df['platform'].unique():\n",
    "    (df.query('platform in @platform').groupby('year_of_release')['total_sales']\n",
    "     .sum()\n",
    "     .plot(kind = 'bar'))\n",
    "    plt.xlabel('Год выхода')\n",
    "    plt.ylabel('Количество продаж, млн')\n",
    "    plt.title(f'Распределение выхода игр на платформе {platform}')\n",
    "    plt.show()"
   ]
  },
  {
   "cell_type": "markdown",
   "metadata": {},
   "source": [
    "**Лидируют по продажам: PS3, X360, 3DS, XOne**\n",
    "\n",
    "**Все платформы падают**\n",
    "\n",
    "**Потенциально прибыльные: PS4, 3DS, XOne, PC**"
   ]
  },
  {
   "cell_type": "code",
   "execution_count": 31,
   "metadata": {
    "scrolled": true
   },
   "outputs": [
    {
     "data": {
      "text/plain": [
       "Text(0.5, 1.0, 'Количество продаж по платформам')"
      ]
     },
     "execution_count": 31,
     "metadata": {},
     "output_type": "execute_result"
    },
    {
     "data": {
      "image/png": "[encoded data removed]",
      "text/plain": [
       "<Figure size 432x288 with 1 Axes>"
      ]
     },
     "metadata": {
      "needs_background": "light"
     },
     "output_type": "display_data"
    }
   ],
   "source": [
    "sns.boxplot(x = 'platform', y = 'total_sales', data = df)\n",
    "plt.xlabel('Платформа')\n",
    "plt.ylabel('Количество продаж')\n",
    "plt.title('Количество продаж по платформам')"
   ]
  },
  {
   "cell_type": "markdown",
   "metadata": {},
   "source": [
    "**Данные выглядят очень разбросано, сделаем ограничение по оси Y**"
   ]
  },
  {
   "cell_type": "code",
   "execution_count": 32,
   "metadata": {},
   "outputs": [
    {
     "data": {
      "text/plain": [
       "(0.0, 3.0)"
      ]
     },
     "execution_count": 32,
     "metadata": {},
     "output_type": "execute_result"
    },
    {
     "data": {
      "image/png": "[encoded data removed]",
      "text/plain": [
       "<Figure size 432x288 with 1 Axes>"
      ]
     },
     "metadata": {
      "needs_background": "light"
     },
     "output_type": "display_data"
    }
   ],
   "source": [
    "sns.boxplot(x = df['platform'], y = (df['total_sales']))\n",
    "plt.xlabel('Платформа')\n",
    "plt.ylabel('Количество продаж')\n",
    "plt.title('Количество продаж по платформам')\n",
    "plt.ylim([0,3])"
   ]
  },
  {
   "cell_type": "markdown",
   "metadata": {},
   "source": [
    "**Заметно что самые популярные платформы X360, PS3, PS4, XOne, Wii. Самые непопулярные PSP, PSV**\n",
    "\n",
    "**Самые большие выбросы от 3 квантиля в 3DS, PSV**\n",
    "\n",
    "**Выбросы могут свидетельствовать о том, что некоторые игры или платформы были особенно успешными. Например, могли появиться очень популярные игры, которые привели к резкому увеличению продаж на определенных платформах**\n",
    "\n",
    "**Медианы близко смещены к нижнем квартилям скорее всего потому что:**\n",
    "\n",
    "Большинство игр имеют низкие объемы продаж: Поскольку медиана близка к нижнему квартилю, это означает, что большая часть игр продается не очень хорошо.\n",
    "\n",
    "Некоторые игры очень популярны: Скошенность распределения вправо говорит о наличии небольшого числа игр с очень высокими продажами, которые создают \"длинный хвост\" в данных.\n",
    "\n",
    "Успех некоторых игр может быть скорее исключением, чем правилом, и стоит учитывать эту информацию при прогнозировании будущих продаж."
   ]
  },
  {
   "cell_type": "markdown",
   "metadata": {},
   "source": [
    "### Влияние оценок на популярность платформ"
   ]
  },
  {
   "cell_type": "code",
   "execution_count": 33,
   "metadata": {},
   "outputs": [
    {
     "data": {
      "text/plain": [
       "array([[<AxesSubplot:xlabel='total_sales', ylabel='total_sales'>,\n",
       "        <AxesSubplot:xlabel='critic_score', ylabel='total_sales'>,\n",
       "        <AxesSubplot:xlabel='user_score', ylabel='total_sales'>],\n",
       "       [<AxesSubplot:xlabel='total_sales', ylabel='critic_score'>,\n",
       "        <AxesSubplot:xlabel='critic_score', ylabel='critic_score'>,\n",
       "        <AxesSubplot:xlabel='user_score', ylabel='critic_score'>],\n",
       "       [<AxesSubplot:xlabel='total_sales', ylabel='user_score'>,\n",
       "        <AxesSubplot:xlabel='critic_score', ylabel='user_score'>,\n",
       "        <AxesSubplot:xlabel='user_score', ylabel='user_score'>]],\n",
       "      dtype=object)"
      ]
     },
     "execution_count": 33,
     "metadata": {},
     "output_type": "execute_result"
    },
    {
     "data": {
      "image/png": "[encoded data removed]",
      "text/plain": [
       "<Figure size 432x288 with 9 Axes>"
      ]
     },
     "metadata": {
      "needs_background": "light"
     },
     "output_type": "display_data"
    }
   ],
   "source": [
    "pd.plotting.scatter_matrix(df.query('platform == \"PS4\"')[['total_sales','critic_score','user_score']].dropna())"
   ]
  },
  {
   "cell_type": "code",
   "execution_count": 34,
   "metadata": {
    "scrolled": true
   },
   "outputs": [
    {
     "data": {
      "text/plain": [
       "critic_score    0.405895\n",
       "user_score     -0.033625\n",
       "Name: total_sales, dtype: float64"
      ]
     },
     "execution_count": 34,
     "metadata": {},
     "output_type": "execute_result"
    }
   ],
   "source": [
    "df.query('platform == \"PS4\"')[['total_sales','critic_score','user_score']].dropna().corr()['total_sales'][1:]"
   ]
  },
  {
   "cell_type": "markdown",
   "metadata": {},
   "source": [
    "**На основе самой популярной платформы можно сделать вывод что оценки критиков и количество продаж имеют умеременную зависимость, а вот оценки пользователей никак не влияют на количество продаж игры**"
   ]
  },
  {
   "cell_type": "code",
   "execution_count": 35,
   "metadata": {},
   "outputs": [
    {
     "name": "stdout",
     "output_type": "stream",
     "text": [
      "Платформа: PS3\n",
      "critic_score    0.331497\n",
      "user_score     -0.005144\n",
      "Name: total_sales, dtype: float64\n",
      "Платформа: X360\n",
      "critic_score    0.360573\n",
      "user_score      0.006164\n",
      "Name: total_sales, dtype: float64\n",
      "Платформа: PS4\n",
      "critic_score    0.406568\n",
      "user_score     -0.031957\n",
      "Name: total_sales, dtype: float64\n",
      "Платформа: 3DS\n",
      "critic_score    0.320803\n",
      "user_score      0.197583\n",
      "Name: total_sales, dtype: float64\n",
      "Платформа: DS\n",
      "critic_score         NaN\n",
      "user_score      0.882709\n",
      "Name: total_sales, dtype: float64\n",
      "Платформа: XOne\n",
      "critic_score    0.416998\n",
      "user_score     -0.068925\n",
      "Name: total_sales, dtype: float64\n",
      "Платформа: WiiU\n",
      "critic_score    0.348380\n",
      "user_score      0.400219\n",
      "Name: total_sales, dtype: float64\n",
      "Платформа: Wii\n",
      "critic_score   -0.424341\n",
      "user_score      0.296197\n",
      "Name: total_sales, dtype: float64\n",
      "Платформа: PC\n",
      "critic_score    0.237243\n",
      "user_score     -0.121867\n",
      "Name: total_sales, dtype: float64\n",
      "Платформа: PSV\n",
      "critic_score    0.094488\n",
      "user_score     -0.004339\n",
      "Name: total_sales, dtype: float64\n",
      "Платформа: PSP\n",
      "critic_score         NaN\n",
      "user_score     -0.802302\n",
      "Name: total_sales, dtype: float64\n"
     ]
    }
   ],
   "source": [
    "for platform in df['platform'].unique():\n",
    "    print('Платформа:', platform)\n",
    "    print(df.query('platform == @platform')\n",
    "          [['total_sales','critic_score','user_score']]\n",
    "          .corr()\n",
    "          .loc['total_sales'][1:])"
   ]
  },
  {
   "cell_type": "markdown",
   "metadata": {},
   "source": [
    "**Сразу заметен один интересный факт. Там где оценки критиков неизвестны, корреляция с пользовательскими оценками высокая (платформы DS, PSP).**\n",
    "\n",
    "**Умеренная зависимость продаж и оценок критиков наблюдается почти на всех платформах, за исключением PC (низкая зависимость) и PSV(отсутствует зависимость)**\n",
    "\n",
    "\n",
    "\n",
    "**Умеренная зависимость продаж и оценок пользователей у платформ WiiU, Wii**\n",
    "\n",
    "**На остальных платформах пользовательская оценка почти никак не влияет на количество продаж**\n",
    "\n",
    "\n",
    "**Платформа PSV сильно выделяет среди остальных, т.к у нее нет никакой корреляции ни с пользовательскими оценками, ни с оценками критиков**"
   ]
  },
  {
   "cell_type": "markdown",
   "metadata": {},
   "source": [
    "**Вывод: большая часть платформ имеет умеренную зависимость продаж с оценками критиков, и не имеет зависимости продаж с оценками пользователей** "
   ]
  },
  {
   "cell_type": "markdown",
   "metadata": {},
   "source": [
    "### Популярность игр по жанрам"
   ]
  },
  {
   "cell_type": "code",
   "execution_count": 36,
   "metadata": {},
   "outputs": [
    {
     "data": {
      "text/plain": [
       "genre\n",
       "Shooter         1.296723\n",
       "Platform        0.717647\n",
       "Sports          0.675634\n",
       "Role-Playing    0.521081\n",
       "Racing          0.465217\n",
       "Misc            0.442917\n",
       "Simulation      0.439000\n",
       "Action          0.427856\n",
       "Fighting        0.408165\n",
       "Strategy        0.187887\n",
       "Puzzle          0.174643\n",
       "Adventure       0.097450\n",
       "Name: total_sales, dtype: float64"
      ]
     },
     "execution_count": 36,
     "metadata": {},
     "output_type": "execute_result"
    }
   ],
   "source": [
    "df.groupby('genre')['total_sales'].mean().sort_values(ascending = False)"
   ]
  },
  {
   "cell_type": "code",
   "execution_count": 37,
   "metadata": {},
   "outputs": [
    {
     "data": {
      "text/plain": [
       "genre\n",
       "Action          441.12\n",
       "Shooter         304.73\n",
       "Role-Playing    192.80\n",
       "Sports          181.07\n",
       "Misc             85.04\n",
       "Platform         61.00\n",
       "Racing           53.50\n",
       "Fighting         44.49\n",
       "Simulation       35.12\n",
       "Adventure        29.43\n",
       "Strategy         13.34\n",
       "Puzzle            4.89\n",
       "Name: total_sales, dtype: float64"
      ]
     },
     "execution_count": 37,
     "metadata": {},
     "output_type": "execute_result"
    }
   ],
   "source": [
    "df.groupby('genre')['total_sales'].sum().sort_values(ascending = False)"
   ]
  },
  {
   "cell_type": "markdown",
   "metadata": {},
   "source": [
    "**Самые популярные жанры `Action`, `Shooter`, `Role-Playing`, `Sports`, самые непопулярные `Puzzle`, `Strategy`**\n",
    "\n",
    "**Потенциально прибыльные жанры `Shooter`, `Platform`, `Sports`, остальные менее прибыльны**"
   ]
  },
  {
   "cell_type": "markdown",
   "metadata": {},
   "source": [
    "**Вывод:**\n",
    "\n",
    "\n",
    "- Потенциально прибыльные  платформы: X360, PS3, PS4, XOne, Wii\n",
    "\n",
    "- На большинстве платформ оценки критиков и продажи имеют умеренную зависимость, тогда как оценки пользователей не влияют на количество продаж\n",
    "\n",
    "- Самые популярные жанры `Action`, `Shooter`, `Role-Playing`, `Sports`, самые непопулярные `Puzzle`, `Strategy`\n",
    "\n",
    "- Потенциально прибыльные жанры `Shooter`, `Platform`, `Sports`, остальные менее прибыльны"
   ]
  },
  {
   "cell_type": "markdown",
   "metadata": {},
   "source": [
    "## Портрет пользователя каждого региона"
   ]
  },
  {
   "cell_type": "markdown",
   "metadata": {},
   "source": [
    "### Популярные платформы"
   ]
  },
  {
   "cell_type": "code",
   "execution_count": 38,
   "metadata": {},
   "outputs": [
    {
     "data": {
      "image/png": "[encoded data removed]",
      "text/plain": [
       "<Figure size 1080x1080 with 3 Axes>"
      ]
     },
     "metadata": {},
     "output_type": "display_data"
    }
   ],
   "source": [
    "figure, top_platform = plt.subplots(1,3)\n",
    "df.groupby('platform')['na_sales'].sum().sort_values(ascending = False)[:5].plot(\n",
    "    kind = 'pie',\n",
    "    autopct='%1.1f%%',\n",
    "    figsize = (15,15),\n",
    "    ylabel = '',\n",
    "    ax = top_platform[0],\n",
    "    title = 'Топ 5 популярных платформ в Северной Америке')\n",
    "\n",
    "df.groupby('platform')['eu_sales'].sum().sort_values(ascending = False)[:5].plot(\n",
    "    kind = 'pie',\n",
    "    autopct='%1.1f%%',\n",
    "    ylabel = '',\n",
    "    ax = top_platform[1],\n",
    "    title = 'Топ 5 популярных платформ в Европе')\n",
    "\n",
    "df.groupby('platform')['jp_sales'].sum().sort_values(ascending = False)[:5].plot(\n",
    "    kind = 'pie',\n",
    "    autopct='%1.1f%%',\n",
    "    \n",
    "    ylabel = '',\n",
    "    ax = top_platform[2],\n",
    "    title = 'Топ 5 популярных платформ в Японии')\n",
    "\n",
    "plt.show()"
   ]
  },
  {
   "cell_type": "markdown",
   "metadata": {},
   "source": [
    "**В NA самые популярные платформы  X360, PS4, PS3, самая непопулярная 3DS. Причина популярности: активное продвижение платформ в данном регионе**\n",
    "\n",
    "**В EU самые популярные PS4, PS3, X360, самая непопулярная 3DS. Причина популярности : активное продвижение платформ в данном регионе**\n",
    "\n",
    "**В JP самая популярная 3DS, самые непопулярные WiiU, PS4. Причина аналогична предыдущим, 3DS скорее всего активно продвигается в Японии**\n",
    "\n",
    "**Так же возможной причиной может служить жанровость игр для платформ**"
   ]
  },
  {
   "cell_type": "markdown",
   "metadata": {},
   "source": [
    "### Популярные жанры"
   ]
  },
  {
   "cell_type": "code",
   "execution_count": 39,
   "metadata": {},
   "outputs": [
    {
     "data": {
      "image/png": "[encoded data removed]",
      "text/plain": [
       "<Figure size 1080x1080 with 3 Axes>"
      ]
     },
     "metadata": {},
     "output_type": "display_data"
    }
   ],
   "source": [
    "figure, top_genre = plt.subplots(1,3)\n",
    "df.groupby('genre')['na_sales'].sum().sort_values(ascending = False)[:5].plot(\n",
    "    kind = 'pie',\n",
    "    autopct='%1.1f%%',\n",
    "    figsize = (15,15),\n",
    "    ylabel = '',\n",
    "    ax = top_genre[0],\n",
    "    title = 'Топ 5 популярных жанров в Северной Америке')\n",
    "\n",
    "df.groupby('genre')['eu_sales'].sum().sort_values(ascending = False)[:5].plot(\n",
    "    kind = 'pie',\n",
    "    autopct='%1.1f%%',\n",
    "    ylabel = '',\n",
    "    ax = top_genre[1],\n",
    "    title = 'Топ 5 популярных жанров в Европе')\n",
    "\n",
    "df.groupby('genre')['jp_sales'].sum().sort_values(ascending = False)[:5].plot(\n",
    "    kind = 'pie',\n",
    "    autopct='%1.1f%%',\n",
    "    \n",
    "    ylabel = '',\n",
    "    ax = top_genre[2],\n",
    "    title = 'Топ 5 популярных жанров в Японии')\n",
    "\n",
    "plt.show()"
   ]
  },
  {
   "cell_type": "markdown",
   "metadata": {},
   "source": [
    "**В Северной Америке и Европе самые популярные Action, Sports, Shooter, а самые непопулярные Misc, Racing, Role-Playing**\n",
    "\n",
    "**В Японии с огромным процентом лидирует Role-Playing, а самые непопулярные жанры Fighting, Simulation**\n",
    "\n",
    "**Так же причиной можежт быть предпочтения целевой аудитории в разных регионах**"
   ]
  },
  {
   "cell_type": "markdown",
   "metadata": {},
   "source": [
    "### Рейтинг ESRB"
   ]
  },
  {
   "cell_type": "markdown",
   "metadata": {},
   "source": [
    "**Заменим пропущенные значения значением NR(не указано)**"
   ]
  },
  {
   "cell_type": "code",
   "execution_count": 40,
   "metadata": {},
   "outputs": [],
   "source": [
    "df['rating'] = df['rating'].fillna('NR')"
   ]
  },
  {
   "cell_type": "code",
   "execution_count": 41,
   "metadata": {},
   "outputs": [
    {
     "data": {
      "image/png": "[encoded data removed]",
      "text/plain": [
       "<Figure size 1440x1440 with 3 Axes>"
      ]
     },
     "metadata": {},
     "output_type": "display_data"
    }
   ],
   "source": [
    "figure, ratings = plt.subplots(1,3)\n",
    "df.groupby('rating')['na_sales'].sum().sort_values(ascending = False)[:5].plot(\n",
    "    kind = 'pie',\n",
    "    autopct='%1.1f%%',\n",
    "    figsize = (20,20),\n",
    "    ylabel = '',\n",
    "    ax = ratings[0],\n",
    "    title = 'Популярность игр по возрастному рейтингу в Северной Америке')\n",
    "\n",
    "df.groupby('rating')['eu_sales'].sum().sort_values(ascending = False).plot(\n",
    "    kind = 'pie',\n",
    "    autopct='%1.1f%%',\n",
    "    ylabel = '',\n",
    "    ax = ratings[1],\n",
    "    title = 'Популярность игр по возрастному рейтингу в Европе')\n",
    "\n",
    "df.groupby('rating')['jp_sales'].sum().sort_values(ascending = False).plot(\n",
    "    kind = 'pie',\n",
    "    autopct='%1.1f%%',\n",
    "    \n",
    "    ylabel = '',\n",
    "    ax = ratings[2],\n",
    "    title = 'Популярность игр по возрастному рейтингу в Японии')\n",
    "\n",
    "plt.show()"
   ]
  },
  {
   "cell_type": "markdown",
   "metadata": {},
   "source": [
    "**Популярность игр по возрастному ограничению в Европе и в Северной америке очень схожа, самые популярные категории M,E, самые непопулярные T, E10+**\n",
    "\n",
    "**Так же заметно что в Европе и Северной Америке жанр не указан в 17-18% игр, а в Японии он составляет более 50%, почему так:**\n",
    "\n",
    "**Северная Америка и Европа**: Так как в этих регионах процент игр без рейтинга составляет около 17%, это может указывать на то, что большинство игр в этих регионах проходят процедуру рейтинговой классификации. Это может быть связано с тем, что большие игровые компании, которые распространяют свои продукты в этих регионах, часто стараются получить официальный рейтинг для своих игр.\n",
    "\n",
    "**Япония**: На рынке видеоигр Японии более 50% игр не имеют рейтинга. Это может быть связано с различными причинами. Например, в Японии может быть большое количество маленьких разработчиков, которые не проходят процесс классификации рейтинга для своих игр. Кроме того, может быть и так, что многие игры на японском рынке в первую очередь нацелены на местную аудиторию и не требуют международного рейтинга. Еще одной причиной может быть большая популярность определенных жанров, таких как игры в стиле \"Role-Playing\", которые зачастую не получают официального рейтинга."
   ]
  },
  {
   "cell_type": "markdown",
   "metadata": {},
   "source": [
    "**Вывод:**\n",
    "\n",
    "- Пользователи EU и NA очень схожи между собой, причиной служит политика крупных компаний которые продвигают свои игры в данных регионах, делая на них большой акцент\n",
    "\n",
    "- Пользователи из JP очень сильно отличаются во всех категориях, так же в Японии скоре всего акцент игр на местной аудитории, так же скорее всего там много маленьких компаний"
   ]
  },
  {
   "cell_type": "markdown",
   "metadata": {},
   "source": [
    "## Проверка гипотез"
   ]
  },
  {
   "cell_type": "markdown",
   "metadata": {},
   "source": [
    "### Средние пользовательские рейтинги платформ Xbox One и PC одинаковые \n",
    "\n",
    "**Нулевая гипотеза: средние пользовательские рейтинги платформ Xbox One и PC одинаковые**\n",
    "\n",
    "**Альтернативная гипотеза: средние пользовательские рейтинги платформ Xbox One и PC разные**\n",
    "\n",
    "**Уровень значимости: 0.05**\n",
    "\n",
    "**Имеем две независимые выборки, поэтому используем `ttest_ind`**"
   ]
  },
  {
   "cell_type": "code",
   "execution_count": 42,
   "metadata": {},
   "outputs": [],
   "source": [
    "xbox = df.query('platform == \"XOne\"')['user_score'].dropna()\n",
    "pc = df.query('platform == \"PC\"')['user_score'].dropna()"
   ]
  },
  {
   "cell_type": "code",
   "execution_count": 43,
   "metadata": {},
   "outputs": [
    {
     "data": {
      "text/plain": [
       "6.4286407766990274"
      ]
     },
     "execution_count": 43,
     "metadata": {},
     "output_type": "execute_result"
    }
   ],
   "source": [
    "pc.mean()"
   ]
  },
  {
   "cell_type": "code",
   "execution_count": 44,
   "metadata": {},
   "outputs": [
    {
     "data": {
      "text/plain": [
       "6.521428571428572"
      ]
     },
     "execution_count": 44,
     "metadata": {},
     "output_type": "execute_result"
    }
   ],
   "source": [
    "xbox.mean()"
   ]
  },
  {
   "cell_type": "code",
   "execution_count": 45,
   "metadata": {},
   "outputs": [
    {
     "data": {
      "text/plain": [
       "0.5535080500643661"
      ]
     },
     "execution_count": 45,
     "metadata": {},
     "output_type": "execute_result"
    }
   ],
   "source": [
    "alpha = 0.05\n",
    "pvalue = st.ttest_ind(xbox, pc).pvalue\n",
    "pvalue"
   ]
  },
  {
   "cell_type": "code",
   "execution_count": 46,
   "metadata": {},
   "outputs": [
    {
     "name": "stdout",
     "output_type": "stream",
     "text": [
      "Не можем отвергнуть нулевую гипотезу\n"
     ]
    }
   ],
   "source": [
    "if pvalue < alpha:\n",
    "    print('Нулевая гипотеза отвергнута')\n",
    "else:\n",
    "    print('Не можем отвергнуть нулевую гипотезу')"
   ]
  },
  {
   "cell_type": "markdown",
   "metadata": {},
   "source": [
    "**Вывод:  У нас недостаточно доказательств отклонить нулевую гипотезу, на имеющихся данных, на уровне значимости 0.05. В этом случае, мы не можем сказать, что существует статистически значимое различие между средними пользовательскими рейтингами платформ Xbox One и PC. Это потверждают среднии значения по каждой выборке**"
   ]
  },
  {
   "cell_type": "markdown",
   "metadata": {},
   "source": [
    "### Средние пользовательские рейтинги жанров Action и Sports разные.\n",
    "**Нулевая гипотеза: Средние пользовательские рейтинги жанров Action и Sports одинаковые**\n",
    "\n",
    "**Альтернативная гипотеза: Средние пользовательские рейтинги жанров Action и Sports разные**\n",
    "\n",
    "**Уровень значимости: 0.01**\n",
    "\n",
    "**Имеем две независимые выборки, поэтому используем `ttest_ind`**"
   ]
  },
  {
   "cell_type": "code",
   "execution_count": 47,
   "metadata": {},
   "outputs": [],
   "source": [
    "action = df.query('genre == \"Action\"')['user_score'].dropna()\n",
    "sports = df.query('genre == \"Sports\"')['user_score'].dropna()"
   ]
  },
  {
   "cell_type": "code",
   "execution_count": 48,
   "metadata": {},
   "outputs": [
    {
     "data": {
      "text/plain": [
       "6.825047801147227"
      ]
     },
     "execution_count": 48,
     "metadata": {},
     "output_type": "execute_result"
    }
   ],
   "source": [
    "action.mean()"
   ]
  },
  {
   "cell_type": "code",
   "execution_count": 49,
   "metadata": {},
   "outputs": [
    {
     "data": {
      "text/plain": [
       "5.455897435897437"
      ]
     },
     "execution_count": 49,
     "metadata": {},
     "output_type": "execute_result"
    }
   ],
   "source": [
    "sports.mean()"
   ]
  },
  {
   "cell_type": "code",
   "execution_count": 50,
   "metadata": {},
   "outputs": [
    {
     "data": {
      "text/plain": [
       "3.7163089460934874e-26"
      ]
     },
     "execution_count": 50,
     "metadata": {},
     "output_type": "execute_result"
    }
   ],
   "source": [
    "alpha = 0.01\n",
    "pvalue = st.ttest_ind(action, sports).pvalue\n",
    "pvalue"
   ]
  },
  {
   "cell_type": "code",
   "execution_count": 51,
   "metadata": {},
   "outputs": [
    {
     "name": "stdout",
     "output_type": "stream",
     "text": [
      "Нулевая гипотеза отвергнута\n"
     ]
    }
   ],
   "source": [
    "if pvalue < alpha:\n",
    "    print('Нулевая гипотеза отвергнута')\n",
    "else:\n",
    "    print('Не можем отвергнуть нулевую гипотезу')"
   ]
  },
  {
   "cell_type": "markdown",
   "metadata": {},
   "source": [
    "**Вывод: Отвергаем нулевую гипотезу на уровне значимости 0.01, на имеющихся данных, а значит скорее всего cредние пользовательские рейтинги жанров Action и Sports разные, это потверждают среднии значения по каждой выборке**"
   ]
  },
  {
   "cell_type": "markdown",
   "metadata": {},
   "source": [
    "**В NA самые популярные платформы  X360(28%), PS4(21.7%), PS3(20.7%), самая непопулярная 3DS(11%). Причина популярности: активное продвижение платформ в данном регионе**\n",
    "\n",
    "**В EU самые популярные платформы PS4(33.9%), PS3(25.6%), X360(17.8), самая непопулярная 3DS(10.2%). Причина популярности : активное продвижение платформ в данном регионе**\n",
    "\n",
    "**В JP самая популярная платформа 3DS(50.7%), самые непопулярные WiiU(7.5%), PS4(9.2%). Причина аналогична предыдущим, 3DS скорее всего активно продвигается в Японии**\n",
    "\n",
    "**Так же возможной причиной может служить жанровость игр для платформ**\n",
    "\n",
    "**В Северной Америке и Европе самые популярные Action, Sports, Shooter, а самые непопулярные Misc, Racing, Role-Playing**\n",
    "\n",
    "**В Японии с огромным процентом лидирует жанр Role-Playing, а самые непопулярные жанры Fighting, Simulation**\n",
    "\n",
    "**Так же причиной можежт быть предпочтения целевой аудитории в разных регионах**\n",
    "\n",
    "\n",
    "**В NA самые популярные возрастные рейтинги игр M(39.2%), E(19.4%), NR(17.5%), самый непопулярный T(11.2%)**\n",
    "\n",
    "**В EU самые популярные возрастные рейтинги игр M(38.3%), E(22.3%), NR(18.1%), самый непопулярный  T(10.4%)**\n",
    "\n",
    "**В JP самые популярный возрастной рейтинг игр NR(56.5%), самый непопулярный E10+(4.3%), причина рейтинга NR - ориентация компаний на локальную аудиторию, а так же популярность жанра Role-Playing, которые в большинстве своем никогда не имеет возрастной категории**\n",
    "\n",
    "NR - рейтинг не указан\n"
   ]
  },
  {
   "cell_type": "markdown",
   "metadata": {},
   "source": [
    "## Общий вывод"
   ]
  },
  {
   "cell_type": "markdown",
   "metadata": {},
   "source": [
    "1. **Обзор данных:**\n",
    "\n",
    "    - Есть пропущенные значения в столбцах `Name`, `Year_of_Release`, `Critic_Score`, `User_Score`, `Rating`\n",
    "    - В столбце `User_Score` присутствует значение `tbd`, обозначает что данных недостаточно для оценки\n",
    "    - Есть аномалии в стобцах продаж, а так же в столбце `Rating`\n",
    "    \n",
    " \n",
    "2. **Предобработка данных:**\n",
    "    - Привели все столбцы к нижнему регистру\n",
    "    \n",
    "    - Столбец `Name` исключили пропущенные значения, невозможно идентифицировать, вместе с этим устранились пропуски в `Genre`\n",
    "\n",
    "    - Столбец `Year_of_Release` удалили пропуски, данных 1.6%, идентифицировать невозможно, причина: скорее всего ошибка при полчении данных\n",
    "\n",
    "    - Столбцы `Critic_Score`, `User_Score` оставили без изменений, причины: малая популярность игр, недостаточно оценок для выставления\n",
    "\n",
    "    - Столбец `Rating` оставили без изменений, причины: локальная аудитория, малопопулярность игры\n",
    "    \n",
    "\n",
    "3. **Анализ данных:**\n",
    "\n",
    "- Самые популярные платформы X360, PS3, PS4, XOne, Wii\n",
    "\n",
    "- Потенциально прибыльные  платформы: X360, PS3, PS4, XOne\n",
    "\n",
    "- На большинстве платформ оценки критиков и продажи имеют умеренную зависимость, тогда как оценки пользователей не влияют на количество продаж\n",
    "\n",
    "- Самые популярные жанры `Action`, `Shooter`, `Role-Playing`, `Sports`, самые непопулярные `Puzzle`, `Strategy`\n",
    "\n",
    "- Потенциально прибыльные жанры `Shooter`, `Platform`, `Sports`, остальные менее прибыльны\n",
    "\n",
    "4. **Портрет пользователей каждого региона:**\n",
    "\n",
    "В NA самые популярные платформы  X360(28%), PS4(21.7%), PS3(20.7%), самая непопулярная 3DS(11%). Причина популярности: активное продвижение платформ в данном регионе\n",
    "\n",
    "В EU самые популярные платформы PS4(33.9%), PS3(25.6%), X360(17.8), самая непопулярная 3DS(10.2%). Причина популярности : активное продвижение платформ в данном регионе\n",
    "\n",
    "В JP самая популярная платформа 3DS(50.7%), самые непопулярные WiiU(7.5%), PS4(9.2%). Причина аналогична предыдущим, 3DS скорее всего активно продвигается в Японии\n",
    "\n",
    "**Так же возможной причиной может служить жанровость игр для платформ**\n",
    "\n",
    "\n",
    "\n",
    "В Северной Америке и Европе самые популярные Action, Sports, Shooter, а самые непопулярные Misc, Racing, Role-Playing\n",
    "\n",
    "В Японии с огромным процентом лидирует жанр Role-Playing, а самые непопулярные жанры Fighting, Simulation\n",
    "\n",
    "**Так же причиной можежт быть предпочтения целевой аудитории в разных регионах**\n",
    "\n",
    "\n",
    "\n",
    "В NA самые популярные возрастные рейтинги игр M(39.2%), E(19.4%), NR(17.5%), самый непопулярный T(11.2%)\n",
    "\n",
    "В EU самые популярные возрастные рейтинги игр M(38.3%), E(22.3%), NR(18.1%), самый непопулярный  T(10.4%)\n",
    "\n",
    "В JP самые популярный возрастной рейтинг игр NR(56.5%), самый непопулярный E10+(4.3%), причина рейтинга NR - ориентация компаний на локальную аудиторию, а так же популярность жанра Role-Playing, которые в большинстве своем никогда не имеет возрастной категории\n",
    "\n",
    "**NR - рейтинг не указан**\n",
    "\n",
    "\n",
    "\n",
    "5. **Проверка гипотез:**\n",
    "\n",
    "    1. Мы не можем сказать, что существует статистически значимое различие между средними пользовательскими рейтингами платформ Xbox One и PC\n",
    "\n",
    "    2. Скорее всего cредние пользовательские рейтинги жанров Action и Sports разные\n",
    "  "
   ]
  }
 ],
 "metadata": {
  "ExecuteTimeLog": [
   {
    "duration": 683,
    "start_time": "2023-06-03T14:23:35.447Z"
   },
   {
    "duration": 193,
    "start_time": "2023-06-03T14:26:29.695Z"
   },
   {
    "duration": 31,
    "start_time": "2023-06-03T14:26:46.064Z"
   },
   {
    "duration": 483,
    "start_time": "2023-06-03T14:26:57.983Z"
   },
   {
    "duration": 599,
    "start_time": "2023-06-03T14:27:10.503Z"
   },
   {
    "duration": 597,
    "start_time": "2023-06-03T14:27:17.570Z"
   },
   {
    "duration": 15,
    "start_time": "2023-06-03T14:27:29.949Z"
   },
   {
    "duration": 689,
    "start_time": "2023-06-03T14:27:43.006Z"
   },
   {
    "duration": 1359,
    "start_time": "2023-06-03T14:28:41.455Z"
   },
   {
    "duration": 1101,
    "start_time": "2023-06-03T14:28:53.063Z"
   },
   {
    "duration": 732,
    "start_time": "2023-06-03T14:29:00.332Z"
   },
   {
    "duration": 13,
    "start_time": "2023-06-03T14:29:38.844Z"
   },
   {
    "duration": 9,
    "start_time": "2023-06-03T14:29:45.699Z"
   },
   {
    "duration": 4,
    "start_time": "2023-06-03T14:31:18.344Z"
   },
   {
    "duration": 3519,
    "start_time": "2023-06-03T14:31:21.943Z"
   },
   {
    "duration": 113,
    "start_time": "2023-06-03T14:31:34.150Z"
   },
   {
    "duration": 129,
    "start_time": "2023-06-03T14:31:38.752Z"
   },
   {
    "duration": 7,
    "start_time": "2023-06-03T14:31:47.745Z"
   },
   {
    "duration": 246,
    "start_time": "2023-06-03T14:31:56.299Z"
   },
   {
    "duration": 257,
    "start_time": "2023-06-03T14:32:00.015Z"
   },
   {
    "duration": 263,
    "start_time": "2023-06-03T14:32:09.322Z"
   },
   {
    "duration": 152,
    "start_time": "2023-06-03T14:32:37.991Z"
   },
   {
    "duration": 15,
    "start_time": "2023-06-03T14:33:10.997Z"
   },
   {
    "duration": 140,
    "start_time": "2023-06-03T14:33:21.453Z"
   },
   {
    "duration": 14,
    "start_time": "2023-06-03T14:33:44.921Z"
   },
   {
    "duration": 12,
    "start_time": "2023-06-03T14:33:59.100Z"
   },
   {
    "duration": 6,
    "start_time": "2023-06-03T14:41:30.139Z"
   },
   {
    "duration": 7,
    "start_time": "2023-06-03T14:41:44.046Z"
   },
   {
    "duration": 225,
    "start_time": "2023-06-03T14:42:36.841Z"
   },
   {
    "duration": 6,
    "start_time": "2023-06-03T14:42:57.104Z"
   },
   {
    "duration": 6,
    "start_time": "2023-06-03T14:43:07.950Z"
   },
   {
    "duration": 7,
    "start_time": "2023-06-03T14:43:59.392Z"
   },
   {
    "duration": 5,
    "start_time": "2023-06-03T14:44:03.519Z"
   },
   {
    "duration": 14,
    "start_time": "2023-06-03T14:44:08.897Z"
   },
   {
    "duration": 2006,
    "start_time": "2023-06-03T14:45:13.915Z"
   },
   {
    "duration": 8,
    "start_time": "2023-06-03T14:45:18.758Z"
   },
   {
    "duration": 27,
    "start_time": "2023-06-03T14:46:30.045Z"
   },
   {
    "duration": 8,
    "start_time": "2023-06-03T14:46:34.511Z"
   },
   {
    "duration": 20,
    "start_time": "2023-06-03T14:46:43.926Z"
   },
   {
    "duration": 13,
    "start_time": "2023-06-03T14:46:50.016Z"
   },
   {
    "duration": 1058,
    "start_time": "2023-06-03T14:56:37.737Z"
   },
   {
    "duration": 8,
    "start_time": "2023-06-03T14:56:48.438Z"
   },
   {
    "duration": 11,
    "start_time": "2023-06-03T14:57:19.725Z"
   },
   {
    "duration": 6,
    "start_time": "2023-06-03T14:57:24.842Z"
   },
   {
    "duration": 1340,
    "start_time": "2023-06-03T14:58:37.472Z"
   },
   {
    "duration": 1190,
    "start_time": "2023-06-03T14:58:49.106Z"
   },
   {
    "duration": 1107,
    "start_time": "2023-06-03T14:58:53.827Z"
   },
   {
    "duration": 8163,
    "start_time": "2023-06-03T15:00:38.105Z"
   },
   {
    "duration": 8,
    "start_time": "2023-06-03T15:00:58.934Z"
   },
   {
    "duration": 6,
    "start_time": "2023-06-03T15:01:06.701Z"
   },
   {
    "duration": 25,
    "start_time": "2023-06-03T15:01:15.936Z"
   },
   {
    "duration": 6,
    "start_time": "2023-06-03T15:01:28.457Z"
   },
   {
    "duration": 6,
    "start_time": "2023-06-03T15:02:45.091Z"
   },
   {
    "duration": 6,
    "start_time": "2023-06-03T15:02:49.914Z"
   },
   {
    "duration": 5,
    "start_time": "2023-06-03T15:02:57.721Z"
   },
   {
    "duration": 1068,
    "start_time": "2023-06-03T15:03:10.995Z"
   },
   {
    "duration": 27,
    "start_time": "2023-06-03T15:03:30.197Z"
   },
   {
    "duration": 26,
    "start_time": "2023-06-03T15:03:34.824Z"
   },
   {
    "duration": 28,
    "start_time": "2023-06-03T15:03:45.918Z"
   },
   {
    "duration": 24,
    "start_time": "2023-06-03T15:03:49.592Z"
   },
   {
    "duration": 20,
    "start_time": "2023-06-03T15:03:52.725Z"
   },
   {
    "duration": 20,
    "start_time": "2023-06-03T15:04:06.139Z"
   },
   {
    "duration": 4,
    "start_time": "2023-06-03T15:04:10.042Z"
   },
   {
    "duration": 26,
    "start_time": "2023-06-03T15:04:15.678Z"
   },
   {
    "duration": 629,
    "start_time": "2023-06-03T15:04:48.456Z"
   },
   {
    "duration": 1087,
    "start_time": "2023-06-03T15:05:02.345Z"
   },
   {
    "duration": 1111,
    "start_time": "2023-06-03T15:05:09.069Z"
   },
   {
    "duration": 10,
    "start_time": "2023-06-03T15:05:16.699Z"
   },
   {
    "duration": 13,
    "start_time": "2023-06-03T15:05:27.352Z"
   },
   {
    "duration": 200,
    "start_time": "2023-06-03T15:05:33.476Z"
   },
   {
    "duration": 645,
    "start_time": "2023-06-03T15:06:42.703Z"
   },
   {
    "duration": 197,
    "start_time": "2023-06-03T15:06:43.350Z"
   },
   {
    "duration": 17,
    "start_time": "2023-06-03T15:06:43.549Z"
   },
   {
    "duration": 20,
    "start_time": "2023-06-03T15:06:43.568Z"
   },
   {
    "duration": 10,
    "start_time": "2023-06-03T15:06:43.593Z"
   },
   {
    "duration": 732,
    "start_time": "2023-06-03T15:06:43.604Z"
   },
   {
    "duration": 311,
    "start_time": "2023-06-03T15:06:44.337Z"
   },
   {
    "duration": 177,
    "start_time": "2023-06-03T15:06:44.649Z"
   },
   {
    "duration": 134,
    "start_time": "2023-06-03T15:06:44.828Z"
   },
   {
    "duration": 163,
    "start_time": "2023-06-03T15:06:44.963Z"
   },
   {
    "duration": 7,
    "start_time": "2023-06-03T15:06:45.128Z"
   },
   {
    "duration": 12,
    "start_time": "2023-06-03T15:06:45.137Z"
   },
   {
    "duration": 35,
    "start_time": "2023-06-03T15:09:07.605Z"
   },
   {
    "duration": 16,
    "start_time": "2023-06-03T15:09:16.473Z"
   },
   {
    "duration": 16,
    "start_time": "2023-06-03T15:09:20.972Z"
   },
   {
    "duration": 11,
    "start_time": "2023-06-03T15:09:23.771Z"
   },
   {
    "duration": 11,
    "start_time": "2023-06-03T15:09:49.851Z"
   },
   {
    "duration": 103,
    "start_time": "2023-06-03T15:10:24.291Z"
   },
   {
    "duration": 13,
    "start_time": "2023-06-03T15:10:29.836Z"
   },
   {
    "duration": 12,
    "start_time": "2023-06-03T15:10:37.243Z"
   },
   {
    "duration": 10,
    "start_time": "2023-06-03T15:11:00.856Z"
   },
   {
    "duration": 12,
    "start_time": "2023-06-03T15:11:36.901Z"
   },
   {
    "duration": 11,
    "start_time": "2023-06-03T15:11:40.401Z"
   },
   {
    "duration": 8,
    "start_time": "2023-06-03T15:12:04.548Z"
   },
   {
    "duration": 6,
    "start_time": "2023-06-03T15:12:54.324Z"
   },
   {
    "duration": 20,
    "start_time": "2023-06-03T15:12:59.233Z"
   },
   {
    "duration": 12,
    "start_time": "2023-06-03T15:13:09.839Z"
   },
   {
    "duration": 5,
    "start_time": "2023-06-03T15:13:27.243Z"
   },
   {
    "duration": 9,
    "start_time": "2023-06-03T15:13:58.184Z"
   },
   {
    "duration": 20,
    "start_time": "2023-06-03T15:14:08.547Z"
   },
   {
    "duration": 13,
    "start_time": "2023-06-03T15:14:26.572Z"
   },
   {
    "duration": 12,
    "start_time": "2023-06-03T15:14:34.362Z"
   },
   {
    "duration": 15,
    "start_time": "2023-06-03T15:14:37.388Z"
   },
   {
    "duration": 18,
    "start_time": "2023-06-03T15:15:02.783Z"
   },
   {
    "duration": 20,
    "start_time": "2023-06-03T15:15:08.978Z"
   },
   {
    "duration": 13,
    "start_time": "2023-06-03T15:15:31.091Z"
   },
   {
    "duration": 122,
    "start_time": "2023-06-03T15:16:49.596Z"
   },
   {
    "duration": 3,
    "start_time": "2023-06-03T15:16:57.348Z"
   },
   {
    "duration": 10,
    "start_time": "2023-06-03T15:17:15.232Z"
   },
   {
    "duration": 1451,
    "start_time": "2023-06-03T15:17:19.494Z"
   },
   {
    "duration": 3,
    "start_time": "2023-06-03T15:17:29.014Z"
   },
   {
    "duration": 1387,
    "start_time": "2023-06-03T15:17:29.712Z"
   },
   {
    "duration": 1359,
    "start_time": "2023-06-03T15:18:52.700Z"
   },
   {
    "duration": 3,
    "start_time": "2023-06-03T15:18:58.640Z"
   },
   {
    "duration": 5,
    "start_time": "2023-06-03T15:19:17.289Z"
   },
   {
    "duration": 1363,
    "start_time": "2023-06-03T15:19:19.894Z"
   },
   {
    "duration": 17,
    "start_time": "2023-06-03T15:19:24.044Z"
   },
   {
    "duration": 100,
    "start_time": "2023-06-03T15:19:28.614Z"
   },
   {
    "duration": 145,
    "start_time": "2023-06-03T15:19:39.743Z"
   },
   {
    "duration": 14,
    "start_time": "2023-06-03T15:20:01.512Z"
   },
   {
    "duration": 3,
    "start_time": "2023-06-03T15:20:19.691Z"
   },
   {
    "duration": 417,
    "start_time": "2023-06-03T15:20:20.507Z"
   },
   {
    "duration": 20,
    "start_time": "2023-06-03T15:20:58.806Z"
   },
   {
    "duration": 11,
    "start_time": "2023-06-03T15:21:24.856Z"
   },
   {
    "duration": 80,
    "start_time": "2023-06-03T15:22:02.031Z"
   },
   {
    "duration": 66,
    "start_time": "2023-06-03T15:22:09.084Z"
   },
   {
    "duration": 66,
    "start_time": "2023-06-03T15:22:14.515Z"
   },
   {
    "duration": 43,
    "start_time": "2023-06-03T15:22:31.133Z"
   },
   {
    "duration": 71,
    "start_time": "2023-06-03T15:22:36.735Z"
   },
   {
    "duration": 16,
    "start_time": "2023-06-03T15:22:42.723Z"
   },
   {
    "duration": 13,
    "start_time": "2023-06-03T15:22:48.133Z"
   },
   {
    "duration": 18,
    "start_time": "2023-06-03T15:23:12.172Z"
   },
   {
    "duration": 6,
    "start_time": "2023-06-03T15:23:21.892Z"
   },
   {
    "duration": 681,
    "start_time": "2023-06-03T15:23:34.279Z"
   },
   {
    "duration": 58,
    "start_time": "2023-06-03T15:23:34.962Z"
   },
   {
    "duration": 20,
    "start_time": "2023-06-03T15:23:35.022Z"
   },
   {
    "duration": 21,
    "start_time": "2023-06-03T15:23:35.043Z"
   },
   {
    "duration": 8,
    "start_time": "2023-06-03T15:23:35.067Z"
   },
   {
    "duration": 776,
    "start_time": "2023-06-03T15:23:35.077Z"
   },
   {
    "duration": 293,
    "start_time": "2023-06-03T15:23:35.855Z"
   },
   {
    "duration": 162,
    "start_time": "2023-06-03T15:23:36.149Z"
   },
   {
    "duration": 147,
    "start_time": "2023-06-03T15:23:36.313Z"
   },
   {
    "duration": 149,
    "start_time": "2023-06-03T15:23:36.461Z"
   },
   {
    "duration": 7,
    "start_time": "2023-06-03T15:23:36.612Z"
   },
   {
    "duration": 8,
    "start_time": "2023-06-03T15:23:36.621Z"
   },
   {
    "duration": 18,
    "start_time": "2023-06-03T15:23:36.630Z"
   },
   {
    "duration": 17,
    "start_time": "2023-06-03T15:23:51.741Z"
   },
   {
    "duration": 6,
    "start_time": "2023-06-03T15:23:52.709Z"
   },
   {
    "duration": 7,
    "start_time": "2023-06-03T15:23:57.192Z"
   },
   {
    "duration": 6,
    "start_time": "2023-06-03T15:24:00.299Z"
   },
   {
    "duration": 22,
    "start_time": "2023-06-03T15:24:07.560Z"
   },
   {
    "duration": 25,
    "start_time": "2023-06-03T15:24:14.861Z"
   },
   {
    "duration": 12,
    "start_time": "2023-06-03T15:24:31.024Z"
   },
   {
    "duration": 12,
    "start_time": "2023-06-03T15:24:31.651Z"
   },
   {
    "duration": 22,
    "start_time": "2023-06-03T15:24:32.299Z"
   },
   {
    "duration": 681,
    "start_time": "2023-06-03T15:24:42.222Z"
   },
   {
    "duration": 51,
    "start_time": "2023-06-03T15:24:42.905Z"
   },
   {
    "duration": 17,
    "start_time": "2023-06-03T15:24:42.958Z"
   },
   {
    "duration": 21,
    "start_time": "2023-06-03T15:24:42.977Z"
   },
   {
    "duration": 10,
    "start_time": "2023-06-03T15:24:43.001Z"
   },
   {
    "duration": 775,
    "start_time": "2023-06-03T15:24:43.013Z"
   },
   {
    "duration": 309,
    "start_time": "2023-06-03T15:24:43.794Z"
   },
   {
    "duration": 171,
    "start_time": "2023-06-03T15:24:44.104Z"
   },
   {
    "duration": 162,
    "start_time": "2023-06-03T15:24:44.279Z"
   },
   {
    "duration": 167,
    "start_time": "2023-06-03T15:24:44.444Z"
   },
   {
    "duration": 8,
    "start_time": "2023-06-03T15:24:44.613Z"
   },
   {
    "duration": 8,
    "start_time": "2023-06-03T15:24:44.623Z"
   },
   {
    "duration": 10,
    "start_time": "2023-06-03T15:24:44.633Z"
   },
   {
    "duration": 19,
    "start_time": "2023-06-03T15:24:47.651Z"
   },
   {
    "duration": 19,
    "start_time": "2023-06-03T15:24:54.415Z"
   },
   {
    "duration": 16,
    "start_time": "2023-06-03T15:24:57.502Z"
   },
   {
    "duration": 5,
    "start_time": "2023-06-03T15:25:04.537Z"
   },
   {
    "duration": 5,
    "start_time": "2023-06-03T15:25:08.446Z"
   },
   {
    "duration": 4,
    "start_time": "2023-06-03T15:25:33.335Z"
   },
   {
    "duration": 5,
    "start_time": "2023-06-03T15:25:37.733Z"
   },
   {
    "duration": 7,
    "start_time": "2023-06-03T15:25:43.477Z"
   },
   {
    "duration": 6,
    "start_time": "2023-06-03T15:25:47.003Z"
   },
   {
    "duration": 44,
    "start_time": "2023-06-03T15:26:06.091Z"
   },
   {
    "duration": 735,
    "start_time": "2023-06-03T15:26:14.993Z"
   },
   {
    "duration": 65,
    "start_time": "2023-06-03T15:26:15.730Z"
   },
   {
    "duration": 22,
    "start_time": "2023-06-03T15:26:15.797Z"
   },
   {
    "duration": 30,
    "start_time": "2023-06-03T15:26:15.821Z"
   },
   {
    "duration": 19,
    "start_time": "2023-06-03T15:26:15.854Z"
   },
   {
    "duration": 773,
    "start_time": "2023-06-03T15:26:15.874Z"
   },
   {
    "duration": 311,
    "start_time": "2023-06-03T15:26:16.649Z"
   },
   {
    "duration": 167,
    "start_time": "2023-06-03T15:26:16.961Z"
   },
   {
    "duration": 139,
    "start_time": "2023-06-03T15:26:17.129Z"
   },
   {
    "duration": 157,
    "start_time": "2023-06-03T15:26:17.270Z"
   },
   {
    "duration": 8,
    "start_time": "2023-06-03T15:26:17.428Z"
   },
   {
    "duration": 31,
    "start_time": "2023-06-03T15:26:17.437Z"
   },
   {
    "duration": 4,
    "start_time": "2023-06-03T15:26:19.157Z"
   },
   {
    "duration": 10,
    "start_time": "2023-06-03T15:26:21.017Z"
   },
   {
    "duration": 4,
    "start_time": "2023-06-03T15:26:21.909Z"
   },
   {
    "duration": 15,
    "start_time": "2023-06-03T15:26:23.792Z"
   },
   {
    "duration": 4,
    "start_time": "2023-06-03T15:26:25.453Z"
   },
   {
    "duration": 4,
    "start_time": "2023-06-03T15:26:26.625Z"
   },
   {
    "duration": 7,
    "start_time": "2023-06-03T15:26:33.995Z"
   },
   {
    "duration": 17,
    "start_time": "2023-06-03T15:27:01.075Z"
   },
   {
    "duration": 10,
    "start_time": "2023-06-03T15:27:29.094Z"
   },
   {
    "duration": 17,
    "start_time": "2023-06-03T15:27:47.074Z"
   },
   {
    "duration": 9,
    "start_time": "2023-06-03T15:27:53.623Z"
   },
   {
    "duration": 21,
    "start_time": "2023-06-03T15:27:58.794Z"
   },
   {
    "duration": 10,
    "start_time": "2023-06-03T15:28:22.808Z"
   },
   {
    "duration": 16,
    "start_time": "2023-06-03T15:28:45.208Z"
   },
   {
    "duration": 17,
    "start_time": "2023-06-03T15:29:00.466Z"
   },
   {
    "duration": 10,
    "start_time": "2023-06-03T15:29:06.296Z"
   },
   {
    "duration": 7,
    "start_time": "2023-06-03T15:29:16.426Z"
   },
   {
    "duration": 22,
    "start_time": "2023-06-03T15:29:34.300Z"
   },
   {
    "duration": 8,
    "start_time": "2023-06-03T15:32:03.892Z"
   },
   {
    "duration": 14,
    "start_time": "2023-06-03T15:34:02.287Z"
   },
   {
    "duration": 48,
    "start_time": "2023-06-03T15:34:09.450Z"
   },
   {
    "duration": 8,
    "start_time": "2023-06-03T15:34:13.335Z"
   },
   {
    "duration": 7,
    "start_time": "2023-06-03T15:34:23.711Z"
   },
   {
    "duration": 21,
    "start_time": "2023-06-03T15:34:27.938Z"
   },
   {
    "duration": 3,
    "start_time": "2023-06-03T15:36:23.712Z"
   },
   {
    "duration": 5,
    "start_time": "2023-06-03T15:36:28.023Z"
   },
   {
    "duration": 11,
    "start_time": "2023-06-03T15:36:37.259Z"
   },
   {
    "duration": 14,
    "start_time": "2023-06-03T15:36:42.701Z"
   },
   {
    "duration": 13,
    "start_time": "2023-06-03T15:37:22.916Z"
   },
   {
    "duration": 23,
    "start_time": "2023-06-03T15:37:26.870Z"
   },
   {
    "duration": 147,
    "start_time": "2023-06-03T15:37:53.049Z"
   },
   {
    "duration": 25,
    "start_time": "2023-06-03T15:37:56.610Z"
   },
   {
    "duration": 32,
    "start_time": "2023-06-03T15:38:02.545Z"
   },
   {
    "duration": 29,
    "start_time": "2023-06-03T15:38:10.014Z"
   },
   {
    "duration": 19,
    "start_time": "2023-06-03T15:38:44.627Z"
   },
   {
    "duration": 20,
    "start_time": "2023-06-03T15:38:51.203Z"
   },
   {
    "duration": 22,
    "start_time": "2023-06-03T15:39:15.003Z"
   },
   {
    "duration": 23,
    "start_time": "2023-06-03T15:39:21.142Z"
   },
   {
    "duration": 27,
    "start_time": "2023-06-03T15:39:45.259Z"
   },
   {
    "duration": 20,
    "start_time": "2023-06-03T15:39:58.197Z"
   },
   {
    "duration": 23,
    "start_time": "2023-06-03T15:40:11.226Z"
   },
   {
    "duration": 34,
    "start_time": "2023-06-03T15:40:16.701Z"
   },
   {
    "duration": 11,
    "start_time": "2023-06-03T15:40:52.595Z"
   },
   {
    "duration": 23,
    "start_time": "2023-06-03T15:41:10.613Z"
   },
   {
    "duration": 39,
    "start_time": "2023-06-03T15:41:19.359Z"
   },
   {
    "duration": 32,
    "start_time": "2023-06-03T15:41:40.496Z"
   },
   {
    "duration": 20,
    "start_time": "2023-06-03T15:41:57.299Z"
   },
   {
    "duration": 18,
    "start_time": "2023-06-03T15:42:05.352Z"
   },
   {
    "duration": 16,
    "start_time": "2023-06-03T15:42:14.528Z"
   },
   {
    "duration": 24,
    "start_time": "2023-06-03T15:42:24.296Z"
   },
   {
    "duration": 16,
    "start_time": "2023-06-03T15:42:29.141Z"
   },
   {
    "duration": 9,
    "start_time": "2023-06-03T15:42:40.231Z"
   },
   {
    "duration": 9,
    "start_time": "2023-06-03T15:43:07.919Z"
   },
   {
    "duration": 24,
    "start_time": "2023-06-03T15:47:09.521Z"
   },
   {
    "duration": 4,
    "start_time": "2023-06-03T15:52:05.125Z"
   },
   {
    "duration": 8,
    "start_time": "2023-06-03T15:52:14.300Z"
   },
   {
    "duration": 33,
    "start_time": "2023-06-03T15:52:30.867Z"
   },
   {
    "duration": 97,
    "start_time": "2023-06-03T15:52:39.571Z"
   },
   {
    "duration": 108,
    "start_time": "2023-06-03T15:52:43.295Z"
   },
   {
    "duration": 33,
    "start_time": "2023-06-03T15:53:17.585Z"
   },
   {
    "duration": 23,
    "start_time": "2023-06-03T15:53:20.315Z"
   },
   {
    "duration": 8,
    "start_time": "2023-06-03T15:55:55.925Z"
   },
   {
    "duration": 126,
    "start_time": "2023-06-03T15:56:01.021Z"
   },
   {
    "duration": 8,
    "start_time": "2023-06-03T15:56:08.656Z"
   },
   {
    "duration": 25072,
    "start_time": "2023-06-03T15:56:12.870Z"
   },
   {
    "duration": 163,
    "start_time": "2023-06-03T15:56:38.736Z"
   },
   {
    "duration": 10,
    "start_time": "2023-06-03T15:57:16.891Z"
   },
   {
    "duration": 62,
    "start_time": "2023-06-03T18:05:33.361Z"
   },
   {
    "duration": 782,
    "start_time": "2023-06-03T18:05:36.812Z"
   },
   {
    "duration": 90,
    "start_time": "2023-06-03T18:05:37.597Z"
   },
   {
    "duration": 18,
    "start_time": "2023-06-03T18:05:37.689Z"
   },
   {
    "duration": 15,
    "start_time": "2023-06-03T18:05:37.709Z"
   },
   {
    "duration": 57,
    "start_time": "2023-06-03T18:05:37.726Z"
   },
   {
    "duration": 854,
    "start_time": "2023-06-03T18:05:37.785Z"
   },
   {
    "duration": 324,
    "start_time": "2023-06-03T18:05:38.642Z"
   },
   {
    "duration": 179,
    "start_time": "2023-06-03T18:05:38.969Z"
   },
   {
    "duration": 160,
    "start_time": "2023-06-03T18:05:39.150Z"
   },
   {
    "duration": 163,
    "start_time": "2023-06-03T18:05:39.313Z"
   },
   {
    "duration": 8,
    "start_time": "2023-06-03T18:05:39.478Z"
   },
   {
    "duration": 9,
    "start_time": "2023-06-03T18:05:39.488Z"
   },
   {
    "duration": 12,
    "start_time": "2023-06-03T18:05:39.499Z"
   },
   {
    "duration": 36,
    "start_time": "2023-06-03T18:05:39.512Z"
   },
   {
    "duration": 4,
    "start_time": "2023-06-03T18:05:39.550Z"
   },
   {
    "duration": 17,
    "start_time": "2023-06-03T18:05:39.555Z"
   },
   {
    "duration": 15,
    "start_time": "2023-06-03T18:05:39.574Z"
   },
   {
    "duration": 8,
    "start_time": "2023-06-03T18:05:39.591Z"
   },
   {
    "duration": 192,
    "start_time": "2023-06-03T18:05:39.601Z"
   },
   {
    "duration": 7,
    "start_time": "2023-06-03T18:05:44.029Z"
   },
   {
    "duration": 6,
    "start_time": "2023-06-03T18:05:49.749Z"
   },
   {
    "duration": 7,
    "start_time": "2023-06-03T18:05:54.453Z"
   },
   {
    "duration": 6,
    "start_time": "2023-06-03T18:06:14.446Z"
   },
   {
    "duration": 6,
    "start_time": "2023-06-03T18:06:21.248Z"
   },
   {
    "duration": 4,
    "start_time": "2023-06-03T18:09:05.275Z"
   },
   {
    "duration": 24,
    "start_time": "2023-06-03T18:09:25.338Z"
   },
   {
    "duration": 10,
    "start_time": "2023-06-03T18:09:33.369Z"
   },
   {
    "duration": 10,
    "start_time": "2023-06-03T18:09:37.213Z"
   },
   {
    "duration": 12,
    "start_time": "2023-06-03T18:09:41.339Z"
   },
   {
    "duration": 12,
    "start_time": "2023-06-03T18:09:50.894Z"
   },
   {
    "duration": 12,
    "start_time": "2023-06-03T18:10:39.525Z"
   },
   {
    "duration": 11,
    "start_time": "2023-06-03T18:11:11.156Z"
   },
   {
    "duration": 8,
    "start_time": "2023-06-03T18:11:30.578Z"
   },
   {
    "duration": 7,
    "start_time": "2023-06-03T18:11:42.080Z"
   },
   {
    "duration": 14,
    "start_time": "2023-06-03T18:11:50.432Z"
   },
   {
    "duration": 5,
    "start_time": "2023-06-03T18:12:51.316Z"
   },
   {
    "duration": 5,
    "start_time": "2023-06-03T18:12:53.964Z"
   },
   {
    "duration": 3,
    "start_time": "2023-06-03T18:12:59.264Z"
   },
   {
    "duration": 12,
    "start_time": "2023-06-03T18:13:54.484Z"
   },
   {
    "duration": 22,
    "start_time": "2023-06-03T18:14:07.048Z"
   },
   {
    "duration": 30,
    "start_time": "2023-06-03T18:14:18.663Z"
   },
   {
    "duration": 6,
    "start_time": "2023-06-03T18:17:17.637Z"
   },
   {
    "duration": 704,
    "start_time": "2023-06-03T18:17:29.015Z"
   },
   {
    "duration": 50,
    "start_time": "2023-06-03T18:17:29.721Z"
   },
   {
    "duration": 20,
    "start_time": "2023-06-03T18:17:29.773Z"
   },
   {
    "duration": 25,
    "start_time": "2023-06-03T18:17:29.795Z"
   },
   {
    "duration": 19,
    "start_time": "2023-06-03T18:17:29.822Z"
   },
   {
    "duration": 814,
    "start_time": "2023-06-03T18:17:29.843Z"
   },
   {
    "duration": 362,
    "start_time": "2023-06-03T18:17:30.659Z"
   },
   {
    "duration": 189,
    "start_time": "2023-06-03T18:17:31.023Z"
   },
   {
    "duration": 160,
    "start_time": "2023-06-03T18:17:31.213Z"
   },
   {
    "duration": 194,
    "start_time": "2023-06-03T18:17:31.375Z"
   },
   {
    "duration": 10,
    "start_time": "2023-06-03T18:17:31.571Z"
   },
   {
    "duration": 13,
    "start_time": "2023-06-03T18:17:31.583Z"
   },
   {
    "duration": 35,
    "start_time": "2023-06-03T18:17:31.598Z"
   },
   {
    "duration": 23,
    "start_time": "2023-06-03T18:17:31.636Z"
   },
   {
    "duration": 7,
    "start_time": "2023-06-03T18:17:31.661Z"
   },
   {
    "duration": 25,
    "start_time": "2023-06-03T18:17:31.670Z"
   },
   {
    "duration": 33,
    "start_time": "2023-06-03T18:17:31.697Z"
   },
   {
    "duration": 18,
    "start_time": "2023-06-03T18:17:31.732Z"
   },
   {
    "duration": 14,
    "start_time": "2023-06-03T18:17:31.752Z"
   },
   {
    "duration": 205,
    "start_time": "2023-06-03T18:17:31.768Z"
   },
   {
    "duration": 7,
    "start_time": "2023-06-03T18:17:31.974Z"
   },
   {
    "duration": 250,
    "start_time": "2023-06-03T18:18:03.640Z"
   },
   {
    "duration": 193,
    "start_time": "2023-06-03T18:18:12.419Z"
   },
   {
    "duration": 226,
    "start_time": "2023-06-03T18:18:47.518Z"
   },
   {
    "duration": 185,
    "start_time": "2023-06-03T18:18:54.666Z"
   },
   {
    "duration": 195,
    "start_time": "2023-06-03T18:19:00.538Z"
   },
   {
    "duration": 273,
    "start_time": "2023-06-03T18:19:05.304Z"
   },
   {
    "duration": 178,
    "start_time": "2023-06-03T18:19:17.556Z"
   },
   {
    "duration": 218,
    "start_time": "2023-06-03T18:19:49.599Z"
   },
   {
    "duration": 203,
    "start_time": "2023-06-03T18:19:53.698Z"
   },
   {
    "duration": 17,
    "start_time": "2023-06-03T18:20:36.948Z"
   },
   {
    "duration": 24,
    "start_time": "2023-06-03T18:20:50.678Z"
   },
   {
    "duration": 9,
    "start_time": "2023-06-03T18:21:03.276Z"
   },
   {
    "duration": 3,
    "start_time": "2023-06-03T18:21:15.442Z"
   },
   {
    "duration": 275,
    "start_time": "2023-06-03T18:22:08.428Z"
   },
   {
    "duration": 296,
    "start_time": "2023-06-03T18:23:05.162Z"
   },
   {
    "duration": 6,
    "start_time": "2023-06-03T18:23:14.701Z"
   },
   {
    "duration": 1191,
    "start_time": "2023-06-03T18:23:24.274Z"
   },
   {
    "duration": 994,
    "start_time": "2023-06-03T18:23:52.510Z"
   },
   {
    "duration": 1103,
    "start_time": "2023-06-03T18:24:04.313Z"
   },
   {
    "duration": 1071,
    "start_time": "2023-06-03T18:24:15.257Z"
   },
   {
    "duration": 1249,
    "start_time": "2023-06-03T18:26:57.421Z"
   },
   {
    "duration": 17,
    "start_time": "2023-06-03T18:37:48.966Z"
   },
   {
    "duration": 5,
    "start_time": "2023-06-03T18:38:28.193Z"
   },
   {
    "duration": 4,
    "start_time": "2023-06-03T18:38:56.301Z"
   },
   {
    "duration": 5,
    "start_time": "2023-06-03T18:39:21.121Z"
   },
   {
    "duration": 4,
    "start_time": "2023-06-03T18:39:31.688Z"
   },
   {
    "duration": 12,
    "start_time": "2023-06-03T18:39:52.356Z"
   },
   {
    "duration": 151,
    "start_time": "2023-06-03T18:40:02.573Z"
   },
   {
    "duration": 13,
    "start_time": "2023-06-03T18:40:22.571Z"
   },
   {
    "duration": 44,
    "start_time": "2023-06-03T18:41:49.855Z"
   },
   {
    "duration": 44,
    "start_time": "2023-06-03T18:42:33.336Z"
   },
   {
    "duration": 3,
    "start_time": "2023-06-03T18:42:46.625Z"
   },
   {
    "duration": 53,
    "start_time": "2023-06-03T18:42:55.293Z"
   },
   {
    "duration": 3,
    "start_time": "2023-06-03T18:43:02.440Z"
   },
   {
    "duration": 41,
    "start_time": "2023-06-03T18:43:03.457Z"
   },
   {
    "duration": 3,
    "start_time": "2023-06-03T18:43:12.804Z"
   },
   {
    "duration": 43,
    "start_time": "2023-06-03T18:43:13.780Z"
   },
   {
    "duration": 3,
    "start_time": "2023-06-03T18:43:31.222Z"
   },
   {
    "duration": 48,
    "start_time": "2023-06-03T18:43:31.941Z"
   },
   {
    "duration": 3,
    "start_time": "2023-06-03T18:43:36.039Z"
   },
   {
    "duration": 41,
    "start_time": "2023-06-03T18:43:36.873Z"
   },
   {
    "duration": 3,
    "start_time": "2023-06-03T18:43:51.113Z"
   },
   {
    "duration": 45,
    "start_time": "2023-06-03T18:43:52.402Z"
   },
   {
    "duration": 3,
    "start_time": "2023-06-03T18:43:57.479Z"
   },
   {
    "duration": 44,
    "start_time": "2023-06-03T18:43:58.261Z"
   },
   {
    "duration": 3,
    "start_time": "2023-06-03T18:44:12.407Z"
   },
   {
    "duration": 48,
    "start_time": "2023-06-03T18:44:13.305Z"
   },
   {
    "duration": 3,
    "start_time": "2023-06-03T18:44:32.722Z"
   },
   {
    "duration": 45,
    "start_time": "2023-06-03T18:44:33.266Z"
   },
   {
    "duration": 3,
    "start_time": "2023-06-03T18:44:38.894Z"
   },
   {
    "duration": 12,
    "start_time": "2023-06-03T18:44:39.688Z"
   },
   {
    "duration": 3,
    "start_time": "2023-06-03T18:44:47.190Z"
   },
   {
    "duration": 44,
    "start_time": "2023-06-03T18:44:47.723Z"
   },
   {
    "duration": 3,
    "start_time": "2023-06-03T18:44:56.549Z"
   },
   {
    "duration": 15,
    "start_time": "2023-06-03T18:44:57.098Z"
   },
   {
    "duration": 3,
    "start_time": "2023-06-03T18:45:10.281Z"
   },
   {
    "duration": 13,
    "start_time": "2023-06-03T18:45:11.072Z"
   },
   {
    "duration": 3,
    "start_time": "2023-06-03T18:45:23.656Z"
   },
   {
    "duration": 72,
    "start_time": "2023-06-03T18:45:24.307Z"
   },
   {
    "duration": 3,
    "start_time": "2023-06-03T18:45:32.865Z"
   },
   {
    "duration": 45,
    "start_time": "2023-06-03T18:45:33.436Z"
   },
   {
    "duration": 3,
    "start_time": "2023-06-03T18:46:24.519Z"
   },
   {
    "duration": 46,
    "start_time": "2023-06-03T18:46:25.043Z"
   },
   {
    "duration": 3,
    "start_time": "2023-06-03T18:46:53.855Z"
   },
   {
    "duration": 47,
    "start_time": "2023-06-03T18:46:55.114Z"
   },
   {
    "duration": 3,
    "start_time": "2023-06-03T18:47:17.947Z"
   },
   {
    "duration": 16,
    "start_time": "2023-06-03T18:47:18.603Z"
   },
   {
    "duration": 33,
    "start_time": "2023-06-03T18:47:23.443Z"
   },
   {
    "duration": 3,
    "start_time": "2023-06-03T18:47:45.314Z"
   },
   {
    "duration": 38,
    "start_time": "2023-06-03T18:47:46.064Z"
   },
   {
    "duration": 4,
    "start_time": "2023-06-03T18:48:12.125Z"
   },
   {
    "duration": 33,
    "start_time": "2023-06-03T18:48:13.128Z"
   },
   {
    "duration": 142,
    "start_time": "2023-06-03T18:48:49.647Z"
   },
   {
    "duration": 139,
    "start_time": "2023-06-03T18:48:59.048Z"
   },
   {
    "duration": 114,
    "start_time": "2023-06-03T18:49:15.486Z"
   },
   {
    "duration": 114,
    "start_time": "2023-06-03T18:49:39.199Z"
   },
   {
    "duration": 14,
    "start_time": "2023-06-03T18:50:56.890Z"
   },
   {
    "duration": 13,
    "start_time": "2023-06-03T18:51:14.591Z"
   },
   {
    "duration": 219,
    "start_time": "2023-06-03T18:51:19.373Z"
   },
   {
    "duration": 174,
    "start_time": "2023-06-03T18:51:24.869Z"
   },
   {
    "duration": 125,
    "start_time": "2023-06-03T18:51:31.641Z"
   },
   {
    "duration": 12,
    "start_time": "2023-06-03T18:52:42.468Z"
   },
   {
    "duration": 8,
    "start_time": "2023-06-03T18:52:47.436Z"
   },
   {
    "duration": 5,
    "start_time": "2023-06-03T18:53:29.039Z"
   },
   {
    "duration": 16,
    "start_time": "2023-06-03T18:53:45.315Z"
   },
   {
    "duration": 8,
    "start_time": "2023-06-03T18:54:00.559Z"
   },
   {
    "duration": 101,
    "start_time": "2023-06-03T18:54:09.095Z"
   },
   {
    "duration": 7,
    "start_time": "2023-06-03T18:54:10.910Z"
   },
   {
    "duration": 6,
    "start_time": "2023-06-03T18:54:14.361Z"
   },
   {
    "duration": 5,
    "start_time": "2023-06-03T18:54:19.097Z"
   },
   {
    "duration": 3,
    "start_time": "2023-06-03T18:56:49.833Z"
   },
   {
    "duration": 1227,
    "start_time": "2023-06-03T18:56:50.983Z"
   },
   {
    "duration": 2,
    "start_time": "2023-06-03T18:56:59.560Z"
   },
   {
    "duration": 2,
    "start_time": "2023-06-03T18:57:01.445Z"
   },
   {
    "duration": 46,
    "start_time": "2023-06-03T18:57:01.953Z"
   },
   {
    "duration": 3,
    "start_time": "2023-06-03T18:57:10.809Z"
   },
   {
    "duration": 21,
    "start_time": "2023-06-03T18:57:12.399Z"
   },
   {
    "duration": 3,
    "start_time": "2023-06-03T18:57:56.520Z"
   },
   {
    "duration": 1497,
    "start_time": "2023-06-03T18:57:59.000Z"
   },
   {
    "duration": 3,
    "start_time": "2023-06-03T18:58:47.485Z"
   },
   {
    "duration": 42,
    "start_time": "2023-06-03T18:58:50.936Z"
   },
   {
    "duration": 3,
    "start_time": "2023-06-03T18:58:57.932Z"
   },
   {
    "duration": 9,
    "start_time": "2023-06-03T18:58:58.694Z"
   },
   {
    "duration": 5,
    "start_time": "2023-06-03T18:59:00.788Z"
   },
   {
    "duration": 5,
    "start_time": "2023-06-03T18:59:01.769Z"
   },
   {
    "duration": 26,
    "start_time": "2023-06-03T19:00:11.872Z"
   },
   {
    "duration": 223,
    "start_time": "2023-06-03T19:00:21.071Z"
   },
   {
    "duration": 12,
    "start_time": "2023-06-03T19:03:43.501Z"
   },
   {
    "duration": 351,
    "start_time": "2023-06-03T19:03:51.838Z"
   },
   {
    "duration": 1009,
    "start_time": "2023-06-03T19:04:01.436Z"
   },
   {
    "duration": 137,
    "start_time": "2023-06-03T19:04:41.836Z"
   },
   {
    "duration": 13,
    "start_time": "2023-06-03T19:04:47.841Z"
   },
   {
    "duration": 12,
    "start_time": "2023-06-03T19:05:01.339Z"
   },
   {
    "duration": 12,
    "start_time": "2023-06-03T19:05:06.679Z"
   },
   {
    "duration": 15,
    "start_time": "2023-06-03T19:05:17.799Z"
   },
   {
    "duration": 115,
    "start_time": "2023-06-03T19:05:27.633Z"
   },
   {
    "duration": 9,
    "start_time": "2023-06-03T19:06:06.799Z"
   },
   {
    "duration": 9,
    "start_time": "2023-06-03T19:06:47.022Z"
   },
   {
    "duration": 11,
    "start_time": "2023-06-03T19:06:57.120Z"
   },
   {
    "duration": 15,
    "start_time": "2023-06-03T19:07:05.676Z"
   },
   {
    "duration": 123,
    "start_time": "2023-06-03T19:07:11.339Z"
   },
   {
    "duration": 12,
    "start_time": "2023-06-03T19:08:28.219Z"
   },
   {
    "duration": 89,
    "start_time": "2023-06-03T19:08:41.333Z"
   },
   {
    "duration": 8,
    "start_time": "2023-06-03T19:09:49.064Z"
   },
   {
    "duration": 2590,
    "start_time": "2023-06-03T19:10:01.440Z"
   },
   {
    "duration": 10,
    "start_time": "2023-06-03T19:10:04.878Z"
   },
   {
    "duration": 12,
    "start_time": "2023-06-03T19:10:07.708Z"
   },
   {
    "duration": 255,
    "start_time": "2023-06-03T19:10:18.809Z"
   },
   {
    "duration": 113,
    "start_time": "2023-06-03T19:11:17.059Z"
   },
   {
    "duration": 6,
    "start_time": "2023-06-03T19:11:27.567Z"
   },
   {
    "duration": 23,
    "start_time": "2023-06-03T19:11:52.239Z"
   },
   {
    "duration": 109,
    "start_time": "2023-06-03T19:12:04.363Z"
   },
   {
    "duration": 101,
    "start_time": "2023-06-03T19:12:11.799Z"
   },
   {
    "duration": 127,
    "start_time": "2023-06-03T19:13:02.928Z"
   },
   {
    "duration": 114,
    "start_time": "2023-06-03T19:13:30.508Z"
   },
   {
    "duration": 292,
    "start_time": "2023-06-03T19:13:58.365Z"
   },
   {
    "duration": 1041,
    "start_time": "2023-06-04T12:05:48.098Z"
   },
   {
    "duration": 129,
    "start_time": "2023-06-04T12:05:49.142Z"
   },
   {
    "duration": 29,
    "start_time": "2023-06-04T12:05:49.273Z"
   },
   {
    "duration": 40,
    "start_time": "2023-06-04T12:05:49.303Z"
   },
   {
    "duration": 20,
    "start_time": "2023-06-04T12:05:49.346Z"
   },
   {
    "duration": 883,
    "start_time": "2023-06-04T12:05:49.368Z"
   },
   {
    "duration": 364,
    "start_time": "2023-06-04T12:05:50.253Z"
   },
   {
    "duration": 191,
    "start_time": "2023-06-04T12:05:50.619Z"
   },
   {
    "duration": 162,
    "start_time": "2023-06-04T12:05:53.902Z"
   },
   {
    "duration": 176,
    "start_time": "2023-06-04T12:05:54.696Z"
   },
   {
    "duration": 3,
    "start_time": "2023-06-04T12:06:05.613Z"
   },
   {
    "duration": 102,
    "start_time": "2023-06-04T12:06:05.618Z"
   },
   {
    "duration": 19,
    "start_time": "2023-06-04T12:06:05.727Z"
   },
   {
    "duration": 30,
    "start_time": "2023-06-04T12:06:05.748Z"
   },
   {
    "duration": 64,
    "start_time": "2023-06-04T12:06:05.785Z"
   },
   {
    "duration": 970,
    "start_time": "2023-06-04T12:06:05.851Z"
   },
   {
    "duration": 309,
    "start_time": "2023-06-04T12:06:06.830Z"
   },
   {
    "duration": 273,
    "start_time": "2023-06-04T12:06:07.140Z"
   },
   {
    "duration": 173,
    "start_time": "2023-06-04T12:06:07.414Z"
   },
   {
    "duration": 200,
    "start_time": "2023-06-04T12:06:07.590Z"
   },
   {
    "duration": 10,
    "start_time": "2023-06-04T12:06:07.792Z"
   },
   {
    "duration": 65,
    "start_time": "2023-06-04T12:06:07.804Z"
   },
   {
    "duration": 50,
    "start_time": "2023-06-04T12:06:07.872Z"
   },
   {
    "duration": 25,
    "start_time": "2023-06-04T12:06:07.926Z"
   },
   {
    "duration": 6,
    "start_time": "2023-06-04T12:06:07.953Z"
   },
   {
    "duration": 27,
    "start_time": "2023-06-04T12:06:07.961Z"
   },
   {
    "duration": 26,
    "start_time": "2023-06-04T12:06:07.991Z"
   },
   {
    "duration": 22,
    "start_time": "2023-06-04T12:06:08.019Z"
   },
   {
    "duration": 5,
    "start_time": "2023-06-04T12:06:08.043Z"
   },
   {
    "duration": 309,
    "start_time": "2023-06-04T12:06:08.049Z"
   },
   {
    "duration": 22,
    "start_time": "2023-06-04T12:06:08.361Z"
   },
   {
    "duration": 128,
    "start_time": "2023-06-04T12:06:08.392Z"
   },
   {
    "duration": 0,
    "start_time": "2023-06-04T12:06:08.525Z"
   },
   {
    "duration": 0,
    "start_time": "2023-06-04T12:06:08.525Z"
   },
   {
    "duration": 0,
    "start_time": "2023-06-04T12:06:08.526Z"
   },
   {
    "duration": 12,
    "start_time": "2023-06-04T12:06:16.561Z"
   },
   {
    "duration": 6,
    "start_time": "2023-06-04T12:06:18.491Z"
   },
   {
    "duration": 1146,
    "start_time": "2023-06-04T12:06:19.033Z"
   },
   {
    "duration": 4,
    "start_time": "2023-06-04T12:06:23.008Z"
   },
   {
    "duration": 14,
    "start_time": "2023-06-04T12:06:23.904Z"
   },
   {
    "duration": 120,
    "start_time": "2023-06-04T12:06:24.900Z"
   },
   {
    "duration": 5,
    "start_time": "2023-06-04T12:07:11.351Z"
   },
   {
    "duration": 8,
    "start_time": "2023-06-04T12:07:21.665Z"
   },
   {
    "duration": 10,
    "start_time": "2023-06-04T12:08:03.708Z"
   },
   {
    "duration": 13,
    "start_time": "2023-06-04T12:08:26.096Z"
   },
   {
    "duration": 9,
    "start_time": "2023-06-04T12:08:30.160Z"
   },
   {
    "duration": 9,
    "start_time": "2023-06-04T12:08:34.149Z"
   },
   {
    "duration": 11,
    "start_time": "2023-06-04T12:08:54.417Z"
   },
   {
    "duration": 27,
    "start_time": "2023-06-04T12:08:58.068Z"
   },
   {
    "duration": 11,
    "start_time": "2023-06-04T12:09:08.947Z"
   },
   {
    "duration": 17,
    "start_time": "2023-06-04T12:09:12.193Z"
   },
   {
    "duration": 10,
    "start_time": "2023-06-04T12:09:14.716Z"
   },
   {
    "duration": 12,
    "start_time": "2023-06-04T12:09:17.359Z"
   },
   {
    "duration": 15,
    "start_time": "2023-06-04T12:15:07.110Z"
   },
   {
    "duration": 15,
    "start_time": "2023-06-04T12:15:25.029Z"
   },
   {
    "duration": 8,
    "start_time": "2023-06-04T12:15:28.938Z"
   },
   {
    "duration": 51,
    "start_time": "2023-06-04T12:15:31.809Z"
   },
   {
    "duration": 9,
    "start_time": "2023-06-04T12:15:38.552Z"
   },
   {
    "duration": 26,
    "start_time": "2023-06-04T12:15:44.719Z"
   },
   {
    "duration": 168,
    "start_time": "2023-06-04T12:15:50.460Z"
   },
   {
    "duration": 10,
    "start_time": "2023-06-04T12:16:06.123Z"
   },
   {
    "duration": 239,
    "start_time": "2023-06-04T12:16:09.703Z"
   },
   {
    "duration": 1292,
    "start_time": "2023-06-04T12:20:09.843Z"
   },
   {
    "duration": 568,
    "start_time": "2023-06-04T12:21:33.865Z"
   },
   {
    "duration": 209,
    "start_time": "2023-06-04T12:21:40.074Z"
   },
   {
    "duration": 258,
    "start_time": "2023-06-04T12:22:06.392Z"
   },
   {
    "duration": 622,
    "start_time": "2023-06-04T12:22:31.174Z"
   },
   {
    "duration": 54,
    "start_time": "2023-06-04T12:23:33.098Z"
   },
   {
    "duration": 315,
    "start_time": "2023-06-04T12:24:01.273Z"
   },
   {
    "duration": 2,
    "start_time": "2023-06-04T12:24:27.473Z"
   },
   {
    "duration": 48,
    "start_time": "2023-06-04T12:25:06.112Z"
   },
   {
    "duration": 1182,
    "start_time": "2023-06-04T12:25:09.904Z"
   },
   {
    "duration": 66,
    "start_time": "2023-06-04T12:25:11.088Z"
   },
   {
    "duration": 17,
    "start_time": "2023-06-04T12:25:11.156Z"
   },
   {
    "duration": 31,
    "start_time": "2023-06-04T12:25:11.174Z"
   },
   {
    "duration": 25,
    "start_time": "2023-06-04T12:25:11.207Z"
   },
   {
    "duration": 836,
    "start_time": "2023-06-04T12:25:11.233Z"
   },
   {
    "duration": 278,
    "start_time": "2023-06-04T12:25:12.071Z"
   },
   {
    "duration": 189,
    "start_time": "2023-06-04T12:25:12.351Z"
   },
   {
    "duration": 175,
    "start_time": "2023-06-04T12:25:12.542Z"
   },
   {
    "duration": 229,
    "start_time": "2023-06-04T12:25:12.718Z"
   },
   {
    "duration": 8,
    "start_time": "2023-06-04T12:25:12.949Z"
   },
   {
    "duration": 11,
    "start_time": "2023-06-04T12:25:12.958Z"
   },
   {
    "duration": 21,
    "start_time": "2023-06-04T12:25:12.977Z"
   },
   {
    "duration": 34,
    "start_time": "2023-06-04T12:25:13.002Z"
   },
   {
    "duration": 4,
    "start_time": "2023-06-04T12:25:13.038Z"
   },
   {
    "duration": 18,
    "start_time": "2023-06-04T12:25:13.043Z"
   },
   {
    "duration": 21,
    "start_time": "2023-06-04T12:25:13.062Z"
   },
   {
    "duration": 31,
    "start_time": "2023-06-04T12:25:13.084Z"
   },
   {
    "duration": 9,
    "start_time": "2023-06-04T12:25:13.117Z"
   },
   {
    "duration": 220,
    "start_time": "2023-06-04T12:25:13.128Z"
   },
   {
    "duration": 5,
    "start_time": "2023-06-04T12:25:13.350Z"
   },
   {
    "duration": 9,
    "start_time": "2023-06-04T12:25:15.060Z"
   },
   {
    "duration": 11,
    "start_time": "2023-06-04T12:25:20.151Z"
   },
   {
    "duration": 8,
    "start_time": "2023-06-04T12:25:27.141Z"
   },
   {
    "duration": 1228,
    "start_time": "2023-06-04T12:26:11.112Z"
   },
   {
    "duration": 5,
    "start_time": "2023-06-04T12:26:52.552Z"
   },
   {
    "duration": 6,
    "start_time": "2023-06-04T12:26:55.209Z"
   },
   {
    "duration": 6,
    "start_time": "2023-06-04T12:26:57.414Z"
   },
   {
    "duration": 6,
    "start_time": "2023-06-04T12:27:04.543Z"
   },
   {
    "duration": 12,
    "start_time": "2023-06-04T12:27:07.705Z"
   },
   {
    "duration": 3644,
    "start_time": "2023-06-04T12:27:19.374Z"
   },
   {
    "duration": 5,
    "start_time": "2023-06-04T12:41:21.982Z"
   },
   {
    "duration": 8,
    "start_time": "2023-06-04T12:41:47.393Z"
   },
   {
    "duration": 10,
    "start_time": "2023-06-04T12:41:51.016Z"
   },
   {
    "duration": 9,
    "start_time": "2023-06-04T12:41:53.655Z"
   },
   {
    "duration": 7,
    "start_time": "2023-06-04T12:42:01.536Z"
   },
   {
    "duration": 212,
    "start_time": "2023-06-04T12:42:32.643Z"
   },
   {
    "duration": 8,
    "start_time": "2023-06-04T12:44:39.878Z"
   },
   {
    "duration": 9,
    "start_time": "2023-06-04T12:44:40.621Z"
   },
   {
    "duration": 230,
    "start_time": "2023-06-04T12:44:43.469Z"
   },
   {
    "duration": 250,
    "start_time": "2023-06-04T12:45:29.075Z"
   },
   {
    "duration": 204,
    "start_time": "2023-06-04T12:45:34.568Z"
   },
   {
    "duration": 217,
    "start_time": "2023-06-04T12:45:43.256Z"
   },
   {
    "duration": 218,
    "start_time": "2023-06-04T12:45:59.299Z"
   },
   {
    "duration": 303,
    "start_time": "2023-06-04T12:46:04.052Z"
   },
   {
    "duration": 121,
    "start_time": "2023-06-04T12:46:17.315Z"
   },
   {
    "duration": 220,
    "start_time": "2023-06-04T12:46:31.368Z"
   },
   {
    "duration": 204,
    "start_time": "2023-06-04T12:46:48.818Z"
   },
   {
    "duration": 105,
    "start_time": "2023-06-04T12:48:44.034Z"
   },
   {
    "duration": 212,
    "start_time": "2023-06-04T12:48:47.452Z"
   },
   {
    "duration": 212,
    "start_time": "2023-06-04T12:51:05.853Z"
   },
   {
    "duration": 5,
    "start_time": "2023-06-04T12:55:19.316Z"
   },
   {
    "duration": 10,
    "start_time": "2023-06-04T12:55:20.207Z"
   },
   {
    "duration": 220,
    "start_time": "2023-06-04T12:55:21.862Z"
   },
   {
    "duration": 8,
    "start_time": "2023-06-04T12:55:38.147Z"
   },
   {
    "duration": 210,
    "start_time": "2023-06-04T12:55:38.820Z"
   },
   {
    "duration": 217,
    "start_time": "2023-06-04T12:55:42.813Z"
   },
   {
    "duration": 56,
    "start_time": "2023-06-04T12:58:28.800Z"
   },
   {
    "duration": 19,
    "start_time": "2023-06-04T12:58:39.954Z"
   },
   {
    "duration": 1780,
    "start_time": "2023-06-04T12:58:46.343Z"
   },
   {
    "duration": 13,
    "start_time": "2023-06-04T12:58:55.008Z"
   },
   {
    "duration": 10,
    "start_time": "2023-06-04T12:59:31.425Z"
   },
   {
    "duration": 24,
    "start_time": "2023-06-04T12:59:52.873Z"
   },
   {
    "duration": 2874,
    "start_time": "2023-06-04T12:59:58.248Z"
   },
   {
    "duration": 11,
    "start_time": "2023-06-04T13:00:05.316Z"
   },
   {
    "duration": 9,
    "start_time": "2023-06-04T13:00:17.920Z"
   },
   {
    "duration": 11,
    "start_time": "2023-06-04T13:00:26.739Z"
   },
   {
    "duration": 10,
    "start_time": "2023-06-04T13:00:55.319Z"
   },
   {
    "duration": 4430,
    "start_time": "2023-06-04T13:02:06.270Z"
   },
   {
    "duration": 579,
    "start_time": "2023-06-04T13:02:26.007Z"
   },
   {
    "duration": 573,
    "start_time": "2023-06-04T13:07:36.554Z"
   },
   {
    "duration": 771,
    "start_time": "2023-06-04T13:07:44.350Z"
   },
   {
    "duration": 503,
    "start_time": "2023-06-04T13:07:52.855Z"
   },
   {
    "duration": 658,
    "start_time": "2023-06-04T13:08:06.456Z"
   },
   {
    "duration": 702,
    "start_time": "2023-06-04T13:08:54.911Z"
   },
   {
    "duration": 508,
    "start_time": "2023-06-04T13:09:07.225Z"
   },
   {
    "duration": 682,
    "start_time": "2023-06-04T13:09:15.317Z"
   },
   {
    "duration": 518,
    "start_time": "2023-06-04T13:09:22.868Z"
   },
   {
    "duration": 499,
    "start_time": "2023-06-04T13:09:34.197Z"
   },
   {
    "duration": 537,
    "start_time": "2023-06-04T13:09:36.714Z"
   },
   {
    "duration": 4143,
    "start_time": "2023-06-04T13:09:41.360Z"
   },
   {
    "duration": 4529,
    "start_time": "2023-06-04T13:09:53.795Z"
   },
   {
    "duration": 10,
    "start_time": "2023-06-04T13:10:38.954Z"
   },
   {
    "duration": 6,
    "start_time": "2023-06-04T13:11:10.406Z"
   },
   {
    "duration": 22,
    "start_time": "2023-06-04T13:11:12.504Z"
   },
   {
    "duration": 233,
    "start_time": "2023-06-04T13:11:13.400Z"
   },
   {
    "duration": 241,
    "start_time": "2023-06-04T13:11:17.005Z"
   },
   {
    "duration": 16,
    "start_time": "2023-06-04T13:11:27.006Z"
   },
   {
    "duration": 4807,
    "start_time": "2023-06-04T13:11:30.421Z"
   },
   {
    "duration": 4656,
    "start_time": "2023-06-04T13:12:24.120Z"
   },
   {
    "duration": 4748,
    "start_time": "2023-06-04T13:12:39.070Z"
   },
   {
    "duration": 4526,
    "start_time": "2023-06-04T13:12:47.537Z"
   },
   {
    "duration": 4560,
    "start_time": "2023-06-04T13:13:05.810Z"
   },
   {
    "duration": 4850,
    "start_time": "2023-06-04T13:15:02.154Z"
   },
   {
    "duration": 43,
    "start_time": "2023-06-04T13:18:25.669Z"
   },
   {
    "duration": 25,
    "start_time": "2023-06-04T13:18:39.413Z"
   },
   {
    "duration": 5,
    "start_time": "2023-06-04T13:19:40.343Z"
   },
   {
    "duration": 10,
    "start_time": "2023-06-04T13:19:49.103Z"
   },
   {
    "duration": 6,
    "start_time": "2023-06-04T13:19:56.841Z"
   },
   {
    "duration": 11,
    "start_time": "2023-06-04T13:19:59.010Z"
   },
   {
    "duration": 15,
    "start_time": "2023-06-04T13:19:59.104Z"
   },
   {
    "duration": 11,
    "start_time": "2023-06-04T13:20:09.820Z"
   },
   {
    "duration": 9,
    "start_time": "2023-06-04T13:20:14.217Z"
   },
   {
    "duration": 6,
    "start_time": "2023-06-04T13:21:50.447Z"
   },
   {
    "duration": 12,
    "start_time": "2023-06-04T13:22:06.583Z"
   },
   {
    "duration": 11,
    "start_time": "2023-06-04T13:22:23.306Z"
   },
   {
    "duration": 3,
    "start_time": "2023-06-04T13:23:36.362Z"
   },
   {
    "duration": 24,
    "start_time": "2023-06-04T13:23:37.513Z"
   },
   {
    "duration": 227,
    "start_time": "2023-06-04T13:23:39.921Z"
   },
   {
    "duration": 252,
    "start_time": "2023-06-04T13:23:43.149Z"
   },
   {
    "duration": 9,
    "start_time": "2023-06-04T13:24:10.689Z"
   },
   {
    "duration": 9,
    "start_time": "2023-06-04T13:24:11.775Z"
   },
   {
    "duration": 255,
    "start_time": "2023-06-04T13:24:13.141Z"
   },
   {
    "duration": 277,
    "start_time": "2023-06-04T13:24:15.141Z"
   },
   {
    "duration": 5118,
    "start_time": "2023-06-04T13:25:12.526Z"
   },
   {
    "duration": 10,
    "start_time": "2023-06-04T13:25:51.727Z"
   },
   {
    "duration": 9,
    "start_time": "2023-06-04T13:26:52.406Z"
   },
   {
    "duration": 9,
    "start_time": "2023-06-04T13:27:38.057Z"
   },
   {
    "duration": 19,
    "start_time": "2023-06-04T13:28:00.305Z"
   },
   {
    "duration": 138,
    "start_time": "2023-06-04T13:28:26.007Z"
   },
   {
    "duration": 266,
    "start_time": "2023-06-04T13:30:02.321Z"
   },
   {
    "duration": 125,
    "start_time": "2023-06-04T13:30:05.119Z"
   },
   {
    "duration": 142,
    "start_time": "2023-06-04T13:30:51.994Z"
   },
   {
    "duration": 142,
    "start_time": "2023-06-04T13:31:05.709Z"
   },
   {
    "duration": 228,
    "start_time": "2023-06-04T13:31:43.925Z"
   },
   {
    "duration": 244,
    "start_time": "2023-06-04T13:32:06.826Z"
   },
   {
    "duration": 263,
    "start_time": "2023-06-04T13:33:24.056Z"
   },
   {
    "duration": 254,
    "start_time": "2023-06-04T13:34:15.974Z"
   },
   {
    "duration": 235,
    "start_time": "2023-06-04T13:34:26.816Z"
   },
   {
    "duration": 293,
    "start_time": "2023-06-04T13:34:31.594Z"
   },
   {
    "duration": 294,
    "start_time": "2023-06-04T13:35:00.471Z"
   },
   {
    "duration": 316,
    "start_time": "2023-06-04T13:35:06.024Z"
   },
   {
    "duration": 290,
    "start_time": "2023-06-04T13:35:55.348Z"
   },
   {
    "duration": 316,
    "start_time": "2023-06-04T13:36:00.914Z"
   },
   {
    "duration": 551,
    "start_time": "2023-06-04T13:36:51.404Z"
   },
   {
    "duration": 338,
    "start_time": "2023-06-04T13:36:55.536Z"
   },
   {
    "duration": 342,
    "start_time": "2023-06-04T13:37:00.908Z"
   },
   {
    "duration": 344,
    "start_time": "2023-06-04T13:37:05.263Z"
   },
   {
    "duration": 272,
    "start_time": "2023-06-04T13:38:13.110Z"
   },
   {
    "duration": 296,
    "start_time": "2023-06-04T13:38:25.417Z"
   },
   {
    "duration": 339,
    "start_time": "2023-06-04T13:39:18.225Z"
   },
   {
    "duration": 397,
    "start_time": "2023-06-04T13:39:27.400Z"
   },
   {
    "duration": 472,
    "start_time": "2023-06-04T13:39:34.927Z"
   },
   {
    "duration": 514,
    "start_time": "2023-06-04T13:39:44.122Z"
   },
   {
    "duration": 299,
    "start_time": "2023-06-04T13:39:53.352Z"
   },
   {
    "duration": 352,
    "start_time": "2023-06-04T13:46:23.539Z"
   },
   {
    "duration": 296,
    "start_time": "2023-06-04T13:50:12.443Z"
   },
   {
    "duration": 617,
    "start_time": "2023-06-04T13:50:32.900Z"
   },
   {
    "duration": 382,
    "start_time": "2023-06-04T13:51:35.344Z"
   },
   {
    "duration": 385,
    "start_time": "2023-06-04T13:51:45.964Z"
   },
   {
    "duration": 11,
    "start_time": "2023-06-04T13:57:26.225Z"
   },
   {
    "duration": 3,
    "start_time": "2023-06-04T13:57:52.359Z"
   },
   {
    "duration": 20,
    "start_time": "2023-06-04T13:58:14.600Z"
   },
   {
    "duration": 14,
    "start_time": "2023-06-04T13:58:17.779Z"
   },
   {
    "duration": 8,
    "start_time": "2023-06-04T13:58:21.513Z"
   },
   {
    "duration": 8,
    "start_time": "2023-06-04T13:58:38.416Z"
   },
   {
    "duration": 12,
    "start_time": "2023-06-04T13:58:44.803Z"
   },
   {
    "duration": 6,
    "start_time": "2023-06-04T13:59:12.555Z"
   },
   {
    "duration": 6,
    "start_time": "2023-06-04T13:59:16.061Z"
   },
   {
    "duration": 25,
    "start_time": "2023-06-04T13:59:19.914Z"
   },
   {
    "duration": 10,
    "start_time": "2023-06-04T13:59:35.918Z"
   },
   {
    "duration": 7,
    "start_time": "2023-06-04T13:59:39.704Z"
   },
   {
    "duration": 5,
    "start_time": "2023-06-04T13:59:42.225Z"
   },
   {
    "duration": 10,
    "start_time": "2023-06-04T13:59:50.414Z"
   },
   {
    "duration": 6,
    "start_time": "2023-06-04T13:59:55.501Z"
   },
   {
    "duration": 5,
    "start_time": "2023-06-04T13:59:58.221Z"
   },
   {
    "duration": 12,
    "start_time": "2023-06-04T14:00:17.801Z"
   },
   {
    "duration": 10,
    "start_time": "2023-06-04T14:00:25.108Z"
   },
   {
    "duration": 4,
    "start_time": "2023-06-04T14:00:45.871Z"
   },
   {
    "duration": 11,
    "start_time": "2023-06-04T14:03:24.630Z"
   },
   {
    "duration": 5,
    "start_time": "2023-06-04T14:03:31.498Z"
   },
   {
    "duration": 12,
    "start_time": "2023-06-04T14:03:45.710Z"
   },
   {
    "duration": 5,
    "start_time": "2023-06-04T14:03:46.632Z"
   },
   {
    "duration": 4,
    "start_time": "2023-06-04T14:03:51.114Z"
   },
   {
    "duration": 17,
    "start_time": "2023-06-04T14:04:07.591Z"
   },
   {
    "duration": 3,
    "start_time": "2023-06-04T14:04:08.313Z"
   },
   {
    "duration": 1246,
    "start_time": "2023-06-04T14:20:19.503Z"
   },
   {
    "duration": 68,
    "start_time": "2023-06-04T14:20:20.751Z"
   },
   {
    "duration": 18,
    "start_time": "2023-06-04T14:20:20.821Z"
   },
   {
    "duration": 31,
    "start_time": "2023-06-04T14:20:20.841Z"
   },
   {
    "duration": 34,
    "start_time": "2023-06-04T14:20:20.873Z"
   },
   {
    "duration": 788,
    "start_time": "2023-06-04T14:20:20.909Z"
   },
   {
    "duration": 305,
    "start_time": "2023-06-04T14:20:21.699Z"
   },
   {
    "duration": 184,
    "start_time": "2023-06-04T14:20:22.008Z"
   },
   {
    "duration": 234,
    "start_time": "2023-06-04T14:20:22.193Z"
   },
   {
    "duration": 189,
    "start_time": "2023-06-04T14:20:22.429Z"
   },
   {
    "duration": 8,
    "start_time": "2023-06-04T14:20:22.620Z"
   },
   {
    "duration": 26,
    "start_time": "2023-06-04T14:20:22.630Z"
   },
   {
    "duration": 23,
    "start_time": "2023-06-04T14:20:22.660Z"
   },
   {
    "duration": 42,
    "start_time": "2023-06-04T14:20:22.684Z"
   },
   {
    "duration": 11,
    "start_time": "2023-06-04T14:20:22.728Z"
   },
   {
    "duration": 35,
    "start_time": "2023-06-04T14:20:22.740Z"
   },
   {
    "duration": 46,
    "start_time": "2023-06-04T14:20:22.778Z"
   },
   {
    "duration": 30,
    "start_time": "2023-06-04T14:20:22.826Z"
   },
   {
    "duration": 5,
    "start_time": "2023-06-04T14:20:22.858Z"
   },
   {
    "duration": 251,
    "start_time": "2023-06-04T14:20:22.865Z"
   },
   {
    "duration": 6,
    "start_time": "2023-06-04T14:20:23.118Z"
   },
   {
    "duration": 33,
    "start_time": "2023-06-04T14:20:23.126Z"
   },
   {
    "duration": 33,
    "start_time": "2023-06-04T14:20:23.161Z"
   },
   {
    "duration": 3614,
    "start_time": "2023-06-04T14:20:23.196Z"
   },
   {
    "duration": 2,
    "start_time": "2023-06-04T14:20:26.812Z"
   },
   {
    "duration": 28,
    "start_time": "2023-06-04T14:20:26.816Z"
   },
   {
    "duration": 223,
    "start_time": "2023-06-04T14:20:26.845Z"
   },
   {
    "duration": 328,
    "start_time": "2023-06-04T14:20:27.070Z"
   },
   {
    "duration": 4306,
    "start_time": "2023-06-04T14:20:27.400Z"
   },
   {
    "duration": 15,
    "start_time": "2023-06-04T14:20:31.707Z"
   },
   {
    "duration": 321,
    "start_time": "2023-06-04T14:20:31.725Z"
   },
   {
    "duration": 301,
    "start_time": "2023-06-04T14:20:32.048Z"
   },
   {
    "duration": 378,
    "start_time": "2023-06-04T14:20:32.350Z"
   },
   {
    "duration": 10,
    "start_time": "2023-06-04T14:20:32.730Z"
   },
   {
    "duration": 6,
    "start_time": "2023-06-04T14:20:32.742Z"
   },
   {
    "duration": 13,
    "start_time": "2023-06-04T14:20:32.750Z"
   },
   {
    "duration": 11,
    "start_time": "2023-06-04T14:20:32.780Z"
   },
   {
    "duration": 1239,
    "start_time": "2023-06-04T16:30:48.161Z"
   },
   {
    "duration": 65,
    "start_time": "2023-06-04T16:30:49.406Z"
   },
   {
    "duration": 33,
    "start_time": "2023-06-04T16:30:49.473Z"
   },
   {
    "duration": 24,
    "start_time": "2023-06-04T16:30:49.511Z"
   },
   {
    "duration": 9,
    "start_time": "2023-06-04T16:30:49.537Z"
   },
   {
    "duration": 807,
    "start_time": "2023-06-04T16:30:49.547Z"
   },
   {
    "duration": 273,
    "start_time": "2023-06-04T16:30:50.356Z"
   },
   {
    "duration": 196,
    "start_time": "2023-06-04T16:30:50.631Z"
   },
   {
    "duration": 160,
    "start_time": "2023-06-04T16:30:50.829Z"
   },
   {
    "duration": 252,
    "start_time": "2023-06-04T16:30:50.994Z"
   },
   {
    "duration": 9,
    "start_time": "2023-06-04T16:30:51.247Z"
   },
   {
    "duration": 20,
    "start_time": "2023-06-04T16:30:51.258Z"
   },
   {
    "duration": 34,
    "start_time": "2023-06-04T16:30:51.288Z"
   },
   {
    "duration": 18,
    "start_time": "2023-06-04T16:30:51.323Z"
   },
   {
    "duration": 4,
    "start_time": "2023-06-04T16:30:51.343Z"
   },
   {
    "duration": 41,
    "start_time": "2023-06-04T16:30:51.348Z"
   },
   {
    "duration": 49,
    "start_time": "2023-06-04T16:30:51.393Z"
   },
   {
    "duration": 10,
    "start_time": "2023-06-04T16:30:51.444Z"
   },
   {
    "duration": 15,
    "start_time": "2023-06-04T16:30:51.456Z"
   },
   {
    "duration": 258,
    "start_time": "2023-06-04T16:30:51.473Z"
   },
   {
    "duration": 7,
    "start_time": "2023-06-04T16:30:51.733Z"
   },
   {
    "duration": 16,
    "start_time": "2023-06-04T16:30:51.742Z"
   },
   {
    "duration": 26,
    "start_time": "2023-06-04T16:30:51.760Z"
   },
   {
    "duration": 7,
    "start_time": "2023-06-04T16:31:07.258Z"
   },
   {
    "duration": 7,
    "start_time": "2023-06-04T16:31:11.704Z"
   },
   {
    "duration": 1171,
    "start_time": "2023-06-04T16:31:18.340Z"
   },
   {
    "duration": 3,
    "start_time": "2023-06-04T16:36:16.138Z"
   },
   {
    "duration": 7,
    "start_time": "2023-06-04T16:37:35.417Z"
   },
   {
    "duration": 11,
    "start_time": "2023-06-04T16:37:51.169Z"
   },
   {
    "duration": 441,
    "start_time": "2023-06-04T16:38:00.604Z"
   },
   {
    "duration": 110,
    "start_time": "2023-06-04T16:38:04.410Z"
   },
   {
    "duration": 502,
    "start_time": "2023-06-04T16:38:11.145Z"
   },
   {
    "duration": 59,
    "start_time": "2023-06-04T16:40:43.838Z"
   },
   {
    "duration": 1274,
    "start_time": "2023-06-04T16:40:47.218Z"
   },
   {
    "duration": 76,
    "start_time": "2023-06-04T16:40:48.496Z"
   },
   {
    "duration": 20,
    "start_time": "2023-06-04T16:40:48.573Z"
   },
   {
    "duration": 17,
    "start_time": "2023-06-04T16:40:48.595Z"
   },
   {
    "duration": 16,
    "start_time": "2023-06-04T16:40:48.614Z"
   },
   {
    "duration": 805,
    "start_time": "2023-06-04T16:40:48.632Z"
   },
   {
    "duration": 275,
    "start_time": "2023-06-04T16:40:49.439Z"
   },
   {
    "duration": 192,
    "start_time": "2023-06-04T16:40:49.715Z"
   },
   {
    "duration": 156,
    "start_time": "2023-06-04T16:40:49.909Z"
   },
   {
    "duration": 265,
    "start_time": "2023-06-04T16:40:50.066Z"
   },
   {
    "duration": 9,
    "start_time": "2023-06-04T16:40:50.333Z"
   },
   {
    "duration": 16,
    "start_time": "2023-06-04T16:40:50.344Z"
   },
   {
    "duration": 28,
    "start_time": "2023-06-04T16:40:50.363Z"
   },
   {
    "duration": 9,
    "start_time": "2023-06-04T16:41:36.802Z"
   },
   {
    "duration": 9,
    "start_time": "2023-06-04T16:43:58.804Z"
   },
   {
    "duration": 1320,
    "start_time": "2023-06-04T16:44:04.749Z"
   },
   {
    "duration": 79,
    "start_time": "2023-06-04T16:44:06.071Z"
   },
   {
    "duration": 17,
    "start_time": "2023-06-04T16:44:06.152Z"
   },
   {
    "duration": 35,
    "start_time": "2023-06-04T16:44:06.172Z"
   },
   {
    "duration": 35,
    "start_time": "2023-06-04T16:44:06.213Z"
   },
   {
    "duration": 921,
    "start_time": "2023-06-04T16:44:06.250Z"
   },
   {
    "duration": 292,
    "start_time": "2023-06-04T16:44:07.173Z"
   },
   {
    "duration": 194,
    "start_time": "2023-06-04T16:44:07.467Z"
   },
   {
    "duration": 190,
    "start_time": "2023-06-04T16:44:07.662Z"
   },
   {
    "duration": 283,
    "start_time": "2023-06-04T16:44:07.855Z"
   },
   {
    "duration": 144,
    "start_time": "2023-06-04T16:44:08.141Z"
   },
   {
    "duration": 18,
    "start_time": "2023-06-04T16:44:13.507Z"
   },
   {
    "duration": 20,
    "start_time": "2023-06-04T16:45:06.316Z"
   },
   {
    "duration": 6,
    "start_time": "2023-06-04T16:47:50.620Z"
   },
   {
    "duration": 5,
    "start_time": "2023-06-04T16:47:57.944Z"
   },
   {
    "duration": 18,
    "start_time": "2023-06-04T16:48:33.608Z"
   },
   {
    "duration": 9,
    "start_time": "2023-06-04T16:48:36.462Z"
   },
   {
    "duration": 95,
    "start_time": "2023-06-04T16:48:41.136Z"
   },
   {
    "duration": 7,
    "start_time": "2023-06-04T16:48:42.946Z"
   },
   {
    "duration": 6,
    "start_time": "2023-06-04T16:48:51.457Z"
   },
   {
    "duration": 1281,
    "start_time": "2023-06-04T16:50:24.924Z"
   },
   {
    "duration": 87,
    "start_time": "2023-06-04T16:50:26.206Z"
   },
   {
    "duration": 26,
    "start_time": "2023-06-04T16:50:26.298Z"
   },
   {
    "duration": 44,
    "start_time": "2023-06-04T16:50:26.326Z"
   },
   {
    "duration": 69,
    "start_time": "2023-06-04T16:50:26.373Z"
   },
   {
    "duration": 1018,
    "start_time": "2023-06-04T16:50:26.445Z"
   },
   {
    "duration": 306,
    "start_time": "2023-06-04T16:50:27.465Z"
   },
   {
    "duration": 197,
    "start_time": "2023-06-04T16:50:27.772Z"
   },
   {
    "duration": 196,
    "start_time": "2023-06-04T16:50:27.971Z"
   },
   {
    "duration": 278,
    "start_time": "2023-06-04T16:50:28.170Z"
   },
   {
    "duration": 3,
    "start_time": "2023-06-04T16:50:28.450Z"
   },
   {
    "duration": 24,
    "start_time": "2023-06-04T16:50:35.722Z"
   },
   {
    "duration": 23,
    "start_time": "2023-06-04T16:50:40.349Z"
   },
   {
    "duration": 9,
    "start_time": "2023-06-04T16:50:44.924Z"
   },
   {
    "duration": 10,
    "start_time": "2023-06-04T16:50:45.923Z"
   },
   {
    "duration": 9,
    "start_time": "2023-06-04T16:50:48.512Z"
   },
   {
    "duration": 8,
    "start_time": "2023-06-04T16:50:51.466Z"
   },
   {
    "duration": 10,
    "start_time": "2023-06-04T16:51:34.756Z"
   },
   {
    "duration": 10,
    "start_time": "2023-06-04T16:51:51.161Z"
   },
   {
    "duration": 12,
    "start_time": "2023-06-04T16:51:54.302Z"
   },
   {
    "duration": 6,
    "start_time": "2023-06-04T16:51:58.815Z"
   },
   {
    "duration": 5,
    "start_time": "2023-06-04T16:52:03.931Z"
   },
   {
    "duration": 8,
    "start_time": "2023-06-04T16:53:05.967Z"
   },
   {
    "duration": 9,
    "start_time": "2023-06-04T16:53:09.467Z"
   },
   {
    "duration": 1222,
    "start_time": "2023-06-04T16:53:14.027Z"
   },
   {
    "duration": 69,
    "start_time": "2023-06-04T16:53:15.251Z"
   },
   {
    "duration": 18,
    "start_time": "2023-06-04T16:53:15.322Z"
   },
   {
    "duration": 14,
    "start_time": "2023-06-04T16:53:15.342Z"
   },
   {
    "duration": 39,
    "start_time": "2023-06-04T16:53:15.358Z"
   },
   {
    "duration": 852,
    "start_time": "2023-06-04T16:53:15.399Z"
   },
   {
    "duration": 316,
    "start_time": "2023-06-04T16:53:16.253Z"
   },
   {
    "duration": 249,
    "start_time": "2023-06-04T16:53:16.579Z"
   },
   {
    "duration": 185,
    "start_time": "2023-06-04T16:53:16.830Z"
   },
   {
    "duration": 264,
    "start_time": "2023-06-04T16:53:17.020Z"
   },
   {
    "duration": 5,
    "start_time": "2023-06-04T16:53:17.289Z"
   },
   {
    "duration": 29,
    "start_time": "2023-06-04T16:53:17.301Z"
   },
   {
    "duration": 8,
    "start_time": "2023-06-04T16:53:17.332Z"
   },
   {
    "duration": 12,
    "start_time": "2023-06-04T16:53:17.344Z"
   },
   {
    "duration": 5,
    "start_time": "2023-06-04T16:53:23.041Z"
   },
   {
    "duration": 6,
    "start_time": "2023-06-04T16:53:24.744Z"
   },
   {
    "duration": 16,
    "start_time": "2023-06-04T16:54:36.099Z"
   },
   {
    "duration": 7,
    "start_time": "2023-06-04T16:54:48.306Z"
   },
   {
    "duration": 131,
    "start_time": "2023-06-04T16:55:04.809Z"
   },
   {
    "duration": 7,
    "start_time": "2023-06-04T16:57:09.624Z"
   },
   {
    "duration": 5,
    "start_time": "2023-06-04T16:59:27.068Z"
   },
   {
    "duration": 237,
    "start_time": "2023-06-04T17:00:55.224Z"
   },
   {
    "duration": 7,
    "start_time": "2023-06-04T17:00:59.646Z"
   },
   {
    "duration": 10,
    "start_time": "2023-06-04T17:01:02.841Z"
   },
   {
    "duration": 17,
    "start_time": "2023-06-04T17:01:05.296Z"
   },
   {
    "duration": 1301,
    "start_time": "2023-06-04T17:01:39.134Z"
   },
   {
    "duration": 9,
    "start_time": "2023-06-04T17:02:26.505Z"
   },
   {
    "duration": 153,
    "start_time": "2023-06-04T17:03:50.011Z"
   },
   {
    "duration": 2908,
    "start_time": "2023-06-04T17:05:08.143Z"
   },
   {
    "duration": 16,
    "start_time": "2023-06-04T17:06:18.101Z"
   },
   {
    "duration": 2908,
    "start_time": "2023-06-04T17:06:57.863Z"
   },
   {
    "duration": 4,
    "start_time": "2023-06-04T17:11:17.316Z"
   },
   {
    "duration": 7,
    "start_time": "2023-06-04T17:11:38.623Z"
   },
   {
    "duration": 332,
    "start_time": "2023-06-04T17:11:44.247Z"
   },
   {
    "duration": 377,
    "start_time": "2023-06-04T17:12:09.435Z"
   },
   {
    "duration": 365,
    "start_time": "2023-06-04T17:12:13.830Z"
   },
   {
    "duration": 4,
    "start_time": "2023-06-04T17:12:31.612Z"
   },
   {
    "duration": 352,
    "start_time": "2023-06-04T17:12:42.333Z"
   },
   {
    "duration": 9367,
    "start_time": "2023-06-04T17:14:25.264Z"
   },
   {
    "duration": 9,
    "start_time": "2023-06-04T17:17:18.213Z"
   },
   {
    "duration": 2696,
    "start_time": "2023-06-04T17:17:19.840Z"
   },
   {
    "duration": 7,
    "start_time": "2023-06-04T17:17:42.362Z"
   },
   {
    "duration": 5,
    "start_time": "2023-06-04T17:17:43.134Z"
   },
   {
    "duration": 14,
    "start_time": "2023-06-04T17:17:44.710Z"
   },
   {
    "duration": 2626,
    "start_time": "2023-06-04T17:17:47.396Z"
   },
   {
    "duration": 1302,
    "start_time": "2023-06-04T17:18:09.904Z"
   },
   {
    "duration": 60,
    "start_time": "2023-06-04T17:18:11.213Z"
   },
   {
    "duration": 33,
    "start_time": "2023-06-04T17:18:11.275Z"
   },
   {
    "duration": 33,
    "start_time": "2023-06-04T17:18:11.319Z"
   },
   {
    "duration": 17,
    "start_time": "2023-06-04T17:18:11.355Z"
   },
   {
    "duration": 909,
    "start_time": "2023-06-04T17:18:11.374Z"
   },
   {
    "duration": 325,
    "start_time": "2023-06-04T17:18:12.288Z"
   },
   {
    "duration": 201,
    "start_time": "2023-06-04T17:18:12.614Z"
   },
   {
    "duration": 291,
    "start_time": "2023-06-04T17:18:12.817Z"
   },
   {
    "duration": 177,
    "start_time": "2023-06-04T17:18:13.126Z"
   },
   {
    "duration": 6,
    "start_time": "2023-06-04T17:18:13.306Z"
   },
   {
    "duration": 156,
    "start_time": "2023-06-04T17:18:13.314Z"
   },
   {
    "duration": 71,
    "start_time": "2023-06-04T17:18:13.471Z"
   },
   {
    "duration": 48,
    "start_time": "2023-06-04T17:18:13.545Z"
   },
   {
    "duration": 48,
    "start_time": "2023-06-04T17:18:13.595Z"
   },
   {
    "duration": 26,
    "start_time": "2023-06-04T17:18:13.645Z"
   },
   {
    "duration": 23,
    "start_time": "2023-06-04T17:18:13.673Z"
   },
   {
    "duration": 55,
    "start_time": "2023-06-04T17:18:13.697Z"
   },
   {
    "duration": 20,
    "start_time": "2023-06-04T17:18:13.754Z"
   },
   {
    "duration": 68,
    "start_time": "2023-06-04T17:18:13.778Z"
   },
   {
    "duration": 282,
    "start_time": "2023-06-04T17:18:13.848Z"
   },
   {
    "duration": 8,
    "start_time": "2023-06-04T17:18:14.132Z"
   },
   {
    "duration": 12,
    "start_time": "2023-06-04T17:18:14.142Z"
   },
   {
    "duration": 9,
    "start_time": "2023-06-04T17:18:14.156Z"
   },
   {
    "duration": 1245,
    "start_time": "2023-06-04T17:18:14.166Z"
   },
   {
    "duration": 10,
    "start_time": "2023-06-04T17:18:15.413Z"
   },
   {
    "duration": 25,
    "start_time": "2023-06-04T17:18:15.429Z"
   },
   {
    "duration": 15,
    "start_time": "2023-06-04T17:18:19.492Z"
   },
   {
    "duration": 2667,
    "start_time": "2023-06-04T17:18:27.045Z"
   },
   {
    "duration": 480,
    "start_time": "2023-06-04T17:18:58.861Z"
   },
   {
    "duration": 352,
    "start_time": "2023-06-04T17:19:01.326Z"
   },
   {
    "duration": 8419,
    "start_time": "2023-06-04T17:19:19.341Z"
   },
   {
    "duration": 10,
    "start_time": "2023-06-04T17:21:34.724Z"
   },
   {
    "duration": 379,
    "start_time": "2023-06-04T17:23:49.679Z"
   },
   {
    "duration": 401,
    "start_time": "2023-06-04T17:26:52.265Z"
   },
   {
    "duration": 448,
    "start_time": "2023-06-04T17:28:23.305Z"
   },
   {
    "duration": 19,
    "start_time": "2023-06-04T17:31:45.922Z"
   },
   {
    "duration": 4,
    "start_time": "2023-06-04T17:31:47.171Z"
   },
   {
    "duration": 20,
    "start_time": "2023-06-04T17:31:50.934Z"
   },
   {
    "duration": 7,
    "start_time": "2023-06-04T17:31:52.340Z"
   },
   {
    "duration": 1337,
    "start_time": "2023-06-04T17:42:27.750Z"
   },
   {
    "duration": 80,
    "start_time": "2023-06-04T17:42:29.089Z"
   },
   {
    "duration": 23,
    "start_time": "2023-06-04T17:42:29.171Z"
   },
   {
    "duration": 54,
    "start_time": "2023-06-04T17:42:29.200Z"
   },
   {
    "duration": 9,
    "start_time": "2023-06-04T17:42:29.256Z"
   },
   {
    "duration": 852,
    "start_time": "2023-06-04T17:42:29.267Z"
   },
   {
    "duration": 320,
    "start_time": "2023-06-04T17:42:30.121Z"
   },
   {
    "duration": 232,
    "start_time": "2023-06-04T17:42:30.444Z"
   },
   {
    "duration": 242,
    "start_time": "2023-06-04T17:42:30.684Z"
   },
   {
    "duration": 308,
    "start_time": "2023-06-04T17:42:30.930Z"
   },
   {
    "duration": 3,
    "start_time": "2023-06-04T17:42:31.240Z"
   },
   {
    "duration": 116,
    "start_time": "2023-06-04T17:42:31.245Z"
   },
   {
    "duration": 78,
    "start_time": "2023-06-04T17:42:31.366Z"
   },
   {
    "duration": 77,
    "start_time": "2023-06-04T17:42:31.446Z"
   },
   {
    "duration": 52,
    "start_time": "2023-06-04T17:42:31.525Z"
   },
   {
    "duration": 90,
    "start_time": "2023-06-04T17:42:31.580Z"
   },
   {
    "duration": 89,
    "start_time": "2023-06-04T17:42:31.673Z"
   },
   {
    "duration": 115,
    "start_time": "2023-06-04T17:42:31.765Z"
   },
   {
    "duration": 88,
    "start_time": "2023-06-04T17:42:31.882Z"
   },
   {
    "duration": 68,
    "start_time": "2023-06-04T17:42:31.972Z"
   },
   {
    "duration": 320,
    "start_time": "2023-06-04T17:42:32.041Z"
   },
   {
    "duration": 6,
    "start_time": "2023-06-04T17:42:32.363Z"
   },
   {
    "duration": 72,
    "start_time": "2023-06-04T17:42:32.376Z"
   },
   {
    "duration": 44,
    "start_time": "2023-06-04T17:42:32.450Z"
   },
   {
    "duration": 1205,
    "start_time": "2023-06-04T17:42:32.495Z"
   },
   {
    "duration": 17,
    "start_time": "2023-06-04T17:42:33.707Z"
   },
   {
    "duration": 14,
    "start_time": "2023-06-04T17:42:33.729Z"
   },
   {
    "duration": 12,
    "start_time": "2023-06-04T17:42:33.745Z"
   },
   {
    "duration": 2843,
    "start_time": "2023-06-04T17:42:33.759Z"
   },
   {
    "duration": 3,
    "start_time": "2023-06-04T17:42:36.604Z"
   },
   {
    "duration": 415,
    "start_time": "2023-06-04T17:42:36.609Z"
   },
   {
    "duration": 462,
    "start_time": "2023-06-04T17:42:37.028Z"
   },
   {
    "duration": 8904,
    "start_time": "2023-06-04T17:42:37.494Z"
   },
   {
    "duration": 22,
    "start_time": "2023-06-04T17:42:46.412Z"
   },
   {
    "duration": 417,
    "start_time": "2023-06-04T17:42:46.442Z"
   },
   {
    "duration": 406,
    "start_time": "2023-06-04T17:42:46.861Z"
   },
   {
    "duration": 417,
    "start_time": "2023-06-04T17:42:47.269Z"
   },
   {
    "duration": 11,
    "start_time": "2023-06-04T17:42:47.688Z"
   },
   {
    "duration": 47,
    "start_time": "2023-06-04T17:42:47.701Z"
   },
   {
    "duration": 22,
    "start_time": "2023-06-04T17:42:47.753Z"
   },
   {
    "duration": 63,
    "start_time": "2023-06-04T17:42:47.781Z"
   },
   {
    "duration": 1394,
    "start_time": "2023-06-05T08:55:52.663Z"
   },
   {
    "duration": 195,
    "start_time": "2023-06-05T08:55:54.059Z"
   },
   {
    "duration": 18,
    "start_time": "2023-06-05T08:55:54.256Z"
   },
   {
    "duration": 33,
    "start_time": "2023-06-05T08:55:54.276Z"
   },
   {
    "duration": 15,
    "start_time": "2023-06-05T08:55:54.311Z"
   },
   {
    "duration": 776,
    "start_time": "2023-06-05T08:55:54.328Z"
   },
   {
    "duration": 252,
    "start_time": "2023-06-05T08:55:55.106Z"
   },
   {
    "duration": 259,
    "start_time": "2023-06-05T08:55:55.360Z"
   },
   {
    "duration": 163,
    "start_time": "2023-06-05T08:55:55.621Z"
   },
   {
    "duration": 184,
    "start_time": "2023-06-05T08:55:55.786Z"
   },
   {
    "duration": 3,
    "start_time": "2023-06-05T08:55:55.972Z"
   },
   {
    "duration": 15,
    "start_time": "2023-06-05T08:55:55.977Z"
   },
   {
    "duration": 10,
    "start_time": "2023-06-05T08:55:55.994Z"
   },
   {
    "duration": 29,
    "start_time": "2023-06-05T08:55:56.008Z"
   },
   {
    "duration": 6,
    "start_time": "2023-06-05T08:55:56.039Z"
   },
   {
    "duration": 8,
    "start_time": "2023-06-05T08:55:56.047Z"
   },
   {
    "duration": 7,
    "start_time": "2023-06-05T08:55:56.057Z"
   },
   {
    "duration": 9,
    "start_time": "2023-06-05T08:55:56.066Z"
   },
   {
    "duration": 8,
    "start_time": "2023-06-05T08:55:56.077Z"
   },
   {
    "duration": 41,
    "start_time": "2023-06-05T08:55:56.087Z"
   },
   {
    "duration": 199,
    "start_time": "2023-06-05T08:55:56.130Z"
   },
   {
    "duration": 6,
    "start_time": "2023-06-05T08:55:56.331Z"
   },
   {
    "duration": 9,
    "start_time": "2023-06-05T08:55:56.339Z"
   },
   {
    "duration": 8,
    "start_time": "2023-06-05T08:55:56.350Z"
   },
   {
    "duration": 1084,
    "start_time": "2023-06-05T08:55:56.360Z"
   },
   {
    "duration": 6,
    "start_time": "2023-06-05T08:55:57.446Z"
   },
   {
    "duration": 23,
    "start_time": "2023-06-05T08:55:57.454Z"
   },
   {
    "duration": 16,
    "start_time": "2023-06-05T08:55:57.478Z"
   },
   {
    "duration": 2363,
    "start_time": "2023-06-05T08:55:57.496Z"
   },
   {
    "duration": 4,
    "start_time": "2023-06-05T08:55:59.861Z"
   },
   {
    "duration": 418,
    "start_time": "2023-06-05T08:55:59.866Z"
   },
   {
    "duration": 309,
    "start_time": "2023-06-05T08:56:00.286Z"
   },
   {
    "duration": 7731,
    "start_time": "2023-06-05T08:56:00.596Z"
   },
   {
    "duration": 8,
    "start_time": "2023-06-05T08:56:08.329Z"
   },
   {
    "duration": 312,
    "start_time": "2023-06-05T08:56:08.339Z"
   },
   {
    "duration": 316,
    "start_time": "2023-06-05T08:56:08.652Z"
   },
   {
    "duration": 371,
    "start_time": "2023-06-05T08:56:08.970Z"
   },
   {
    "duration": 10,
    "start_time": "2023-06-05T08:56:09.343Z"
   },
   {
    "duration": 6,
    "start_time": "2023-06-05T08:56:09.355Z"
   },
   {
    "duration": 12,
    "start_time": "2023-06-05T08:56:09.363Z"
   },
   {
    "duration": 4,
    "start_time": "2023-06-05T08:56:09.378Z"
   },
   {
    "duration": 50,
    "start_time": "2023-06-05T10:28:11.719Z"
   },
   {
    "duration": 1423,
    "start_time": "2023-06-05T10:28:21.855Z"
   },
   {
    "duration": 429,
    "start_time": "2023-06-05T10:28:23.281Z"
   },
   {
    "duration": 18,
    "start_time": "2023-06-05T10:28:23.712Z"
   },
   {
    "duration": 18,
    "start_time": "2023-06-05T10:28:23.731Z"
   },
   {
    "duration": 20,
    "start_time": "2023-06-05T10:28:23.751Z"
   },
   {
    "duration": 715,
    "start_time": "2023-06-05T10:28:23.773Z"
   },
   {
    "duration": 248,
    "start_time": "2023-06-05T10:28:24.489Z"
   },
   {
    "duration": 175,
    "start_time": "2023-06-05T10:28:24.739Z"
   },
   {
    "duration": 149,
    "start_time": "2023-06-05T10:28:24.916Z"
   },
   {
    "duration": 253,
    "start_time": "2023-06-05T10:28:25.066Z"
   },
   {
    "duration": 3,
    "start_time": "2023-06-05T10:28:25.320Z"
   },
   {
    "duration": 15,
    "start_time": "2023-06-05T10:28:25.325Z"
   },
   {
    "duration": 17,
    "start_time": "2023-06-05T10:28:25.342Z"
   },
   {
    "duration": 9,
    "start_time": "2023-06-05T10:28:25.362Z"
   },
   {
    "duration": 8,
    "start_time": "2023-06-05T10:28:25.372Z"
   },
   {
    "duration": 33,
    "start_time": "2023-06-05T10:28:25.381Z"
   },
   {
    "duration": 9,
    "start_time": "2023-06-05T10:28:25.416Z"
   },
   {
    "duration": 14,
    "start_time": "2023-06-05T10:28:25.427Z"
   },
   {
    "duration": 5,
    "start_time": "2023-06-05T10:28:25.443Z"
   },
   {
    "duration": 6,
    "start_time": "2023-06-05T10:28:25.449Z"
   },
   {
    "duration": 6,
    "start_time": "2023-06-05T10:28:25.457Z"
   },
   {
    "duration": 196,
    "start_time": "2023-06-05T10:28:25.465Z"
   },
   {
    "duration": 6,
    "start_time": "2023-06-05T10:28:25.662Z"
   },
   {
    "duration": 16,
    "start_time": "2023-06-05T10:28:25.670Z"
   },
   {
    "duration": 8,
    "start_time": "2023-06-05T10:28:25.688Z"
   },
   {
    "duration": 1010,
    "start_time": "2023-06-05T10:28:25.698Z"
   },
   {
    "duration": 8,
    "start_time": "2023-06-05T10:28:26.710Z"
   },
   {
    "duration": 8,
    "start_time": "2023-06-05T10:28:26.720Z"
   },
   {
    "duration": 29,
    "start_time": "2023-06-05T10:28:26.730Z"
   },
   {
    "duration": 2345,
    "start_time": "2023-06-05T10:28:26.761Z"
   },
   {
    "duration": 2,
    "start_time": "2023-06-05T10:28:29.107Z"
   },
   {
    "duration": 441,
    "start_time": "2023-06-05T10:28:29.111Z"
   },
   {
    "duration": 282,
    "start_time": "2023-06-05T10:28:29.556Z"
   },
   {
    "duration": 7433,
    "start_time": "2023-06-05T10:28:29.840Z"
   },
   {
    "duration": 8,
    "start_time": "2023-06-05T10:28:37.276Z"
   },
   {
    "duration": 290,
    "start_time": "2023-06-05T10:28:37.286Z"
   },
   {
    "duration": 284,
    "start_time": "2023-06-05T10:28:37.578Z"
   },
   {
    "duration": 326,
    "start_time": "2023-06-05T10:28:37.864Z"
   },
   {
    "duration": 13,
    "start_time": "2023-06-05T10:28:38.192Z"
   },
   {
    "duration": 4,
    "start_time": "2023-06-05T10:28:38.207Z"
   },
   {
    "duration": 10,
    "start_time": "2023-06-05T10:28:38.216Z"
   },
   {
    "duration": 3,
    "start_time": "2023-06-05T10:28:38.256Z"
   },
   {
    "duration": 108,
    "start_time": "2023-06-05T10:30:17.853Z"
   },
   {
    "duration": 1362,
    "start_time": "2023-06-05T12:00:02.245Z"
   },
   {
    "duration": 97,
    "start_time": "2023-06-05T12:00:03.609Z"
   },
   {
    "duration": 22,
    "start_time": "2023-06-05T12:00:03.708Z"
   },
   {
    "duration": 50,
    "start_time": "2023-06-05T12:00:03.732Z"
   },
   {
    "duration": 38,
    "start_time": "2023-06-05T12:00:03.783Z"
   },
   {
    "duration": 749,
    "start_time": "2023-06-05T12:00:03.822Z"
   },
   {
    "duration": 242,
    "start_time": "2023-06-05T12:00:04.576Z"
   },
   {
    "duration": 173,
    "start_time": "2023-06-05T12:00:04.820Z"
   },
   {
    "duration": 149,
    "start_time": "2023-06-05T12:00:04.994Z"
   },
   {
    "duration": 244,
    "start_time": "2023-06-05T12:00:05.147Z"
   },
   {
    "duration": 3,
    "start_time": "2023-06-05T12:00:05.393Z"
   },
   {
    "duration": 56,
    "start_time": "2023-06-05T12:00:05.398Z"
   },
   {
    "duration": 28,
    "start_time": "2023-06-05T12:00:05.456Z"
   },
   {
    "duration": 157,
    "start_time": "2023-06-05T12:00:05.486Z"
   },
   {
    "duration": 0,
    "start_time": "2023-06-05T12:00:05.645Z"
   },
   {
    "duration": 0,
    "start_time": "2023-06-05T12:00:05.647Z"
   },
   {
    "duration": 0,
    "start_time": "2023-06-05T12:00:05.648Z"
   },
   {
    "duration": 0,
    "start_time": "2023-06-05T12:00:05.649Z"
   },
   {
    "duration": 0,
    "start_time": "2023-06-05T12:00:05.650Z"
   },
   {
    "duration": 0,
    "start_time": "2023-06-05T12:00:05.651Z"
   },
   {
    "duration": 0,
    "start_time": "2023-06-05T12:00:05.653Z"
   },
   {
    "duration": 0,
    "start_time": "2023-06-05T12:00:05.654Z"
   },
   {
    "duration": 0,
    "start_time": "2023-06-05T12:00:05.655Z"
   },
   {
    "duration": 14,
    "start_time": "2023-06-05T12:00:23.813Z"
   },
   {
    "duration": 11,
    "start_time": "2023-06-05T12:00:25.676Z"
   },
   {
    "duration": 9,
    "start_time": "2023-06-05T12:00:26.248Z"
   },
   {
    "duration": 6,
    "start_time": "2023-06-05T12:00:27.946Z"
   },
   {
    "duration": 9,
    "start_time": "2023-06-05T12:00:29.465Z"
   },
   {
    "duration": 1409,
    "start_time": "2023-06-05T12:00:31.297Z"
   },
   {
    "duration": 6,
    "start_time": "2023-06-05T12:00:33.502Z"
   },
   {
    "duration": 5,
    "start_time": "2023-06-05T12:00:35.476Z"
   },
   {
    "duration": 6,
    "start_time": "2023-06-05T12:00:38.711Z"
   },
   {
    "duration": 4,
    "start_time": "2023-06-05T12:00:41.989Z"
   },
   {
    "duration": 15,
    "start_time": "2023-06-05T12:00:43.948Z"
   },
   {
    "duration": 25,
    "start_time": "2023-06-05T13:19:35.078Z"
   },
   {
    "duration": 1132,
    "start_time": "2023-06-05T13:19:51.441Z"
   },
   {
    "duration": 53,
    "start_time": "2023-06-05T13:19:52.577Z"
   },
   {
    "duration": 17,
    "start_time": "2023-06-05T13:19:52.632Z"
   },
   {
    "duration": 14,
    "start_time": "2023-06-05T13:19:52.651Z"
   },
   {
    "duration": 24,
    "start_time": "2023-06-05T13:19:52.667Z"
   },
   {
    "duration": 678,
    "start_time": "2023-06-05T13:19:52.692Z"
   },
   {
    "duration": 234,
    "start_time": "2023-06-05T13:19:53.371Z"
   },
   {
    "duration": 163,
    "start_time": "2023-06-05T13:19:53.607Z"
   },
   {
    "duration": 137,
    "start_time": "2023-06-05T13:19:53.772Z"
   },
   {
    "duration": 220,
    "start_time": "2023-06-05T13:19:53.912Z"
   },
   {
    "duration": 3,
    "start_time": "2023-06-05T13:19:54.134Z"
   },
   {
    "duration": 19,
    "start_time": "2023-06-05T13:19:54.139Z"
   },
   {
    "duration": 14,
    "start_time": "2023-06-05T13:19:54.160Z"
   },
   {
    "duration": 22,
    "start_time": "2023-06-05T13:19:54.175Z"
   },
   {
    "duration": 20,
    "start_time": "2023-06-05T13:19:54.198Z"
   },
   {
    "duration": 25,
    "start_time": "2023-06-05T13:19:54.220Z"
   },
   {
    "duration": 26,
    "start_time": "2023-06-05T13:19:54.246Z"
   },
   {
    "duration": 17,
    "start_time": "2023-06-05T13:19:54.274Z"
   },
   {
    "duration": 10,
    "start_time": "2023-06-05T13:19:54.292Z"
   },
   {
    "duration": 12,
    "start_time": "2023-06-05T13:19:54.304Z"
   },
   {
    "duration": 12,
    "start_time": "2023-06-05T13:19:54.318Z"
   },
   {
    "duration": 18,
    "start_time": "2023-06-05T13:19:54.332Z"
   },
   {
    "duration": 35,
    "start_time": "2023-06-05T13:19:54.352Z"
   },
   {
    "duration": 1428,
    "start_time": "2023-06-05T13:19:54.389Z"
   },
   {
    "duration": 0,
    "start_time": "2023-06-05T13:19:55.819Z"
   },
   {
    "duration": 0,
    "start_time": "2023-06-05T13:19:55.820Z"
   },
   {
    "duration": 0,
    "start_time": "2023-06-05T13:19:55.821Z"
   },
   {
    "duration": 0,
    "start_time": "2023-06-05T13:19:55.822Z"
   },
   {
    "duration": 0,
    "start_time": "2023-06-05T13:19:55.824Z"
   },
   {
    "duration": 188,
    "start_time": "2023-06-05T13:20:11.921Z"
   },
   {
    "duration": 1291,
    "start_time": "2023-06-05T13:20:22.185Z"
   },
   {
    "duration": 11,
    "start_time": "2023-06-05T13:20:27.510Z"
   },
   {
    "duration": 29,
    "start_time": "2023-06-05T13:20:28.792Z"
   },
   {
    "duration": 8,
    "start_time": "2023-06-05T13:20:32.604Z"
   },
   {
    "duration": 9,
    "start_time": "2023-06-05T13:20:37.010Z"
   },
   {
    "duration": 994,
    "start_time": "2023-06-05T13:20:48.184Z"
   },
   {
    "duration": 6,
    "start_time": "2023-06-05T13:22:08.211Z"
   },
   {
    "duration": 7,
    "start_time": "2023-06-05T13:22:12.529Z"
   },
   {
    "duration": 6,
    "start_time": "2023-06-05T13:22:19.799Z"
   },
   {
    "duration": 7,
    "start_time": "2023-06-05T13:22:20.487Z"
   },
   {
    "duration": 169,
    "start_time": "2023-06-05T13:22:37.427Z"
   },
   {
    "duration": 1207,
    "start_time": "2023-06-05T13:22:44.760Z"
   },
   {
    "duration": 53,
    "start_time": "2023-06-05T13:22:45.969Z"
   },
   {
    "duration": 17,
    "start_time": "2023-06-05T13:22:46.024Z"
   },
   {
    "duration": 18,
    "start_time": "2023-06-05T13:22:46.043Z"
   },
   {
    "duration": 15,
    "start_time": "2023-06-05T13:22:46.062Z"
   },
   {
    "duration": 794,
    "start_time": "2023-06-05T13:22:46.078Z"
   },
   {
    "duration": 245,
    "start_time": "2023-06-05T13:22:46.873Z"
   },
   {
    "duration": 185,
    "start_time": "2023-06-05T13:22:47.120Z"
   },
   {
    "duration": 148,
    "start_time": "2023-06-05T13:22:47.306Z"
   },
   {
    "duration": 227,
    "start_time": "2023-06-05T13:22:47.457Z"
   },
   {
    "duration": 3,
    "start_time": "2023-06-05T13:22:47.685Z"
   },
   {
    "duration": 33,
    "start_time": "2023-06-05T13:22:47.689Z"
   },
   {
    "duration": 52,
    "start_time": "2023-06-05T13:22:47.725Z"
   },
   {
    "duration": 27,
    "start_time": "2023-06-05T13:22:47.780Z"
   },
   {
    "duration": 13,
    "start_time": "2023-06-05T13:22:47.809Z"
   },
   {
    "duration": 13,
    "start_time": "2023-06-05T13:22:47.825Z"
   },
   {
    "duration": 4,
    "start_time": "2023-06-05T13:22:47.840Z"
   },
   {
    "duration": 11,
    "start_time": "2023-06-05T13:22:47.846Z"
   },
   {
    "duration": 19,
    "start_time": "2023-06-05T13:22:47.859Z"
   },
   {
    "duration": 5,
    "start_time": "2023-06-05T13:22:47.880Z"
   },
   {
    "duration": 16,
    "start_time": "2023-06-05T13:22:47.887Z"
   },
   {
    "duration": 11,
    "start_time": "2023-06-05T13:22:47.905Z"
   },
   {
    "duration": 24,
    "start_time": "2023-06-05T13:22:47.918Z"
   },
   {
    "duration": 220,
    "start_time": "2023-06-05T13:22:47.943Z"
   },
   {
    "duration": 214,
    "start_time": "2023-06-05T13:22:53.283Z"
   },
   {
    "duration": 214,
    "start_time": "2023-06-05T13:23:03.387Z"
   },
   {
    "duration": 7,
    "start_time": "2023-06-05T13:23:32.302Z"
   },
   {
    "duration": 8,
    "start_time": "2023-06-05T13:23:33.394Z"
   },
   {
    "duration": 1445,
    "start_time": "2023-06-05T13:24:09.208Z"
   },
   {
    "duration": 10,
    "start_time": "2023-06-05T13:26:01.698Z"
   },
   {
    "duration": 10,
    "start_time": "2023-06-05T13:26:09.424Z"
   },
   {
    "duration": 8,
    "start_time": "2023-06-05T13:26:14.276Z"
   },
   {
    "duration": 10,
    "start_time": "2023-06-05T13:26:42.139Z"
   },
   {
    "duration": 104,
    "start_time": "2023-06-05T13:26:47.355Z"
   },
   {
    "duration": 10,
    "start_time": "2023-06-05T13:26:52.764Z"
   },
   {
    "duration": 8,
    "start_time": "2023-06-05T13:27:19.294Z"
   },
   {
    "duration": 240,
    "start_time": "2023-06-05T13:30:48.012Z"
   },
   {
    "duration": 1545,
    "start_time": "2023-06-05T13:30:54.275Z"
   },
   {
    "duration": 227,
    "start_time": "2023-06-05T13:30:57.800Z"
   },
   {
    "duration": 326,
    "start_time": "2023-06-05T13:31:15.891Z"
   },
   {
    "duration": 228,
    "start_time": "2023-06-05T13:31:20.553Z"
   },
   {
    "duration": 233,
    "start_time": "2023-06-05T13:31:23.849Z"
   },
   {
    "duration": 26,
    "start_time": "2023-06-05T13:44:59.970Z"
   },
   {
    "duration": 33,
    "start_time": "2023-06-05T13:45:06.487Z"
   },
   {
    "duration": 12,
    "start_time": "2023-06-05T13:45:42.154Z"
   },
   {
    "duration": 8,
    "start_time": "2023-06-05T13:49:15.940Z"
   },
   {
    "duration": 9,
    "start_time": "2023-06-05T13:49:18.572Z"
   },
   {
    "duration": 449,
    "start_time": "2023-06-05T13:50:40.185Z"
   },
   {
    "duration": 467,
    "start_time": "2023-06-05T13:51:30.409Z"
   },
   {
    "duration": 9,
    "start_time": "2023-06-05T13:51:37.441Z"
   },
   {
    "duration": 98,
    "start_time": "2023-06-05T13:51:57.384Z"
   },
   {
    "duration": 12,
    "start_time": "2023-06-05T13:52:25.054Z"
   },
   {
    "duration": 9,
    "start_time": "2023-06-05T13:52:27.698Z"
   },
   {
    "duration": 7,
    "start_time": "2023-06-05T13:52:38.709Z"
   },
   {
    "duration": 8,
    "start_time": "2023-06-05T13:52:45.298Z"
   },
   {
    "duration": 423,
    "start_time": "2023-06-05T13:59:21.492Z"
   },
   {
    "duration": 101,
    "start_time": "2023-06-05T14:04:35.939Z"
   },
   {
    "duration": 287,
    "start_time": "2023-06-05T14:04:50.378Z"
   },
   {
    "duration": 289,
    "start_time": "2023-06-05T14:05:07.490Z"
   },
   {
    "duration": 82,
    "start_time": "2023-06-05T14:06:21.990Z"
   },
   {
    "duration": 4,
    "start_time": "2023-06-05T14:06:41.362Z"
   },
   {
    "duration": 303,
    "start_time": "2023-06-05T14:06:57.446Z"
   },
   {
    "duration": 4,
    "start_time": "2023-06-05T14:10:51.082Z"
   },
   {
    "duration": 304,
    "start_time": "2023-06-05T14:10:51.804Z"
   },
   {
    "duration": 28,
    "start_time": "2023-06-05T14:50:36.653Z"
   },
   {
    "duration": 11,
    "start_time": "2023-06-05T14:50:50.065Z"
   },
   {
    "duration": 3,
    "start_time": "2023-06-05T14:50:53.815Z"
   },
   {
    "duration": 10,
    "start_time": "2023-06-05T14:51:05.304Z"
   },
   {
    "duration": 3,
    "start_time": "2023-06-05T14:51:08.585Z"
   },
   {
    "duration": 8,
    "start_time": "2023-06-05T14:54:30.459Z"
   },
   {
    "duration": 10,
    "start_time": "2023-06-05T14:54:33.542Z"
   },
   {
    "duration": 10,
    "start_time": "2023-06-05T14:54:37.845Z"
   },
   {
    "duration": 13,
    "start_time": "2023-06-05T14:54:41.844Z"
   },
   {
    "duration": 3,
    "start_time": "2023-06-05T14:54:44.412Z"
   },
   {
    "duration": 11,
    "start_time": "2023-06-05T14:55:32.066Z"
   },
   {
    "duration": 3,
    "start_time": "2023-06-05T14:55:33.014Z"
   },
   {
    "duration": 4,
    "start_time": "2023-06-05T14:55:53.819Z"
   },
   {
    "duration": 4,
    "start_time": "2023-06-05T14:56:03.938Z"
   },
   {
    "duration": 4,
    "start_time": "2023-06-05T14:56:23.411Z"
   },
   {
    "duration": 4,
    "start_time": "2023-06-05T14:56:28.885Z"
   },
   {
    "duration": 5,
    "start_time": "2023-06-05T15:01:28.199Z"
   },
   {
    "duration": 1153,
    "start_time": "2023-06-05T15:02:11.018Z"
   },
   {
    "duration": 52,
    "start_time": "2023-06-05T15:02:12.173Z"
   },
   {
    "duration": 17,
    "start_time": "2023-06-05T15:02:12.227Z"
   },
   {
    "duration": 19,
    "start_time": "2023-06-05T15:02:12.246Z"
   },
   {
    "duration": 10,
    "start_time": "2023-06-05T15:02:12.266Z"
   },
   {
    "duration": 806,
    "start_time": "2023-06-05T15:02:12.278Z"
   },
   {
    "duration": 243,
    "start_time": "2023-06-05T15:02:13.087Z"
   },
   {
    "duration": 167,
    "start_time": "2023-06-05T15:02:13.332Z"
   },
   {
    "duration": 140,
    "start_time": "2023-06-05T15:02:13.501Z"
   },
   {
    "duration": 243,
    "start_time": "2023-06-05T15:02:13.643Z"
   },
   {
    "duration": 3,
    "start_time": "2023-06-05T15:02:13.888Z"
   },
   {
    "duration": 11,
    "start_time": "2023-06-05T15:02:13.893Z"
   },
   {
    "duration": 10,
    "start_time": "2023-06-05T15:02:13.906Z"
   },
   {
    "duration": 17,
    "start_time": "2023-06-05T15:02:13.918Z"
   },
   {
    "duration": 10,
    "start_time": "2023-06-05T15:02:13.937Z"
   },
   {
    "duration": 8,
    "start_time": "2023-06-05T15:02:13.950Z"
   },
   {
    "duration": 19,
    "start_time": "2023-06-05T15:02:13.960Z"
   },
   {
    "duration": 12,
    "start_time": "2023-06-05T15:02:13.981Z"
   },
   {
    "duration": 11,
    "start_time": "2023-06-05T15:02:13.995Z"
   },
   {
    "duration": 7,
    "start_time": "2023-06-05T15:02:14.008Z"
   },
   {
    "duration": 11,
    "start_time": "2023-06-05T15:02:14.016Z"
   },
   {
    "duration": 15,
    "start_time": "2023-06-05T15:02:14.029Z"
   },
   {
    "duration": 16,
    "start_time": "2023-06-05T15:02:14.046Z"
   },
   {
    "duration": 239,
    "start_time": "2023-06-05T15:02:14.076Z"
   },
   {
    "duration": 5,
    "start_time": "2023-06-05T15:02:14.316Z"
   },
   {
    "duration": 11,
    "start_time": "2023-06-05T15:02:14.323Z"
   },
   {
    "duration": 9,
    "start_time": "2023-06-05T15:02:14.335Z"
   },
   {
    "duration": 1101,
    "start_time": "2023-06-05T15:02:14.347Z"
   },
   {
    "duration": 5,
    "start_time": "2023-06-05T15:02:15.450Z"
   },
   {
    "duration": 21,
    "start_time": "2023-06-05T15:02:15.457Z"
   },
   {
    "duration": 1632,
    "start_time": "2023-06-05T15:02:15.479Z"
   },
   {
    "duration": 3,
    "start_time": "2023-06-05T15:02:17.114Z"
   },
   {
    "duration": 272,
    "start_time": "2023-06-05T15:02:17.120Z"
   },
   {
    "duration": 291,
    "start_time": "2023-06-05T15:02:17.394Z"
   },
   {
    "duration": 667,
    "start_time": "2023-06-05T15:02:17.688Z"
   },
   {
    "duration": 9,
    "start_time": "2023-06-05T15:02:18.357Z"
   },
   {
    "duration": 15,
    "start_time": "2023-06-05T15:02:18.368Z"
   },
   {
    "duration": 308,
    "start_time": "2023-06-05T15:02:18.385Z"
   },
   {
    "duration": 307,
    "start_time": "2023-06-05T15:02:18.695Z"
   },
   {
    "duration": 4,
    "start_time": "2023-06-05T15:02:19.003Z"
   },
   {
    "duration": 308,
    "start_time": "2023-06-05T15:02:19.009Z"
   },
   {
    "duration": 8,
    "start_time": "2023-06-05T15:02:19.319Z"
   },
   {
    "duration": 13,
    "start_time": "2023-06-05T15:02:19.329Z"
   },
   {
    "duration": 10,
    "start_time": "2023-06-05T15:02:19.344Z"
   },
   {
    "duration": 19,
    "start_time": "2023-06-05T15:02:19.355Z"
   },
   {
    "duration": 9,
    "start_time": "2023-06-05T15:02:19.376Z"
   },
   {
    "duration": 14,
    "start_time": "2023-06-05T15:02:19.388Z"
   },
   {
    "duration": 14,
    "start_time": "2023-06-05T15:02:19.404Z"
   },
   {
    "duration": 29,
    "start_time": "2023-06-05T15:02:19.420Z"
   },
   {
    "duration": 39,
    "start_time": "2023-06-05T15:02:19.451Z"
   },
   {
    "duration": 40,
    "start_time": "2023-06-05T15:02:19.491Z"
   },
   {
    "duration": 1143,
    "start_time": "2023-06-05T15:04:33.245Z"
   },
   {
    "duration": 55,
    "start_time": "2023-06-05T15:04:34.390Z"
   },
   {
    "duration": 19,
    "start_time": "2023-06-05T15:04:34.446Z"
   },
   {
    "duration": 14,
    "start_time": "2023-06-05T15:04:34.467Z"
   },
   {
    "duration": 9,
    "start_time": "2023-06-05T15:04:34.482Z"
   },
   {
    "duration": 691,
    "start_time": "2023-06-05T15:04:34.493Z"
   },
   {
    "duration": 233,
    "start_time": "2023-06-05T15:04:35.186Z"
   },
   {
    "duration": 178,
    "start_time": "2023-06-05T15:04:35.421Z"
   },
   {
    "duration": 184,
    "start_time": "2023-06-05T15:04:35.600Z"
   },
   {
    "duration": 232,
    "start_time": "2023-06-05T15:04:35.786Z"
   },
   {
    "duration": 4,
    "start_time": "2023-06-05T15:04:36.019Z"
   },
   {
    "duration": 24,
    "start_time": "2023-06-05T15:04:36.025Z"
   },
   {
    "duration": 8,
    "start_time": "2023-06-05T15:04:36.051Z"
   },
   {
    "duration": 17,
    "start_time": "2023-06-05T15:04:36.061Z"
   },
   {
    "duration": 12,
    "start_time": "2023-06-05T15:04:36.079Z"
   },
   {
    "duration": 8,
    "start_time": "2023-06-05T15:04:36.093Z"
   },
   {
    "duration": 6,
    "start_time": "2023-06-05T15:04:36.102Z"
   },
   {
    "duration": 7,
    "start_time": "2023-06-05T15:04:36.109Z"
   },
   {
    "duration": 6,
    "start_time": "2023-06-05T15:04:36.118Z"
   },
   {
    "duration": 7,
    "start_time": "2023-06-05T15:04:36.125Z"
   },
   {
    "duration": 44,
    "start_time": "2023-06-05T15:04:36.133Z"
   },
   {
    "duration": 234,
    "start_time": "2023-06-05T15:04:36.179Z"
   },
   {
    "duration": 9,
    "start_time": "2023-06-05T15:04:36.415Z"
   },
   {
    "duration": 27,
    "start_time": "2023-06-05T15:04:36.426Z"
   },
   {
    "duration": 14,
    "start_time": "2023-06-05T15:04:36.456Z"
   },
   {
    "duration": 1033,
    "start_time": "2023-06-05T15:04:36.477Z"
   },
   {
    "duration": 5,
    "start_time": "2023-06-05T15:04:37.512Z"
   },
   {
    "duration": 7,
    "start_time": "2023-06-05T15:04:37.521Z"
   },
   {
    "duration": 1459,
    "start_time": "2023-06-05T15:04:37.529Z"
   },
   {
    "duration": 2,
    "start_time": "2023-06-05T15:04:38.990Z"
   },
   {
    "duration": 233,
    "start_time": "2023-06-05T15:04:38.994Z"
   },
   {
    "duration": 250,
    "start_time": "2023-06-05T15:04:39.229Z"
   },
   {
    "duration": 568,
    "start_time": "2023-06-05T15:04:39.481Z"
   },
   {
    "duration": 11,
    "start_time": "2023-06-05T15:04:40.052Z"
   },
   {
    "duration": 23,
    "start_time": "2023-06-05T15:04:40.077Z"
   },
   {
    "duration": 371,
    "start_time": "2023-06-05T15:04:40.101Z"
   },
   {
    "duration": 274,
    "start_time": "2023-06-05T15:04:40.474Z"
   },
   {
    "duration": 4,
    "start_time": "2023-06-05T15:04:40.750Z"
   },
   {
    "duration": 307,
    "start_time": "2023-06-05T15:04:40.755Z"
   },
   {
    "duration": 14,
    "start_time": "2023-06-05T15:04:41.064Z"
   },
   {
    "duration": 7,
    "start_time": "2023-06-05T15:04:41.081Z"
   },
   {
    "duration": 6,
    "start_time": "2023-06-05T15:04:41.089Z"
   },
   {
    "duration": 6,
    "start_time": "2023-06-05T15:04:41.097Z"
   },
   {
    "duration": 6,
    "start_time": "2023-06-05T15:04:41.104Z"
   },
   {
    "duration": 11,
    "start_time": "2023-06-05T15:04:41.112Z"
   },
   {
    "duration": 5,
    "start_time": "2023-06-05T15:04:41.124Z"
   },
   {
    "duration": 4,
    "start_time": "2023-06-05T15:04:41.131Z"
   },
   {
    "duration": 11,
    "start_time": "2023-06-05T15:04:41.137Z"
   },
   {
    "duration": 3,
    "start_time": "2023-06-05T15:04:41.177Z"
   },
   {
    "duration": 72,
    "start_time": "2023-06-05T15:06:32.774Z"
   },
   {
    "duration": 97,
    "start_time": "2023-06-05T15:07:24.611Z"
   },
   {
    "duration": 59,
    "start_time": "2023-06-05T16:24:45.234Z"
   },
   {
    "duration": 1315,
    "start_time": "2023-06-05T16:25:01.591Z"
   },
   {
    "duration": 441,
    "start_time": "2023-06-05T16:25:02.908Z"
   },
   {
    "duration": 19,
    "start_time": "2023-06-05T16:25:03.350Z"
   },
   {
    "duration": 14,
    "start_time": "2023-06-05T16:25:03.371Z"
   },
   {
    "duration": 13,
    "start_time": "2023-06-05T16:25:03.387Z"
   },
   {
    "duration": 676,
    "start_time": "2023-06-05T16:25:03.402Z"
   },
   {
    "duration": 277,
    "start_time": "2023-06-05T16:25:04.080Z"
   },
   {
    "duration": 156,
    "start_time": "2023-06-05T16:25:04.358Z"
   },
   {
    "duration": 203,
    "start_time": "2023-06-05T16:25:04.515Z"
   },
   {
    "duration": 142,
    "start_time": "2023-06-05T16:25:04.720Z"
   },
   {
    "duration": 3,
    "start_time": "2023-06-05T16:25:04.864Z"
   },
   {
    "duration": 28,
    "start_time": "2023-06-05T16:25:04.869Z"
   },
   {
    "duration": 20,
    "start_time": "2023-06-05T16:25:04.898Z"
   },
   {
    "duration": 15,
    "start_time": "2023-06-05T16:25:04.921Z"
   },
   {
    "duration": 5,
    "start_time": "2023-06-05T16:25:04.937Z"
   },
   {
    "duration": 7,
    "start_time": "2023-06-05T16:25:04.944Z"
   },
   {
    "duration": 19,
    "start_time": "2023-06-05T16:25:04.953Z"
   },
   {
    "duration": 13,
    "start_time": "2023-06-05T16:25:04.974Z"
   },
   {
    "duration": 13,
    "start_time": "2023-06-05T16:25:04.989Z"
   },
   {
    "duration": 12,
    "start_time": "2023-06-05T16:25:05.004Z"
   },
   {
    "duration": 24,
    "start_time": "2023-06-05T16:25:05.018Z"
   },
   {
    "duration": 197,
    "start_time": "2023-06-05T16:25:05.044Z"
   },
   {
    "duration": 6,
    "start_time": "2023-06-05T16:25:05.243Z"
   },
   {
    "duration": 20,
    "start_time": "2023-06-05T16:25:05.250Z"
   },
   {
    "duration": 18,
    "start_time": "2023-06-05T16:25:05.272Z"
   },
   {
    "duration": 884,
    "start_time": "2023-06-05T16:25:05.292Z"
   },
   {
    "duration": 6,
    "start_time": "2023-06-05T16:25:06.178Z"
   },
   {
    "duration": 20,
    "start_time": "2023-06-05T16:25:06.186Z"
   },
   {
    "duration": 1265,
    "start_time": "2023-06-05T16:25:06.208Z"
   },
   {
    "duration": 204,
    "start_time": "2023-06-05T16:25:07.475Z"
   },
   {
    "duration": 308,
    "start_time": "2023-06-05T16:25:07.681Z"
   },
   {
    "duration": 411,
    "start_time": "2023-06-05T16:25:07.990Z"
   },
   {
    "duration": 11,
    "start_time": "2023-06-05T16:25:08.402Z"
   },
   {
    "duration": 12,
    "start_time": "2023-06-05T16:25:08.415Z"
   },
   {
    "duration": 255,
    "start_time": "2023-06-05T16:25:08.429Z"
   },
   {
    "duration": 249,
    "start_time": "2023-06-05T16:25:08.685Z"
   },
   {
    "duration": 4,
    "start_time": "2023-06-05T16:25:08.935Z"
   },
   {
    "duration": 272,
    "start_time": "2023-06-05T16:25:08.940Z"
   },
   {
    "duration": 7,
    "start_time": "2023-06-05T16:25:09.214Z"
   },
   {
    "duration": 9,
    "start_time": "2023-06-05T16:25:09.222Z"
   },
   {
    "duration": 3,
    "start_time": "2023-06-05T16:25:09.234Z"
   },
   {
    "duration": 16,
    "start_time": "2023-06-05T16:25:09.239Z"
   },
   {
    "duration": 6,
    "start_time": "2023-06-05T16:25:09.256Z"
   },
   {
    "duration": 10,
    "start_time": "2023-06-05T16:25:09.263Z"
   },
   {
    "duration": 9,
    "start_time": "2023-06-05T16:25:09.275Z"
   },
   {
    "duration": 15,
    "start_time": "2023-06-05T16:25:09.286Z"
   },
   {
    "duration": 32,
    "start_time": "2023-06-05T16:25:09.302Z"
   },
   {
    "duration": 10,
    "start_time": "2023-06-05T16:25:09.336Z"
   },
   {
    "duration": 303,
    "start_time": "2023-06-05T16:26:03.118Z"
   },
   {
    "duration": 214,
    "start_time": "2023-06-05T16:28:54.500Z"
   },
   {
    "duration": 109,
    "start_time": "2023-06-05T16:37:58.804Z"
   },
   {
    "duration": 105,
    "start_time": "2023-06-05T16:39:27.140Z"
   },
   {
    "duration": 115,
    "start_time": "2023-06-05T16:42:35.981Z"
   },
   {
    "duration": 97,
    "start_time": "2023-06-05T16:55:26.962Z"
   },
   {
    "duration": 55,
    "start_time": "2023-06-05T17:04:14.086Z"
   },
   {
    "duration": 1389,
    "start_time": "2023-06-05T17:04:17.516Z"
   },
   {
    "duration": 435,
    "start_time": "2023-06-05T17:04:18.908Z"
   },
   {
    "duration": 19,
    "start_time": "2023-06-05T17:04:19.345Z"
   },
   {
    "duration": 40,
    "start_time": "2023-06-05T17:04:19.366Z"
   },
   {
    "duration": 9,
    "start_time": "2023-06-05T17:04:19.408Z"
   },
   {
    "duration": 824,
    "start_time": "2023-06-05T17:04:19.419Z"
   },
   {
    "duration": 284,
    "start_time": "2023-06-05T17:04:20.245Z"
   },
   {
    "duration": 193,
    "start_time": "2023-06-05T17:04:20.531Z"
   },
   {
    "duration": 248,
    "start_time": "2023-06-05T17:04:20.726Z"
   },
   {
    "duration": 181,
    "start_time": "2023-06-05T17:04:20.977Z"
   },
   {
    "duration": 4,
    "start_time": "2023-06-05T17:04:21.160Z"
   },
   {
    "duration": 56,
    "start_time": "2023-06-05T17:04:21.166Z"
   },
   {
    "duration": 31,
    "start_time": "2023-06-05T17:04:21.224Z"
   },
   {
    "duration": 27,
    "start_time": "2023-06-05T17:04:21.257Z"
   },
   {
    "duration": 11,
    "start_time": "2023-06-05T17:04:21.286Z"
   },
   {
    "duration": 15,
    "start_time": "2023-06-05T17:04:21.299Z"
   },
   {
    "duration": 29,
    "start_time": "2023-06-05T17:04:21.315Z"
   },
   {
    "duration": 22,
    "start_time": "2023-06-05T17:04:21.346Z"
   },
   {
    "duration": 6,
    "start_time": "2023-06-05T17:04:21.370Z"
   },
   {
    "duration": 8,
    "start_time": "2023-06-05T17:04:21.378Z"
   },
   {
    "duration": 26,
    "start_time": "2023-06-05T17:04:21.388Z"
   },
   {
    "duration": 214,
    "start_time": "2023-06-05T17:04:21.416Z"
   },
   {
    "duration": 8,
    "start_time": "2023-06-05T17:04:21.632Z"
   },
   {
    "duration": 47,
    "start_time": "2023-06-05T17:04:21.642Z"
   },
   {
    "duration": 37,
    "start_time": "2023-06-05T17:04:21.691Z"
   },
   {
    "duration": 1068,
    "start_time": "2023-06-05T17:04:21.729Z"
   },
   {
    "duration": 6,
    "start_time": "2023-06-05T17:04:22.799Z"
   },
   {
    "duration": 50,
    "start_time": "2023-06-05T17:04:22.808Z"
   },
   {
    "duration": 1644,
    "start_time": "2023-06-05T17:04:22.860Z"
   },
   {
    "duration": 250,
    "start_time": "2023-06-05T17:04:24.506Z"
   },
   {
    "duration": 352,
    "start_time": "2023-06-05T17:04:29.389Z"
   },
   {
    "duration": 253,
    "start_time": "2023-06-05T17:04:36.662Z"
   },
   {
    "duration": 111,
    "start_time": "2023-06-05T17:04:48.229Z"
   },
   {
    "duration": 278,
    "start_time": "2023-06-05T17:04:51.088Z"
   },
   {
    "duration": 68,
    "start_time": "2023-06-05T17:08:09.523Z"
   },
   {
    "duration": 54,
    "start_time": "2023-06-05T17:08:25.888Z"
   },
   {
    "duration": 57,
    "start_time": "2023-06-05T17:08:30.437Z"
   },
   {
    "duration": 62,
    "start_time": "2023-06-05T17:08:34.189Z"
   },
   {
    "duration": 58,
    "start_time": "2023-06-05T17:08:44.052Z"
   },
   {
    "duration": 7,
    "start_time": "2023-06-05T17:17:36.188Z"
   },
   {
    "duration": 1219,
    "start_time": "2023-06-05T17:18:06.993Z"
   },
   {
    "duration": 54,
    "start_time": "2023-06-05T17:18:08.214Z"
   },
   {
    "duration": 21,
    "start_time": "2023-06-05T17:18:08.269Z"
   },
   {
    "duration": 42,
    "start_time": "2023-06-05T17:18:08.292Z"
   },
   {
    "duration": 9,
    "start_time": "2023-06-05T17:18:08.337Z"
   },
   {
    "duration": 831,
    "start_time": "2023-06-05T17:18:08.348Z"
   },
   {
    "duration": 243,
    "start_time": "2023-06-05T17:18:09.181Z"
   },
   {
    "duration": 188,
    "start_time": "2023-06-05T17:18:09.426Z"
   },
   {
    "duration": 171,
    "start_time": "2023-06-05T17:18:09.616Z"
   },
   {
    "duration": 256,
    "start_time": "2023-06-05T17:18:09.789Z"
   },
   {
    "duration": 10,
    "start_time": "2023-06-05T17:18:10.047Z"
   },
   {
    "duration": 23,
    "start_time": "2023-06-05T17:18:10.059Z"
   },
   {
    "duration": 21,
    "start_time": "2023-06-05T17:18:10.084Z"
   },
   {
    "duration": 11,
    "start_time": "2023-06-05T17:18:10.109Z"
   },
   {
    "duration": 9,
    "start_time": "2023-06-05T17:18:10.122Z"
   },
   {
    "duration": 15,
    "start_time": "2023-06-05T17:18:10.133Z"
   },
   {
    "duration": 19,
    "start_time": "2023-06-05T17:18:10.150Z"
   },
   {
    "duration": 10,
    "start_time": "2023-06-05T17:18:10.171Z"
   },
   {
    "duration": 6,
    "start_time": "2023-06-05T17:18:10.182Z"
   },
   {
    "duration": 7,
    "start_time": "2023-06-05T17:18:10.190Z"
   },
   {
    "duration": 17,
    "start_time": "2023-06-05T17:18:10.199Z"
   },
   {
    "duration": 213,
    "start_time": "2023-06-05T17:18:10.217Z"
   },
   {
    "duration": 6,
    "start_time": "2023-06-05T17:18:10.431Z"
   },
   {
    "duration": 22,
    "start_time": "2023-06-05T17:18:10.438Z"
   },
   {
    "duration": 10,
    "start_time": "2023-06-05T17:18:10.462Z"
   },
   {
    "duration": 1027,
    "start_time": "2023-06-05T17:18:10.474Z"
   },
   {
    "duration": 7,
    "start_time": "2023-06-05T17:18:11.504Z"
   },
   {
    "duration": 8,
    "start_time": "2023-06-05T17:18:11.513Z"
   },
   {
    "duration": 1582,
    "start_time": "2023-06-05T17:18:11.522Z"
   },
   {
    "duration": 292,
    "start_time": "2023-06-05T17:18:13.107Z"
   },
   {
    "duration": 272,
    "start_time": "2023-06-05T17:18:13.401Z"
   },
   {
    "duration": 609,
    "start_time": "2023-06-05T17:18:13.674Z"
   },
   {
    "duration": 11,
    "start_time": "2023-06-05T17:18:14.284Z"
   },
   {
    "duration": 60,
    "start_time": "2023-06-05T17:18:14.296Z"
   },
   {
    "duration": 8,
    "start_time": "2023-06-05T17:18:14.358Z"
   },
   {
    "duration": 9,
    "start_time": "2023-06-05T17:18:14.368Z"
   },
   {
    "duration": 109,
    "start_time": "2023-06-05T17:18:22.153Z"
   },
   {
    "duration": 308,
    "start_time": "2023-06-05T17:20:50.951Z"
   },
   {
    "duration": 293,
    "start_time": "2023-06-05T17:20:54.949Z"
   },
   {
    "duration": 4,
    "start_time": "2023-06-05T17:21:02.038Z"
   },
   {
    "duration": 296,
    "start_time": "2023-06-05T17:21:02.857Z"
   },
   {
    "duration": 9,
    "start_time": "2023-06-05T17:21:21.218Z"
   },
   {
    "duration": 4,
    "start_time": "2023-06-05T17:21:21.788Z"
   },
   {
    "duration": 4,
    "start_time": "2023-06-05T17:21:22.396Z"
   },
   {
    "duration": 5,
    "start_time": "2023-06-05T17:21:23.388Z"
   },
   {
    "duration": 4,
    "start_time": "2023-06-05T17:21:24.406Z"
   },
   {
    "duration": 10,
    "start_time": "2023-06-05T17:21:27.291Z"
   },
   {
    "duration": 5,
    "start_time": "2023-06-05T17:21:27.854Z"
   },
   {
    "duration": 5,
    "start_time": "2023-06-05T17:21:28.416Z"
   },
   {
    "duration": 5,
    "start_time": "2023-06-05T17:21:29.433Z"
   },
   {
    "duration": 4,
    "start_time": "2023-06-05T17:21:30.645Z"
   },
   {
    "duration": 246,
    "start_time": "2023-06-05T17:22:18.596Z"
   },
   {
    "duration": 1184,
    "start_time": "2023-06-05T17:22:34.221Z"
   },
   {
    "duration": 57,
    "start_time": "2023-06-05T17:22:35.407Z"
   },
   {
    "duration": 20,
    "start_time": "2023-06-05T17:22:35.467Z"
   },
   {
    "duration": 16,
    "start_time": "2023-06-05T17:22:35.489Z"
   },
   {
    "duration": 10,
    "start_time": "2023-06-05T17:22:35.508Z"
   },
   {
    "duration": 789,
    "start_time": "2023-06-05T17:22:35.520Z"
   },
   {
    "duration": 262,
    "start_time": "2023-06-05T17:22:36.311Z"
   },
   {
    "duration": 174,
    "start_time": "2023-06-05T17:22:36.574Z"
   },
   {
    "duration": 161,
    "start_time": "2023-06-05T17:22:36.750Z"
   },
   {
    "duration": 268,
    "start_time": "2023-06-05T17:22:36.913Z"
   },
   {
    "duration": 4,
    "start_time": "2023-06-05T17:22:37.183Z"
   },
   {
    "duration": 19,
    "start_time": "2023-06-05T17:22:37.188Z"
   },
   {
    "duration": 13,
    "start_time": "2023-06-05T17:22:37.209Z"
   },
   {
    "duration": 11,
    "start_time": "2023-06-05T17:22:37.224Z"
   },
   {
    "duration": 5,
    "start_time": "2023-06-05T17:22:37.237Z"
   },
   {
    "duration": 9,
    "start_time": "2023-06-05T17:22:37.256Z"
   },
   {
    "duration": 7,
    "start_time": "2023-06-05T17:22:37.268Z"
   },
   {
    "duration": 8,
    "start_time": "2023-06-05T17:22:37.276Z"
   },
   {
    "duration": 5,
    "start_time": "2023-06-05T17:22:37.286Z"
   },
   {
    "duration": 11,
    "start_time": "2023-06-05T17:22:37.293Z"
   },
   {
    "duration": 21,
    "start_time": "2023-06-05T17:22:37.306Z"
   },
   {
    "duration": 247,
    "start_time": "2023-06-05T17:22:37.329Z"
   },
   {
    "duration": 6,
    "start_time": "2023-06-05T17:22:37.578Z"
   },
   {
    "duration": 19,
    "start_time": "2023-06-05T17:22:37.585Z"
   },
   {
    "duration": 18,
    "start_time": "2023-06-05T17:22:37.606Z"
   },
   {
    "duration": 1053,
    "start_time": "2023-06-05T17:22:37.626Z"
   },
   {
    "duration": 6,
    "start_time": "2023-06-05T17:22:38.681Z"
   },
   {
    "duration": 7,
    "start_time": "2023-06-05T17:22:38.690Z"
   },
   {
    "duration": 1626,
    "start_time": "2023-06-05T17:22:38.698Z"
   },
   {
    "duration": 258,
    "start_time": "2023-06-05T17:22:40.326Z"
   },
   {
    "duration": 247,
    "start_time": "2023-06-05T17:22:43.700Z"
   },
   {
    "duration": 299,
    "start_time": "2023-06-05T17:27:10.915Z"
   },
   {
    "duration": 366,
    "start_time": "2023-06-05T17:39:02.592Z"
   },
   {
    "duration": 1203,
    "start_time": "2023-06-05T17:39:09.194Z"
   },
   {
    "duration": 51,
    "start_time": "2023-06-05T17:39:10.400Z"
   },
   {
    "duration": 25,
    "start_time": "2023-06-05T17:39:10.453Z"
   },
   {
    "duration": 27,
    "start_time": "2023-06-05T17:39:10.480Z"
   },
   {
    "duration": 15,
    "start_time": "2023-06-05T17:39:10.509Z"
   },
   {
    "duration": 994,
    "start_time": "2023-06-05T17:39:10.526Z"
   },
   {
    "duration": 242,
    "start_time": "2023-06-05T17:39:11.521Z"
   },
   {
    "duration": 192,
    "start_time": "2023-06-05T17:39:11.765Z"
   },
   {
    "duration": 243,
    "start_time": "2023-06-05T17:39:11.959Z"
   },
   {
    "duration": 159,
    "start_time": "2023-06-05T17:39:12.204Z"
   },
   {
    "duration": 4,
    "start_time": "2023-06-05T17:39:12.365Z"
   },
   {
    "duration": 25,
    "start_time": "2023-06-05T17:39:12.372Z"
   },
   {
    "duration": 12,
    "start_time": "2023-06-05T17:39:12.399Z"
   },
   {
    "duration": 20,
    "start_time": "2023-06-05T17:39:12.415Z"
   },
   {
    "duration": 19,
    "start_time": "2023-06-05T17:39:12.437Z"
   },
   {
    "duration": 7,
    "start_time": "2023-06-05T17:39:12.458Z"
   },
   {
    "duration": 14,
    "start_time": "2023-06-05T17:39:12.466Z"
   },
   {
    "duration": 10,
    "start_time": "2023-06-05T17:39:12.482Z"
   },
   {
    "duration": 7,
    "start_time": "2023-06-05T17:39:12.494Z"
   },
   {
    "duration": 9,
    "start_time": "2023-06-05T17:39:12.502Z"
   },
   {
    "duration": 19,
    "start_time": "2023-06-05T17:39:12.513Z"
   },
   {
    "duration": 224,
    "start_time": "2023-06-05T17:39:12.534Z"
   },
   {
    "duration": 6,
    "start_time": "2023-06-05T17:39:12.760Z"
   },
   {
    "duration": 13,
    "start_time": "2023-06-05T17:39:12.768Z"
   },
   {
    "duration": 15,
    "start_time": "2023-06-05T17:39:12.782Z"
   },
   {
    "duration": 1015,
    "start_time": "2023-06-05T17:39:12.799Z"
   },
   {
    "duration": 7,
    "start_time": "2023-06-05T17:39:13.817Z"
   },
   {
    "duration": 21,
    "start_time": "2023-06-05T17:39:13.826Z"
   },
   {
    "duration": 1514,
    "start_time": "2023-06-05T17:39:13.860Z"
   },
   {
    "duration": 248,
    "start_time": "2023-06-05T17:39:15.377Z"
   },
   {
    "duration": 382,
    "start_time": "2023-06-05T17:39:15.629Z"
   },
   {
    "duration": 252,
    "start_time": "2023-06-05T17:42:12.922Z"
   },
   {
    "duration": 1247,
    "start_time": "2023-06-05T17:43:49.069Z"
   },
   {
    "duration": 54,
    "start_time": "2023-06-05T17:43:50.318Z"
   },
   {
    "duration": 18,
    "start_time": "2023-06-05T17:43:50.374Z"
   },
   {
    "duration": 21,
    "start_time": "2023-06-05T17:43:50.394Z"
   },
   {
    "duration": 10,
    "start_time": "2023-06-05T17:43:50.417Z"
   },
   {
    "duration": 764,
    "start_time": "2023-06-05T17:43:50.429Z"
   },
   {
    "duration": 263,
    "start_time": "2023-06-05T17:43:51.195Z"
   },
   {
    "duration": 179,
    "start_time": "2023-06-05T17:43:51.461Z"
   },
   {
    "duration": 239,
    "start_time": "2023-06-05T17:43:51.642Z"
   },
   {
    "duration": 175,
    "start_time": "2023-06-05T17:43:51.883Z"
   },
   {
    "duration": 3,
    "start_time": "2023-06-05T17:43:52.060Z"
   },
   {
    "duration": 22,
    "start_time": "2023-06-05T17:43:52.066Z"
   },
   {
    "duration": 19,
    "start_time": "2023-06-05T17:43:52.092Z"
   },
   {
    "duration": 11,
    "start_time": "2023-06-05T17:43:52.113Z"
   },
   {
    "duration": 7,
    "start_time": "2023-06-05T17:43:52.126Z"
   },
   {
    "duration": 27,
    "start_time": "2023-06-05T17:43:52.135Z"
   },
   {
    "duration": 6,
    "start_time": "2023-06-05T17:43:52.164Z"
   },
   {
    "duration": 12,
    "start_time": "2023-06-05T17:43:52.172Z"
   },
   {
    "duration": 21,
    "start_time": "2023-06-05T17:43:52.186Z"
   },
   {
    "duration": 5,
    "start_time": "2023-06-05T17:43:52.210Z"
   },
   {
    "duration": 24,
    "start_time": "2023-06-05T17:43:52.217Z"
   },
   {
    "duration": 241,
    "start_time": "2023-06-05T17:43:52.243Z"
   },
   {
    "duration": 9,
    "start_time": "2023-06-05T17:43:52.486Z"
   },
   {
    "duration": 9,
    "start_time": "2023-06-05T17:43:52.496Z"
   },
   {
    "duration": 12,
    "start_time": "2023-06-05T17:43:52.506Z"
   },
   {
    "duration": 1029,
    "start_time": "2023-06-05T17:43:52.520Z"
   },
   {
    "duration": 9,
    "start_time": "2023-06-05T17:43:53.551Z"
   },
   {
    "duration": 22,
    "start_time": "2023-06-05T17:43:53.562Z"
   },
   {
    "duration": 1465,
    "start_time": "2023-06-05T17:43:53.585Z"
   },
   {
    "duration": 255,
    "start_time": "2023-06-05T17:43:55.052Z"
   },
   {
    "duration": 375,
    "start_time": "2023-06-05T17:43:55.309Z"
   },
   {
    "duration": 479,
    "start_time": "2023-06-05T17:43:55.686Z"
   },
   {
    "duration": 12,
    "start_time": "2023-06-05T17:43:56.167Z"
   },
   {
    "duration": 43,
    "start_time": "2023-06-05T17:43:56.180Z"
   },
   {
    "duration": 32,
    "start_time": "2023-06-05T17:43:56.225Z"
   },
   {
    "duration": 8,
    "start_time": "2023-06-05T17:43:56.259Z"
   },
   {
    "duration": 315,
    "start_time": "2023-06-05T17:43:56.269Z"
   },
   {
    "duration": 298,
    "start_time": "2023-06-05T17:43:56.587Z"
   },
   {
    "duration": 4,
    "start_time": "2023-06-05T17:43:56.888Z"
   },
   {
    "duration": 334,
    "start_time": "2023-06-05T17:43:56.896Z"
   },
   {
    "duration": 11,
    "start_time": "2023-06-05T17:43:57.232Z"
   },
   {
    "duration": 5,
    "start_time": "2023-06-05T17:43:57.258Z"
   },
   {
    "duration": 5,
    "start_time": "2023-06-05T17:43:57.264Z"
   },
   {
    "duration": 8,
    "start_time": "2023-06-05T17:43:57.271Z"
   },
   {
    "duration": 5,
    "start_time": "2023-06-05T17:43:57.281Z"
   },
   {
    "duration": 14,
    "start_time": "2023-06-05T17:43:57.288Z"
   },
   {
    "duration": 9,
    "start_time": "2023-06-05T17:43:57.303Z"
   },
   {
    "duration": 4,
    "start_time": "2023-06-05T17:43:57.313Z"
   },
   {
    "duration": 37,
    "start_time": "2023-06-05T17:43:57.319Z"
   },
   {
    "duration": 5,
    "start_time": "2023-06-05T17:43:57.358Z"
   },
   {
    "duration": 119,
    "start_time": "2023-06-05T17:44:40.457Z"
   },
   {
    "duration": 1306,
    "start_time": "2023-06-05T17:49:07.847Z"
   },
   {
    "duration": 51,
    "start_time": "2023-06-05T17:49:09.156Z"
   },
   {
    "duration": 22,
    "start_time": "2023-06-05T17:49:09.209Z"
   },
   {
    "duration": 19,
    "start_time": "2023-06-05T17:49:09.234Z"
   },
   {
    "duration": 10,
    "start_time": "2023-06-05T17:49:09.256Z"
   },
   {
    "duration": 122,
    "start_time": "2023-06-05T19:07:19.120Z"
   },
   {
    "duration": 1562,
    "start_time": "2023-06-05T19:07:53.311Z"
   },
   {
    "duration": 234,
    "start_time": "2023-06-05T19:07:54.875Z"
   },
   {
    "duration": 25,
    "start_time": "2023-06-05T19:07:55.111Z"
   },
   {
    "duration": 20,
    "start_time": "2023-06-05T19:07:55.144Z"
   },
   {
    "duration": 29,
    "start_time": "2023-06-05T19:07:55.169Z"
   },
   {
    "duration": 791,
    "start_time": "2023-06-05T19:07:55.199Z"
   },
   {
    "duration": 258,
    "start_time": "2023-06-05T19:07:55.992Z"
   },
   {
    "duration": 169,
    "start_time": "2023-06-05T19:07:56.252Z"
   },
   {
    "duration": 153,
    "start_time": "2023-06-05T19:07:56.423Z"
   },
   {
    "duration": 266,
    "start_time": "2023-06-05T19:07:56.578Z"
   },
   {
    "duration": 4,
    "start_time": "2023-06-05T19:07:56.847Z"
   },
   {
    "duration": 26,
    "start_time": "2023-06-05T19:07:56.853Z"
   },
   {
    "duration": 20,
    "start_time": "2023-06-05T19:07:56.881Z"
   },
   {
    "duration": 16,
    "start_time": "2023-06-05T19:07:56.904Z"
   },
   {
    "duration": 21,
    "start_time": "2023-06-05T19:07:56.922Z"
   },
   {
    "duration": 14,
    "start_time": "2023-06-05T19:07:56.945Z"
   },
   {
    "duration": 12,
    "start_time": "2023-06-05T19:07:56.961Z"
   },
   {
    "duration": 15,
    "start_time": "2023-06-05T19:07:56.975Z"
   },
   {
    "duration": 28,
    "start_time": "2023-06-05T19:07:56.992Z"
   },
   {
    "duration": 29,
    "start_time": "2023-06-05T19:07:57.022Z"
   },
   {
    "duration": 31,
    "start_time": "2023-06-05T19:07:57.052Z"
   },
   {
    "duration": 235,
    "start_time": "2023-06-05T19:07:57.084Z"
   },
   {
    "duration": 20,
    "start_time": "2023-06-05T19:07:57.321Z"
   },
   {
    "duration": 13,
    "start_time": "2023-06-05T19:07:57.344Z"
   },
   {
    "duration": 18,
    "start_time": "2023-06-05T19:07:57.359Z"
   },
   {
    "duration": 1034,
    "start_time": "2023-06-05T19:07:57.379Z"
   },
   {
    "duration": 12,
    "start_time": "2023-06-05T19:07:58.414Z"
   },
   {
    "duration": 24,
    "start_time": "2023-06-05T19:07:58.427Z"
   },
   {
    "duration": 1620,
    "start_time": "2023-06-05T19:07:58.453Z"
   },
   {
    "duration": 266,
    "start_time": "2023-06-05T19:08:00.075Z"
   },
   {
    "duration": 258,
    "start_time": "2023-06-05T19:08:00.343Z"
   },
   {
    "duration": 640,
    "start_time": "2023-06-05T19:08:00.602Z"
   },
   {
    "duration": 14,
    "start_time": "2023-06-05T19:08:01.245Z"
   },
   {
    "duration": 81,
    "start_time": "2023-06-05T19:08:01.261Z"
   },
   {
    "duration": 7,
    "start_time": "2023-06-05T19:08:01.344Z"
   },
   {
    "duration": 26,
    "start_time": "2023-06-05T19:08:01.353Z"
   },
   {
    "duration": 330,
    "start_time": "2023-06-05T19:08:01.380Z"
   },
   {
    "duration": 356,
    "start_time": "2023-06-05T19:08:01.712Z"
   },
   {
    "duration": 6,
    "start_time": "2023-06-05T19:08:02.070Z"
   },
   {
    "duration": 328,
    "start_time": "2023-06-05T19:08:02.077Z"
   },
   {
    "duration": 28,
    "start_time": "2023-06-05T19:08:02.408Z"
   },
   {
    "duration": 19,
    "start_time": "2023-06-05T19:08:02.443Z"
   },
   {
    "duration": 37,
    "start_time": "2023-06-05T19:08:02.464Z"
   },
   {
    "duration": 40,
    "start_time": "2023-06-05T19:08:02.502Z"
   },
   {
    "duration": 5,
    "start_time": "2023-06-05T19:08:02.544Z"
   },
   {
    "duration": 23,
    "start_time": "2023-06-05T19:08:02.551Z"
   },
   {
    "duration": 15,
    "start_time": "2023-06-05T19:08:02.576Z"
   },
   {
    "duration": 13,
    "start_time": "2023-06-05T19:08:02.593Z"
   },
   {
    "duration": 31,
    "start_time": "2023-06-05T19:08:02.608Z"
   },
   {
    "duration": 12,
    "start_time": "2023-06-05T19:08:02.640Z"
   }
  ],
  "kernelspec": {
   "display_name": "Python 3 (ipykernel)",
   "language": "python",
   "name": "python3"
  },
  "language_info": {
   "codemirror_mode": {
    "name": "ipython",
    "version": 3
   },
   "file_extension": ".py",
   "mimetype": "text/x-python",
   "name": "python",
   "nbconvert_exporter": "python",
   "pygments_lexer": "ipython3",
   "version": "3.9.13"
  },
  "toc": {
   "base_numbering": 1,
   "nav_menu": {
    "height": "394px",
    "width": "383px"
   },
   "number_sections": true,
   "sideBar": true,
   "skip_h1_title": true,
   "title_cell": "Table of Contents",
   "title_sidebar": "Contents",
   "toc_cell": false,
   "toc_position": {
    "height": "calc(100% - 180px)",
    "left": "10px",
    "top": "150px",
    "width": "502.391px"
   },
   "toc_section_display": true,
   "toc_window_display": false
  }
 },
 "nbformat": 4,
 "nbformat_minor": 2
}
